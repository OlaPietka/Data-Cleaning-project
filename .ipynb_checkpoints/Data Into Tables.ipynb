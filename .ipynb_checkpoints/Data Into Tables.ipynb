{
 "cells": [
  {
   "cell_type": "code",
   "execution_count": 2,
   "id": "9b600e57",
   "metadata": {},
   "outputs": [],
   "source": [
    "import pandas as pd\n",
    "data = pd.read_csv('data_full.csv')"
   ]
  },
  {
   "cell_type": "code",
   "execution_count": 36,
   "id": "17d06cb6",
   "metadata": {},
   "outputs": [],
   "source": [
    "data['person_ID'] = range(1, len(person_table) + 1)"
   ]
  },
  {
   "cell_type": "code",
   "execution_count": 37,
   "id": "e75119a6",
   "metadata": {},
   "outputs": [],
   "source": [
    "currency_table = data[['currency', 'USD_rate']].copy()\n",
    "currency_table = currency_table.drop_duplicates()\n",
    "currency_table['currency_ID'] = range(1, len(currency_table) + 1)"
   ]
  },
  {
   "cell_type": "code",
   "execution_count": 38,
   "id": "56c55a41",
   "metadata": {},
   "outputs": [],
   "source": [
    "place_table = data[['continent', 'country', 'state', 'city', 'lat', 'long']].copy()\n",
    "place_table = place_table.drop_duplicates()\n",
    "place_table['place_ID'] = range(1, len(place_table) + 1)"
   ]
  },
  {
   "cell_type": "code",
   "execution_count": 39,
   "id": "f32d0ef1",
   "metadata": {},
   "outputs": [],
   "source": [
    "position_table = data[['job_title_clean', 'industry_clean']].copy()\n",
    "position_table = position_table.rename(columns={\"job_title_clean\": \"job_title\", \"industry_clean\": \"industry\"})\n",
    "position_table = position_table.drop_duplicates()\n",
    "position_table['position_ID'] = range(1, len(position_table) + 1)"
   ]
  },
  {
   "cell_type": "code",
   "execution_count": 41,
   "id": "22ad30b1",
   "metadata": {},
   "outputs": [],
   "source": [
    "person_table = data[['person_ID', 'gender', 'gender_idx', 'race', 'race_idx', 'education', 'education_lvl', 'age', 'age_min', 'age_max', 'total_experience', 'total_experience_min', 'total_experience_max', 'current_experience', 'current_experience_min', 'current_experience_max']].copy()\n",
    "#person_table = person_table.drop_duplicates()"
   ]
  },
  {
   "cell_type": "code",
   "execution_count": 46,
   "id": "b9f75fa2",
   "metadata": {},
   "outputs": [],
   "source": [
    "temp_data = pd.merge(data, place_table, on=['lat', 'long'])"
   ]
  },
  {
   "cell_type": "code",
   "execution_count": 64,
   "id": "c3b01dc7",
   "metadata": {},
   "outputs": [],
   "source": [
    "position_table_ = position_table.rename(columns={\"job_title\": \"job_title_clean\", \"industry\": \"industry_clean\"})\n",
    "temp_data_pos = pd.merge(temp_data, position_table_, on=['industry_clean', 'job_title_clean'])"
   ]
  },
  {
   "cell_type": "code",
   "execution_count": 68,
   "id": "5f9a9390",
   "metadata": {},
   "outputs": [],
   "source": [
    "currency_table_ = currency_table.rename(columns={\"name\": \"currency\"})\n",
    "temp_data_joined = pd.merge(temp_data_pos, currency_table_, on=['currency'])"
   ]
  },
  {
   "cell_type": "code",
   "execution_count": 74,
   "id": "9397bad6",
   "metadata": {},
   "outputs": [],
   "source": [
    "employee_table = temp_data_joined[['person_ID', 'place_ID', 'position_ID', 'annual_salary', 'annual_salary_USD', 'additional_salary', 'additional_salary_USD', 'total_salary', 'total_salary_USD', 'currency_ID']].copy()"
   ]
  },
  {
   "cell_type": "code",
   "execution_count": 76,
   "id": "f2999f7f",
   "metadata": {},
   "outputs": [],
   "source": [
    "person_table.to_csv(\"person_table.csv\", index = False)\n",
    "position_table.to_csv(\"position_table.csv\", index = False)\n",
    "place_table.to_csv(\"place_table.csv\", index = False)\n",
    "currency_table.to_csv(\"currency_table.csv\", index = False)\n",
    "employee_table.to_csv(\"employee_table.csv\", index = False)"
   ]
  }
 ],
 "metadata": {
  "kernelspec": {
   "display_name": "Python 3",
   "language": "python",
   "name": "python3"
  },
  "language_info": {
   "codemirror_mode": {
    "name": "ipython",
    "version": 3
   },
   "file_extension": ".py",
   "mimetype": "text/x-python",
   "name": "python",
   "nbconvert_exporter": "python",
   "pygments_lexer": "ipython3",
   "version": "3.8.8"
  }
 },
 "nbformat": 4,
 "nbformat_minor": 5
}
