{
 "cells": [
  {
   "cell_type": "markdown",
   "id": "66d9d08a",
   "metadata": {},
   "source": [
    "# Descirpion\n",
    "The purpose of this notebook is to take the csv file as an input and split the data for future SQL tables creation. \n",
    "\n",
    "---"
   ]
  },
  {
   "cell_type": "markdown",
   "id": "bb936cde",
   "metadata": {},
   "source": [
    "# About the data\n",
    "This dataset (Ask A Manager Salary Survey 2021 dataset) contains salary information by industry, age group, location, gender, years of experience, and education level. The data is based on approximately 28k user entered responses.\n",
    "\n",
    "**Features:**\n",
    "- `timestamp` - time when the survey was filed\n",
    "- `age` - Age range of the person\n",
    "- `industry` - Working industry\n",
    "- `job_title` - Job title\n",
    "- `job_context` - Additional context for the job title\n",
    "- `annual_salary` - Annual salary\n",
    "- `additional_salary` - Additional monetary compensation\n",
    "- `currency` - Salary currency\n",
    "- `currency_context` - Other currency\n",
    "- `salary_context` - Additional context for salary\n",
    "- `country` -  Country in which person is working\n",
    "- `state` - State in which person is working\n",
    "- `city` - City in which person is working\n",
    "- `total_experience` -  Year  range of total work experience\n",
    "- `current_experience` - Year range of current field  work experience\n",
    "- `education` - Highest level of education completed\n",
    "- `gender` - Gender of the person\n",
    "- `race` - Race of the person"
   ]
  },
  {
   "cell_type": "markdown",
   "id": "f457633c",
   "metadata": {},
   "source": [
    "# Reading the file"
   ]
  },
  {
   "cell_type": "code",
   "execution_count": 1,
   "id": "bafd5006",
   "metadata": {},
   "outputs": [],
   "source": [
    "import pandas as pd\n",
    "\n",
    "data = pd.read_csv('C:/Users/wiewi/Desktop/Coding/JupiterNootbook/Data/salary_responses_clean.csv')"
   ]
  },
  {
   "cell_type": "code",
   "execution_count": 2,
   "id": "c76b59fd",
   "metadata": {},
   "outputs": [
    {
     "name": "stdout",
     "output_type": "stream",
     "text": [
      "<class 'pandas.core.frame.DataFrame'>\n",
      "RangeIndex: 27848 entries, 0 to 27847\n",
      "Data columns (total 18 columns):\n",
      " #   Column              Non-Null Count  Dtype  \n",
      "---  ------              --------------  -----  \n",
      " 0   timestamp           27848 non-null  object \n",
      " 1   age                 27848 non-null  object \n",
      " 2   industry            27778 non-null  object \n",
      " 3   job_title           27848 non-null  object \n",
      " 4   job_context         7204 non-null   object \n",
      " 5   annual_salary       27848 non-null  int64  \n",
      " 6   additional_salary   20634 non-null  float64\n",
      " 7   currency            27848 non-null  object \n",
      " 8   currency_context    191 non-null    object \n",
      " 9   salary_context      3026 non-null   object \n",
      " 10  country             27848 non-null  object \n",
      " 11  state               22894 non-null  object \n",
      " 12  city                27773 non-null  object \n",
      " 13  total_experience    27848 non-null  object \n",
      " 14  current_experience  27848 non-null  object \n",
      " 15  education           27638 non-null  object \n",
      " 16  gender              27683 non-null  object \n",
      " 17  race                27684 non-null  object \n",
      "dtypes: float64(1), int64(1), object(16)\n",
      "memory usage: 3.8+ MB\n"
     ]
    }
   ],
   "source": [
    "data.info()"
   ]
  },
  {
   "cell_type": "markdown",
   "id": "784f33f5",
   "metadata": {},
   "source": [
    "# Categorical data\n",
    "Let's handle the categorical data first.\n",
    "\n",
    "**Categorical features include:**\n",
    "- `age`\n",
    "- `total_experience`\n",
    "- `current_experience`\n",
    "- `education`\n",
    "- `gender`\n",
    "\n",
    "\n",
    "*The `state`, `race` and `currency` attributes can also be considered categorical, but more cleaning need to be done. We will leave it for now.*"
   ]
  },
  {
   "cell_type": "markdown",
   "id": "7423d78a",
   "metadata": {},
   "source": [
    "## Age"
   ]
  },
  {
   "cell_type": "code",
   "execution_count": 3,
   "id": "b09ba254",
   "metadata": {},
   "outputs": [
    {
     "data": {
      "text/plain": [
       "25-34         12562\n",
       "35-44          9853\n",
       "45-54          3171\n",
       "18-24          1173\n",
       "55-64           986\n",
       "65 or over       92\n",
       "under 18         11\n",
       "Name: age, dtype: int64"
      ]
     },
     "execution_count": 3,
     "metadata": {},
     "output_type": "execute_result"
    }
   ],
   "source": [
    "data['age'].value_counts()"
   ]
  },
  {
   "cell_type": "code",
   "execution_count": 4,
   "id": "58ff56e7",
   "metadata": {},
   "outputs": [
    {
     "data": {
      "text/plain": [
       "0"
      ]
     },
     "execution_count": 4,
     "metadata": {},
     "output_type": "execute_result"
    }
   ],
   "source": [
    "data['age'].isnull().sum()"
   ]
  },
  {
   "cell_type": "markdown",
   "id": "2f45f3f7",
   "metadata": {},
   "source": [
    "Lets create new columns `age_min` and `age_max` so we could more easily analyze the data."
   ]
  },
  {
   "cell_type": "code",
   "execution_count": 5,
   "id": "a474da8c",
   "metadata": {},
   "outputs": [],
   "source": [
    "import numpy as np"
   ]
  },
  {
   "cell_type": "code",
   "execution_count": 6,
   "id": "47c59ec6",
   "metadata": {},
   "outputs": [],
   "source": [
    "def age_range_to_min(row):\n",
    "    age_range = row['age']\n",
    "    \n",
    "    if '-' in age_range:\n",
    "        age_min = age_range.split('-')[0]\n",
    "    elif 'over' in age_range:\n",
    "        age_min = age_range.split()[0]\n",
    "    elif 'under' in age_range:\n",
    "        return np.nan\n",
    "    \n",
    "    return int(age_min)\n",
    "\n",
    "def age_range_to_max(row):\n",
    "    age_range = row['age']\n",
    "    \n",
    "    if '-' in age_range:\n",
    "        age_max = age_range.split('-')[1]\n",
    "    elif 'over' in age_range:\n",
    "        return np.nan\n",
    "    elif 'under' in age_range:\n",
    "        age_max = age_range.split()[-1]\n",
    "    \n",
    "    return int(age_max)"
   ]
  },
  {
   "cell_type": "code",
   "execution_count": 7,
   "id": "5c8b1176",
   "metadata": {},
   "outputs": [],
   "source": [
    "data['age_min'] = data.apply(lambda row: age_range_to_min(row), axis=1)\n",
    "data['age_max'] = data.apply(lambda row: age_range_to_max(row), axis=1)"
   ]
  },
  {
   "cell_type": "markdown",
   "id": "c4e5da6c",
   "metadata": {},
   "source": [
    "## Experience\n",
    "Same goes for `total_experience` and `current_experience` attributes."
   ]
  },
  {
   "cell_type": "code",
   "execution_count": 8,
   "id": "91162427",
   "metadata": {},
   "outputs": [
    {
     "data": {
      "text/plain": [
       "11 - 20 years       9579\n",
       "8 - 10 years        5348\n",
       "5-7 years           4843\n",
       "21 - 30 years       3617\n",
       "2 - 4 years         2974\n",
       "31 - 40 years        863\n",
       "1 year or less       504\n",
       "41 years or more     120\n",
       "Name: total_experience, dtype: int64"
      ]
     },
     "execution_count": 8,
     "metadata": {},
     "output_type": "execute_result"
    }
   ],
   "source": [
    "data['total_experience'].value_counts()"
   ]
  },
  {
   "cell_type": "code",
   "execution_count": 9,
   "id": "f507e361",
   "metadata": {},
   "outputs": [
    {
     "data": {
      "text/plain": [
       "0"
      ]
     },
     "execution_count": 9,
     "metadata": {},
     "output_type": "execute_result"
    }
   ],
   "source": [
    "data['total_experience'].isnull().sum()"
   ]
  },
  {
   "cell_type": "code",
   "execution_count": 10,
   "id": "713db506",
   "metadata": {},
   "outputs": [],
   "source": [
    "def experience_range_to_min(row, attribute):\n",
    "    total_exp_range = row[attribute]\n",
    "    \n",
    "    if '-' in total_exp_range:\n",
    "        total_exp_min = total_exp_range.strip().split('-')[0]\n",
    "    elif 'more' in total_exp_range:\n",
    "        total_exp_min = total_exp_range.split()[0]\n",
    "    elif 'less' in total_exp_range:\n",
    "        return np.nan\n",
    "    \n",
    "    return int(total_exp_min)\n",
    "\n",
    "def experience_range_to_max(row, attribute):\n",
    "    total_exp_range = row[attribute]\n",
    "    \n",
    "    if '-' in total_exp_range:\n",
    "        total_exp_max = total_exp_range.strip().replace('years', '').split('-')[1]\n",
    "    elif 'more' in total_exp_range:\n",
    "        return np.nan\n",
    "    elif 'less' in total_exp_range:\n",
    "        total_exp_max = total_exp_range.split()[0]\n",
    "    \n",
    "    return int(total_exp_max)"
   ]
  },
  {
   "cell_type": "code",
   "execution_count": 11,
   "id": "589dfe42",
   "metadata": {},
   "outputs": [],
   "source": [
    "data['total_experience_min'] = data.apply(lambda row: experience_range_to_min(row, 'total_experience'), axis=1)\n",
    "data['total_experience_max'] = data.apply(lambda row: experience_range_to_max(row, 'total_experience'), axis=1)"
   ]
  },
  {
   "cell_type": "code",
   "execution_count": 12,
   "id": "9653d7e9",
   "metadata": {},
   "outputs": [
    {
     "data": {
      "text/plain": [
       "11 - 20 years       6514\n",
       "5-7 years           6485\n",
       "2 - 4 years         6187\n",
       "8 - 10 years        4945\n",
       "21 - 30 years       1863\n",
       "1 year or less      1438\n",
       "31 - 40 years        378\n",
       "41 years or more      38\n",
       "Name: current_experience, dtype: int64"
      ]
     },
     "execution_count": 12,
     "metadata": {},
     "output_type": "execute_result"
    }
   ],
   "source": [
    "data['current_experience'].value_counts()"
   ]
  },
  {
   "cell_type": "code",
   "execution_count": 13,
   "id": "fb22a294",
   "metadata": {},
   "outputs": [],
   "source": [
    "data['current_experience_min'] = data.apply(lambda row: experience_range_to_min(row, 'current_experience'), axis=1)\n",
    "data['current_experience_max'] = data.apply(lambda row: experience_range_to_max(row, 'current_experience'), axis=1)"
   ]
  },
  {
   "cell_type": "markdown",
   "id": "01cedca2",
   "metadata": {},
   "source": [
    "## Education"
   ]
  },
  {
   "cell_type": "code",
   "execution_count": 14,
   "id": "994c64e7",
   "metadata": {},
   "outputs": [
    {
     "data": {
      "text/plain": [
       "College degree                        13414\n",
       "Master's degree                        8814\n",
       "Some college                           2039\n",
       "PhD                                    1420\n",
       "Professional degree (MD, JD, etc.)     1319\n",
       "High School                             632\n",
       "Name: education, dtype: int64"
      ]
     },
     "execution_count": 14,
     "metadata": {},
     "output_type": "execute_result"
    }
   ],
   "source": [
    "data['education'].value_counts()"
   ]
  },
  {
   "cell_type": "markdown",
   "id": "f8472e68",
   "metadata": {},
   "source": [
    "Clean up naming:"
   ]
  },
  {
   "cell_type": "code",
   "execution_count": 15,
   "id": "ea0b76f2",
   "metadata": {},
   "outputs": [],
   "source": [
    "data['education'].replace({\"Professional degree (MD, JD, etc.)\": \"Professional degree\"}, inplace=True)"
   ]
  },
  {
   "cell_type": "markdown",
   "id": "8375fe2f",
   "metadata": {},
   "source": [
    "It would be nice to have some kind of knowledge about the actual \"level\" of education (e.g. 0 - High school, 1 - Some college, etc.). Lets map those values to their level:"
   ]
  },
  {
   "cell_type": "code",
   "execution_count": 16,
   "id": "ed0aad48",
   "metadata": {},
   "outputs": [],
   "source": [
    "data['education_lvl'] = data['education'].map({'High School': 1, 'Some college': 2, 'College degree': 3, \"Master's degree\": 4, 'Professional degree': 5})"
   ]
  },
  {
   "cell_type": "code",
   "execution_count": 17,
   "id": "e2366f1c",
   "metadata": {},
   "outputs": [
    {
     "data": {
      "text/html": [
       "<div>\n",
       "<style scoped>\n",
       "    .dataframe tbody tr th:only-of-type {\n",
       "        vertical-align: middle;\n",
       "    }\n",
       "\n",
       "    .dataframe tbody tr th {\n",
       "        vertical-align: top;\n",
       "    }\n",
       "\n",
       "    .dataframe thead th {\n",
       "        text-align: right;\n",
       "    }\n",
       "</style>\n",
       "<table border=\"1\" class=\"dataframe\">\n",
       "  <thead>\n",
       "    <tr style=\"text-align: right;\">\n",
       "      <th></th>\n",
       "      <th>education</th>\n",
       "      <th>education_lvl</th>\n",
       "    </tr>\n",
       "  </thead>\n",
       "  <tbody>\n",
       "    <tr>\n",
       "      <th>0</th>\n",
       "      <td>Master's degree</td>\n",
       "      <td>4.0</td>\n",
       "    </tr>\n",
       "    <tr>\n",
       "      <th>1</th>\n",
       "      <td>College degree</td>\n",
       "      <td>3.0</td>\n",
       "    </tr>\n",
       "    <tr>\n",
       "      <th>2</th>\n",
       "      <td>College degree</td>\n",
       "      <td>3.0</td>\n",
       "    </tr>\n",
       "    <tr>\n",
       "      <th>3</th>\n",
       "      <td>College degree</td>\n",
       "      <td>3.0</td>\n",
       "    </tr>\n",
       "    <tr>\n",
       "      <th>4</th>\n",
       "      <td>College degree</td>\n",
       "      <td>3.0</td>\n",
       "    </tr>\n",
       "  </tbody>\n",
       "</table>\n",
       "</div>"
      ],
      "text/plain": [
       "         education  education_lvl\n",
       "0  Master's degree            4.0\n",
       "1   College degree            3.0\n",
       "2   College degree            3.0\n",
       "3   College degree            3.0\n",
       "4   College degree            3.0"
      ]
     },
     "execution_count": 17,
     "metadata": {},
     "output_type": "execute_result"
    }
   ],
   "source": [
    "data[['education', 'education_lvl']].head()"
   ]
  },
  {
   "cell_type": "markdown",
   "id": "4e6d219d",
   "metadata": {},
   "source": [
    "## Gender"
   ]
  },
  {
   "cell_type": "code",
   "execution_count": 18,
   "id": "6c0eaa7e",
   "metadata": {},
   "outputs": [
    {
     "data": {
      "text/plain": [
       "Woman                            21256\n",
       "Man                               5398\n",
       "Non-binary                         739\n",
       "Other or prefer not to answer      289\n",
       "Prefer not to answer                 1\n",
       "Name: gender, dtype: int64"
      ]
     },
     "execution_count": 18,
     "metadata": {},
     "output_type": "execute_result"
    }
   ],
   "source": [
    "data['gender'].value_counts()"
   ]
  },
  {
   "cell_type": "markdown",
   "id": "e94b0815",
   "metadata": {},
   "source": [
    "Clean up naming:"
   ]
  },
  {
   "cell_type": "code",
   "execution_count": 19,
   "id": "c3523b85",
   "metadata": {},
   "outputs": [],
   "source": [
    "data['gender'].replace({\"Other or prefer not to answer\": \"Other\"}, inplace=True)"
   ]
  },
  {
   "cell_type": "markdown",
   "id": "fdaee12b",
   "metadata": {},
   "source": [
    "Lets create some kind of mapping so it could be easier to use in SQL queries:"
   ]
  },
  {
   "cell_type": "code",
   "execution_count": 20,
   "id": "b2ce14ea",
   "metadata": {},
   "outputs": [],
   "source": [
    "data['gender_idx'] = data['gender'].map({'Woman': 1, 'Man': 2, 'Non-binary': 3, \"Other\": 4})"
   ]
  },
  {
   "cell_type": "code",
   "execution_count": 21,
   "id": "fea66c81",
   "metadata": {},
   "outputs": [
    {
     "data": {
      "text/html": [
       "<div>\n",
       "<style scoped>\n",
       "    .dataframe tbody tr th:only-of-type {\n",
       "        vertical-align: middle;\n",
       "    }\n",
       "\n",
       "    .dataframe tbody tr th {\n",
       "        vertical-align: top;\n",
       "    }\n",
       "\n",
       "    .dataframe thead th {\n",
       "        text-align: right;\n",
       "    }\n",
       "</style>\n",
       "<table border=\"1\" class=\"dataframe\">\n",
       "  <thead>\n",
       "    <tr style=\"text-align: right;\">\n",
       "      <th></th>\n",
       "      <th>gender</th>\n",
       "      <th>gender_idx</th>\n",
       "    </tr>\n",
       "  </thead>\n",
       "  <tbody>\n",
       "    <tr>\n",
       "      <th>0</th>\n",
       "      <td>Woman</td>\n",
       "      <td>1.0</td>\n",
       "    </tr>\n",
       "    <tr>\n",
       "      <th>1</th>\n",
       "      <td>Non-binary</td>\n",
       "      <td>3.0</td>\n",
       "    </tr>\n",
       "    <tr>\n",
       "      <th>2</th>\n",
       "      <td>Woman</td>\n",
       "      <td>1.0</td>\n",
       "    </tr>\n",
       "    <tr>\n",
       "      <th>3</th>\n",
       "      <td>Woman</td>\n",
       "      <td>1.0</td>\n",
       "    </tr>\n",
       "    <tr>\n",
       "      <th>4</th>\n",
       "      <td>Woman</td>\n",
       "      <td>1.0</td>\n",
       "    </tr>\n",
       "  </tbody>\n",
       "</table>\n",
       "</div>"
      ],
      "text/plain": [
       "       gender  gender_idx\n",
       "0       Woman         1.0\n",
       "1  Non-binary         3.0\n",
       "2       Woman         1.0\n",
       "3       Woman         1.0\n",
       "4       Woman         1.0"
      ]
     },
     "execution_count": 21,
     "metadata": {},
     "output_type": "execute_result"
    }
   ],
   "source": [
    "data[['gender', 'gender_idx']].head()"
   ]
  },
  {
   "cell_type": "code",
   "execution_count": 22,
   "id": "ece7d532",
   "metadata": {},
   "outputs": [
    {
     "name": "stdout",
     "output_type": "stream",
     "text": [
      "<class 'pandas.core.frame.DataFrame'>\n",
      "RangeIndex: 27848 entries, 0 to 27847\n",
      "Data columns (total 26 columns):\n",
      " #   Column                  Non-Null Count  Dtype  \n",
      "---  ------                  --------------  -----  \n",
      " 0   timestamp               27848 non-null  object \n",
      " 1   age                     27848 non-null  object \n",
      " 2   industry                27778 non-null  object \n",
      " 3   job_title               27848 non-null  object \n",
      " 4   job_context             7204 non-null   object \n",
      " 5   annual_salary           27848 non-null  int64  \n",
      " 6   additional_salary       20634 non-null  float64\n",
      " 7   currency                27848 non-null  object \n",
      " 8   currency_context        191 non-null    object \n",
      " 9   salary_context          3026 non-null   object \n",
      " 10  country                 27848 non-null  object \n",
      " 11  state                   22894 non-null  object \n",
      " 12  city                    27773 non-null  object \n",
      " 13  total_experience        27848 non-null  object \n",
      " 14  current_experience      27848 non-null  object \n",
      " 15  education               27638 non-null  object \n",
      " 16  gender                  27683 non-null  object \n",
      " 17  race                    27684 non-null  object \n",
      " 18  age_min                 27837 non-null  float64\n",
      " 19  age_max                 27756 non-null  float64\n",
      " 20  total_experience_min    27344 non-null  float64\n",
      " 21  total_experience_max    27728 non-null  float64\n",
      " 22  current_experience_min  26410 non-null  float64\n",
      " 23  current_experience_max  27810 non-null  float64\n",
      " 24  education_lvl           26218 non-null  float64\n",
      " 25  gender_idx              27682 non-null  float64\n",
      "dtypes: float64(9), int64(1), object(16)\n",
      "memory usage: 5.5+ MB\n"
     ]
    }
   ],
   "source": [
    "data.info()"
   ]
  },
  {
   "cell_type": "markdown",
   "id": "6daa648f",
   "metadata": {},
   "source": [
    "# Text data\n",
    "Let's handle the text data.\n",
    "\n",
    "**Text features include:**\n",
    "- `industry`\n",
    "- `job_title`\n",
    "- `job_context`\n",
    "- `salary_context`"
   ]
  },
  {
   "cell_type": "markdown",
   "id": "f4a4afac",
   "metadata": {},
   "source": [
    "## Context\n",
    "Both `salary_context` and `job_context` features have too much information. It is basically a plain text provided by the user. As it does not help our analysis, we decided to drop those columns."
   ]
  },
  {
   "cell_type": "code",
   "execution_count": 23,
   "id": "d8488c46",
   "metadata": {},
   "outputs": [],
   "source": [
    "data.drop(labels=['salary_context', 'job_context'], axis=1, inplace=True)"
   ]
  },
  {
   "cell_type": "markdown",
   "id": "d667104b",
   "metadata": {},
   "source": [
    "## Industry and job title"
   ]
  },
  {
   "cell_type": "code",
   "execution_count": 24,
   "id": "6ebc988f",
   "metadata": {},
   "outputs": [
    {
     "data": {
      "text/plain": [
       "Software Engineer                     286\n",
       "Project Manager                       229\n",
       "Director                              198\n",
       "Senior Software Engineer              196\n",
       "Program Manager                       151\n",
       "                                     ... \n",
       "Direct response digital copywriter      1\n",
       "VP of Sales                             1\n",
       "Research and Development Engineer       1\n",
       "data associate                          1\n",
       "Manager, research and strategy          1\n",
       "Name: job_title, Length: 14248, dtype: int64"
      ]
     },
     "execution_count": 24,
     "metadata": {},
     "output_type": "execute_result"
    }
   ],
   "source": [
    "data['job_title'].value_counts()"
   ]
  },
  {
   "cell_type": "markdown",
   "id": "db543321",
   "metadata": {},
   "source": [
    "# Currency\n",
    "Here we have a little bit more work to do. The currency of the salary is defined by the `currency` attribute, but sometimes it can be also defined by the `currency_context`. We need to clean those 2 columns and merge them into one. "
   ]
  },
  {
   "cell_type": "markdown",
   "id": "410d60ee",
   "metadata": {},
   "source": [
    "## Merge columns "
   ]
  },
  {
   "cell_type": "code",
   "execution_count": 25,
   "id": "cf242638",
   "metadata": {},
   "outputs": [
    {
     "data": {
      "text/html": [
       "<div>\n",
       "<style scoped>\n",
       "    .dataframe tbody tr th:only-of-type {\n",
       "        vertical-align: middle;\n",
       "    }\n",
       "\n",
       "    .dataframe tbody tr th {\n",
       "        vertical-align: top;\n",
       "    }\n",
       "\n",
       "    .dataframe thead th {\n",
       "        text-align: right;\n",
       "    }\n",
       "</style>\n",
       "<table border=\"1\" class=\"dataframe\">\n",
       "  <thead>\n",
       "    <tr style=\"text-align: right;\">\n",
       "      <th></th>\n",
       "      <th>currency</th>\n",
       "      <th>currency_context</th>\n",
       "    </tr>\n",
       "  </thead>\n",
       "  <tbody>\n",
       "    <tr>\n",
       "      <th>0</th>\n",
       "      <td>USD</td>\n",
       "      <td>NaN</td>\n",
       "    </tr>\n",
       "    <tr>\n",
       "      <th>1</th>\n",
       "      <td>GBP</td>\n",
       "      <td>NaN</td>\n",
       "    </tr>\n",
       "    <tr>\n",
       "      <th>2</th>\n",
       "      <td>USD</td>\n",
       "      <td>NaN</td>\n",
       "    </tr>\n",
       "    <tr>\n",
       "      <th>3</th>\n",
       "      <td>USD</td>\n",
       "      <td>NaN</td>\n",
       "    </tr>\n",
       "    <tr>\n",
       "      <th>4</th>\n",
       "      <td>USD</td>\n",
       "      <td>NaN</td>\n",
       "    </tr>\n",
       "    <tr>\n",
       "      <th>...</th>\n",
       "      <td>...</td>\n",
       "      <td>...</td>\n",
       "    </tr>\n",
       "    <tr>\n",
       "      <th>27843</th>\n",
       "      <td>USD</td>\n",
       "      <td>NaN</td>\n",
       "    </tr>\n",
       "    <tr>\n",
       "      <th>27844</th>\n",
       "      <td>AUD/NZD</td>\n",
       "      <td>NaN</td>\n",
       "    </tr>\n",
       "    <tr>\n",
       "      <th>27845</th>\n",
       "      <td>USD</td>\n",
       "      <td>NaN</td>\n",
       "    </tr>\n",
       "    <tr>\n",
       "      <th>27846</th>\n",
       "      <td>Other</td>\n",
       "      <td>NGN</td>\n",
       "    </tr>\n",
       "    <tr>\n",
       "      <th>27847</th>\n",
       "      <td>USD</td>\n",
       "      <td>NaN</td>\n",
       "    </tr>\n",
       "  </tbody>\n",
       "</table>\n",
       "<p>27848 rows × 2 columns</p>\n",
       "</div>"
      ],
      "text/plain": [
       "      currency currency_context\n",
       "0          USD              NaN\n",
       "1          GBP              NaN\n",
       "2          USD              NaN\n",
       "3          USD              NaN\n",
       "4          USD              NaN\n",
       "...        ...              ...\n",
       "27843      USD              NaN\n",
       "27844  AUD/NZD              NaN\n",
       "27845      USD              NaN\n",
       "27846    Other              NGN\n",
       "27847      USD              NaN\n",
       "\n",
       "[27848 rows x 2 columns]"
      ]
     },
     "execution_count": 25,
     "metadata": {},
     "output_type": "execute_result"
    }
   ],
   "source": [
    "data[['currency', 'currency_context']]"
   ]
  },
  {
   "cell_type": "code",
   "execution_count": 26,
   "id": "cb098300",
   "metadata": {},
   "outputs": [
    {
     "data": {
      "text/plain": [
       "USD        23214\n",
       "CAD         1659\n",
       "GBP         1578\n",
       "EUR          632\n",
       "AUD/NZD      500\n",
       "Other        150\n",
       "SEK           37\n",
       "CHF           37\n",
       "JPY           23\n",
       "ZAR           14\n",
       "HKD            4\n",
       "Name: currency, dtype: int64"
      ]
     },
     "execution_count": 26,
     "metadata": {},
     "output_type": "execute_result"
    }
   ],
   "source": [
    "data['currency'].value_counts()"
   ]
  },
  {
   "cell_type": "code",
   "execution_count": 27,
   "id": "12a885a2",
   "metadata": {},
   "outputs": [
    {
     "data": {
      "text/plain": [
       "USD                             11\n",
       "NOK                             10\n",
       "INR                              9\n",
       "MYR                              8\n",
       "DKK                              8\n",
       "                                ..\n",
       "SGD                              1\n",
       "SAR                              1\n",
       "up to 12% annual bonus           1\n",
       "PLN (Polish zloty)               1\n",
       "Additonal = Bonus plus stock     1\n",
       "Name: currency_context, Length: 114, dtype: int64"
      ]
     },
     "execution_count": 27,
     "metadata": {},
     "output_type": "execute_result"
    }
   ],
   "source": [
    "data['currency_context'].value_counts()"
   ]
  },
  {
   "cell_type": "markdown",
   "id": "229cf0c0",
   "metadata": {},
   "source": [
    "As we can see, when the `currency` feature has value of 'Other', then the currency is defined by `currency_context`. Lets clean this up"
   ]
  },
  {
   "cell_type": "code",
   "execution_count": 29,
   "id": "ef2c2eda",
   "metadata": {},
   "outputs": [],
   "source": [
    "data['currency'] = np.where(data[\"currency\"] == \"Other\", data['currency_context'], data[\"currency\"])"
   ]
  },
  {
   "cell_type": "code",
   "execution_count": 30,
   "id": "6bff08c6",
   "metadata": {},
   "outputs": [],
   "source": [
    "data.drop(labels=['currency_context'], axis=1, inplace=True)"
   ]
  },
  {
   "cell_type": "code",
   "execution_count": 31,
   "id": "105e22c4",
   "metadata": {},
   "outputs": [
    {
     "data": {
      "text/plain": [
       "AUD/NZD                     500\n",
       "ILS/NIS                       1\n",
       "Mexican pesos                 1\n",
       "Australian Dollars            1\n",
       "PLN (Polish zloty)            1\n",
       "Peso Argentino                1\n",
       "SGD                           1\n",
       "KRW (Korean Won)              1\n",
       "Israeli Shekels               1\n",
       "IDR                           1\n",
       "US Dollar                     1\n",
       "Danish Kroner                 1\n",
       "PLN (Zwoty)                   1\n",
       "AUD Australian                1\n",
       "Euro                          1\n",
       "Indian rupees                 1\n",
       "INR (Indian Rupee)            1\n",
       "American Dollars              1\n",
       "ILS (Shekel)                  1\n",
       "Korean Won                    1\n",
       "Argentine Peso                1\n",
       "DKK                           1\n",
       "croatian kuna                 1\n",
       "RMB (chinese yuan)            1\n",
       "Taiwanese dollars             1\n",
       "Equity                        1\n",
       "Polish Złoty                  1\n",
       "Argentinian peso (ARS)        1\n",
       "Philippine peso (PHP)         1\n",
       "THAI  BAHT                    1\n",
       "Thai Baht                     1\n",
       "czech crowns                  1\n",
       "Mexican Pesos                 1\n",
       "Philippine Peso               1\n",
       "NIS (new Israeli shekel)      1\n",
       "Rupees                        1\n",
       "Norwegian kroner (NOK)        1\n",
       "PhP (Philippine Peso)         1\n",
       "Philippine Pesos              1\n",
       "BRL (R$)                      1\n",
       "Singapore Dollara             1\n",
       "China RMB                     1\n",
       "Name: currency, dtype: int64"
      ]
     },
     "execution_count": 31,
     "metadata": {},
     "output_type": "execute_result"
    }
   ],
   "source": [
    "data['currency'][data['currency'].str.len() > 3].value_counts()"
   ]
  },
  {
   "cell_type": "markdown",
   "id": "0579ca0a",
   "metadata": {},
   "source": [
    "## USD rate\n",
    "To have a consistent analysis for the salary values, we need to have only one currency (e.g. USD)."
   ]
  },
  {
   "cell_type": "code",
   "execution_count": 32,
   "id": "ea3fd79b",
   "metadata": {},
   "outputs": [
    {
     "name": "stdout",
     "output_type": "stream",
     "text": [
      "Requirement already satisfied: forex_python in c:\\users\\wiewi\\appdata\\local\\programs\\python\\python37\\lib\\site-packages (1.8)\n",
      "Requirement already satisfied: requests in c:\\users\\wiewi\\appdata\\roaming\\python\\python37\\site-packages (from forex_python) (2.24.0)\n",
      "Requirement already satisfied: simplejson in c:\\users\\wiewi\\appdata\\local\\programs\\python\\python37\\lib\\site-packages (from forex_python) (3.17.6)\n",
      "Requirement already satisfied: idna<3,>=2.5 in c:\\users\\wiewi\\appdata\\roaming\\python\\python37\\site-packages (from requests->forex_python) (2.10)\n",
      "Requirement already satisfied: certifi>=2017.4.17 in c:\\users\\wiewi\\appdata\\local\\programs\\python\\python37\\lib\\site-packages (from requests->forex_python) (2020.6.20)\n",
      "Requirement already satisfied: urllib3!=1.25.0,!=1.25.1,<1.26,>=1.21.1 in c:\\users\\wiewi\\appdata\\roaming\\python\\python37\\site-packages (from requests->forex_python) (1.25.10)\n",
      "Requirement already satisfied: chardet<4,>=3.0.2 in c:\\users\\wiewi\\appdata\\roaming\\python\\python37\\site-packages (from requests->forex_python) (3.0.4)\n"
     ]
    },
    {
     "name": "stderr",
     "output_type": "stream",
     "text": [
      "WARNING: You are using pip version 20.1.1; however, version 22.2 is available.\n",
      "You should consider upgrading via the 'c:\\users\\wiewi\\appdata\\local\\programs\\python\\python37\\python.exe -m pip install --upgrade pip' command.\n"
     ]
    }
   ],
   "source": [
    "!pip install forex_python\n",
    "from forex_python.converter import CurrencyRates"
   ]
  },
  {
   "cell_type": "code",
   "execution_count": 33,
   "id": "3bed0e29",
   "metadata": {},
   "outputs": [],
   "source": [
    "currency_rates = CurrencyRates()"
   ]
  },
  {
   "cell_type": "code",
   "execution_count": 56,
   "id": "c9a5556a",
   "metadata": {},
   "outputs": [],
   "source": [
    "from datetime import timedelta\n",
    "\n",
    "\n",
    "def to_USD_rate(row):\n",
    "    currency = row['currency']\n",
    "    datatime = pd.to_datetime(row['timestamp'])\n",
    "    \n",
    "    if currency == 'AUD/NZD':\n",
    "        country = row['country']\n",
    "        if country == 'Australia':\n",
    "            currency = 'AUD'\n",
    "        else:\n",
    "            currency = 'NZD'\n",
    "        \n",
    "    try:\n",
    "        rate = currency_rates.get_rate(currency, 'USD', datatime)\n",
    "    except:\n",
    "        rate = -1\n",
    "                                \n",
    "    currency_map[currency] = rate\n",
    "    \n",
    "    return rate"
   ]
  },
  {
   "cell_type": "code",
   "execution_count": 57,
   "id": "9d413814",
   "metadata": {},
   "outputs": [],
   "source": [
    "data['USD_rate'] = data.apply(lambda row: to_USD_rate(row), axis=1)"
   ]
  },
  {
   "cell_type": "code",
   "execution_count": 58,
   "id": "c2020468",
   "metadata": {},
   "outputs": [
    {
     "data": {
      "text/html": [
       "<div>\n",
       "<style scoped>\n",
       "    .dataframe tbody tr th:only-of-type {\n",
       "        vertical-align: middle;\n",
       "    }\n",
       "\n",
       "    .dataframe tbody tr th {\n",
       "        vertical-align: top;\n",
       "    }\n",
       "\n",
       "    .dataframe thead th {\n",
       "        text-align: right;\n",
       "    }\n",
       "</style>\n",
       "<table border=\"1\" class=\"dataframe\">\n",
       "  <thead>\n",
       "    <tr style=\"text-align: right;\">\n",
       "      <th></th>\n",
       "      <th>currency</th>\n",
       "      <th>USD_rate</th>\n",
       "    </tr>\n",
       "  </thead>\n",
       "  <tbody>\n",
       "    <tr>\n",
       "      <th>0</th>\n",
       "      <td>USD</td>\n",
       "      <td>1.000000</td>\n",
       "    </tr>\n",
       "    <tr>\n",
       "      <th>1</th>\n",
       "      <td>GBP</td>\n",
       "      <td>1.391104</td>\n",
       "    </tr>\n",
       "    <tr>\n",
       "      <th>2</th>\n",
       "      <td>USD</td>\n",
       "      <td>1.000000</td>\n",
       "    </tr>\n",
       "    <tr>\n",
       "      <th>3</th>\n",
       "      <td>USD</td>\n",
       "      <td>1.000000</td>\n",
       "    </tr>\n",
       "    <tr>\n",
       "      <th>4</th>\n",
       "      <td>USD</td>\n",
       "      <td>1.000000</td>\n",
       "    </tr>\n",
       "    <tr>\n",
       "      <th>...</th>\n",
       "      <td>...</td>\n",
       "      <td>...</td>\n",
       "    </tr>\n",
       "    <tr>\n",
       "      <th>27843</th>\n",
       "      <td>USD</td>\n",
       "      <td>1.000000</td>\n",
       "    </tr>\n",
       "    <tr>\n",
       "      <th>27844</th>\n",
       "      <td>AUD/NZD</td>\n",
       "      <td>0.778214</td>\n",
       "    </tr>\n",
       "    <tr>\n",
       "      <th>27845</th>\n",
       "      <td>USD</td>\n",
       "      <td>1.000000</td>\n",
       "    </tr>\n",
       "    <tr>\n",
       "      <th>27846</th>\n",
       "      <td>NGN</td>\n",
       "      <td>-1.000000</td>\n",
       "    </tr>\n",
       "    <tr>\n",
       "      <th>27847</th>\n",
       "      <td>USD</td>\n",
       "      <td>1.000000</td>\n",
       "    </tr>\n",
       "  </tbody>\n",
       "</table>\n",
       "<p>27848 rows × 2 columns</p>\n",
       "</div>"
      ],
      "text/plain": [
       "      currency  USD_rate\n",
       "0          USD  1.000000\n",
       "1          GBP  1.391104\n",
       "2          USD  1.000000\n",
       "3          USD  1.000000\n",
       "4          USD  1.000000\n",
       "...        ...       ...\n",
       "27843      USD  1.000000\n",
       "27844  AUD/NZD  0.778214\n",
       "27845      USD  1.000000\n",
       "27846      NGN -1.000000\n",
       "27847      USD  1.000000\n",
       "\n",
       "[27848 rows x 2 columns]"
      ]
     },
     "execution_count": 58,
     "metadata": {},
     "output_type": "execute_result"
    }
   ],
   "source": [
    "data[['currency', 'USD_rate']]"
   ]
  },
  {
   "cell_type": "code",
   "execution_count": 60,
   "id": "7cdeded5",
   "metadata": {},
   "outputs": [
    {
     "data": {
      "text/plain": [
       "603                Peso Argentino\n",
       "2639                          BR$\n",
       "4264                          TTD\n",
       "4499                Indian rupees\n",
       "4780                     BRL (R$)\n",
       "4971                Mexican pesos\n",
       "6765                          Bdt\n",
       "7402             American Dollars\n",
       "7739           PLN (Polish zloty)\n",
       "7953                 czech crowns\n",
       "8437       Norwegian kroner (NOK)\n",
       "8650                      ILS/NIS\n",
       "9344                          NaN\n",
       "9410                    US Dollar\n",
       "9847     NIS (new Israeli shekel)\n",
       "9955           RMB (chinese yuan)\n",
       "10374           Taiwanese dollars\n",
       "10904             Philippine Peso\n",
       "11234            KRW (Korean Won)\n",
       "11454                        IDR \n",
       "11719                ILS (Shekel)\n",
       "11737                        DKK \n",
       "11760                   China RMB\n",
       "11824             AUD Australian \n",
       "11913                         LKR\n",
       "12248                Polish Złoty\n",
       "12650       Philippine peso (PHP)\n",
       "13218         Australian Dollars \n",
       "14915                      Equity\n",
       "16210                         ARS\n",
       "16395      Argentinian peso (ARS)\n",
       "16627             Israeli Shekels\n",
       "17113       PhP (Philippine Peso)\n",
       "18662                         SAR\n",
       "18843                         NaN\n",
       "18882                         NaN\n",
       "18904                         NaN\n",
       "18930                          RM\n",
       "19250              Argentine Peso\n",
       "19323            Philippine Pesos\n",
       "21322          INR (Indian Rupee)\n",
       "21350                         NTD\n",
       "21545               Danish Kroner\n",
       "22871                 Korean Won \n",
       "24198                        Euro\n",
       "24843                        SGD \n",
       "24884                         NTD\n",
       "24949               Mexican Pesos\n",
       "25548                  THAI  BAHT\n",
       "26424                  Thai Baht \n",
       "26747                         ARS\n",
       "27191               croatian kuna\n",
       "27216                 PLN (Zwoty)\n",
       "27800                      Rupees\n",
       "27834           Singapore Dollara\n",
       "27846                         NGN\n",
       "Name: currency, dtype: object"
      ]
     },
     "execution_count": 60,
     "metadata": {},
     "output_type": "execute_result"
    }
   ],
   "source": [
    "data['currency'][data['USD_rate'] == -1]"
   ]
  },
  {
   "cell_type": "markdown",
   "id": "452fccb4",
   "metadata": {},
   "source": [
    "# Numeric data\n",
    "Lets handle numeric data now.\n",
    "\n",
    "**Numeric features include:**\n",
    "- `annual_salary`\n",
    "- `additional_salary`"
   ]
  },
  {
   "cell_type": "markdown",
   "id": "dd85fbee",
   "metadata": {},
   "source": [
    "## Annual salary"
   ]
  },
  {
   "cell_type": "code",
   "execution_count": null,
   "id": "ad565b1c",
   "metadata": {},
   "outputs": [],
   "source": [
    "data['annual_salary']"
   ]
  }
 ],
 "metadata": {
  "kernelspec": {
   "display_name": "Python 3",
   "language": "python",
   "name": "python3"
  },
  "language_info": {
   "codemirror_mode": {
    "name": "ipython",
    "version": 3
   },
   "file_extension": ".py",
   "mimetype": "text/x-python",
   "name": "python",
   "nbconvert_exporter": "python",
   "pygments_lexer": "ipython3",
   "version": "3.7.9"
  }
 },
 "nbformat": 4,
 "nbformat_minor": 5
}
