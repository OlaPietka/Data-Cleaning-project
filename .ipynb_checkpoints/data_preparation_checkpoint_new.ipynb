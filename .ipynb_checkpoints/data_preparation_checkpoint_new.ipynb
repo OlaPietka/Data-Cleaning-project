{
 "cells": [
  {
   "cell_type": "markdown",
   "id": "66d9d08a",
   "metadata": {},
   "source": [
    "# Descirpion\n",
    "The purpose of this notebook is to take the \"cleaned\" csv file as an input, and then further refine/split the data for future SQL tables creation. \n",
    "\n",
    "---"
   ]
  },
  {
   "cell_type": "markdown",
   "id": "bb936cde",
   "metadata": {},
   "source": [
    "# About the data\n",
    "This dataset (Ask A Manager Salary Survey 2021 dataset) contains salary information by industry, age group, location, gender, years of experience, and education level. The data is based on approximately 28k user entered responses.\n",
    "\n",
    "**Features:**\n",
    "- `timestamp` - time when the survey was filed\n",
    "- `age` - Age range of the person\n",
    "- `industry` - Working industry\n",
    "- `job_title` - Job title\n",
    "- `job_context` - Additional context for the job title\n",
    "- `annual_salary` - Annual salary\n",
    "- `additional_salary` - Additional monetary compensation\n",
    "- `currency` - Salary currency\n",
    "- `currency_context` - Other currency\n",
    "- `salary_context` - Additional context for salary\n",
    "- `country` -  Country in which person is working\n",
    "- `state` - State in which person is working\n",
    "- `city` - City in which person is working\n",
    "- `total_experience` -  Year  range of total work experience\n",
    "- `current_experience` - Year range of current field  work experience\n",
    "- `education` - Highest level of education completed\n",
    "- `gender` - Gender of the person\n",
    "- `race` - Race of the person"
   ]
  },
  {
   "cell_type": "markdown",
   "id": "f457633c",
   "metadata": {},
   "source": [
    "# Reading the file"
   ]
  },
  {
   "cell_type": "code",
   "execution_count": 3,
   "id": "bafd5006",
   "metadata": {},
   "outputs": [],
   "source": [
    "import pandas as pd\n",
    "data = pd.read_csv('data_full.csv')\n",
    "#data = pd.read_csv('Data/salary_responses_clean.csv')"
   ]
  },
  {
   "cell_type": "code",
   "execution_count": 4,
   "id": "c76b59fd",
   "metadata": {},
   "outputs": [
    {
     "name": "stdout",
     "output_type": "stream",
     "text": [
      "<class 'pandas.core.frame.DataFrame'>\n",
      "RangeIndex: 27844 entries, 0 to 27843\n",
      "Data columns (total 36 columns):\n",
      " #   Column                  Non-Null Count  Dtype  \n",
      "---  ------                  --------------  -----  \n",
      " 0   timestamp               27844 non-null  object \n",
      " 1   age                     27844 non-null  object \n",
      " 2   industry                27774 non-null  object \n",
      " 3   job_title               27844 non-null  object \n",
      " 4   annual_salary           27844 non-null  int64  \n",
      " 5   additional_salary       20632 non-null  float64\n",
      " 6   currency                27836 non-null  object \n",
      " 7   country                 27818 non-null  object \n",
      " 8   state                   22198 non-null  object \n",
      " 9   city                    27238 non-null  object \n",
      " 10  total_experience        27844 non-null  object \n",
      " 11  current_experience      27844 non-null  object \n",
      " 12  education               27634 non-null  object \n",
      " 13  gender                  27679 non-null  object \n",
      " 14  race                    27680 non-null  object \n",
      " 15  age_min                 27833 non-null  float64\n",
      " 16  age_max                 27752 non-null  float64\n",
      " 17  total_experience_min    27340 non-null  float64\n",
      " 18  total_experience_max    27724 non-null  float64\n",
      " 19  current_experience_min  26407 non-null  float64\n",
      " 20  current_experience_max  27806 non-null  float64\n",
      " 21  education_lvl           26214 non-null  float64\n",
      " 22  gender_idx              27679 non-null  float64\n",
      " 23  continent               27818 non-null  object \n",
      " 24  lat_long                27074 non-null  object \n",
      " 25  lat                     27074 non-null  float64\n",
      " 26  long                    27074 non-null  float64\n",
      " 27  USD_rate                27836 non-null  float64\n",
      " 28  annual_salary_USD       27832 non-null  float64\n",
      " 29  additional_salary_USD   20628 non-null  float64\n",
      " 30  total_salary_USD        27844 non-null  float64\n",
      " 31  race_idx                27680 non-null  object \n",
      " 32  index                   27844 non-null  int64  \n",
      " 33  job_title_clean         27844 non-null  object \n",
      " 34  industry_clean          27774 non-null  object \n",
      " 35  total_salary            27844 non-null  float64\n",
      "dtypes: float64(16), int64(2), object(18)\n",
      "memory usage: 7.6+ MB\n"
     ]
    }
   ],
   "source": [
    "data.info()"
   ]
  },
  {
   "cell_type": "markdown",
   "id": "784f33f5",
   "metadata": {},
   "source": [
    "# Categorical data\n",
    "Let's handle the categorical data first.\n",
    "\n",
    "**Categorical features include:**\n",
    "- `age`\n",
    "- `total_experience`\n",
    "- `current_experience`\n",
    "- `education`\n",
    "- `gender`\n",
    "\n",
    "\n",
    "*The `state`, `race` and `currency` attributes can also be considered categorical, but more cleaning need to be done. We will leave it for now.*"
   ]
  },
  {
   "cell_type": "markdown",
   "id": "7423d78a",
   "metadata": {},
   "source": [
    "## Age"
   ]
  },
  {
   "cell_type": "code",
   "execution_count": 5,
   "id": "b09ba254",
   "metadata": {},
   "outputs": [
    {
     "data": {
      "text/plain": [
       "25-34         12561\n",
       "35-44          9852\n",
       "45-54          3171\n",
       "18-24          1173\n",
       "55-64           984\n",
       "65 or over       92\n",
       "under 18         11\n",
       "Name: age, dtype: int64"
      ]
     },
     "execution_count": 5,
     "metadata": {},
     "output_type": "execute_result"
    }
   ],
   "source": [
    "data['age'].value_counts()"
   ]
  },
  {
   "cell_type": "code",
   "execution_count": 6,
   "id": "58ff56e7",
   "metadata": {},
   "outputs": [
    {
     "data": {
      "text/plain": [
       "0"
      ]
     },
     "execution_count": 6,
     "metadata": {},
     "output_type": "execute_result"
    }
   ],
   "source": [
    "data['age'].isnull().sum()"
   ]
  },
  {
   "cell_type": "markdown",
   "id": "2f45f3f7",
   "metadata": {},
   "source": [
    "Lets create new columns `age_min` and `age_max` so we could more easily analyze the data."
   ]
  },
  {
   "cell_type": "code",
   "execution_count": 7,
   "id": "a474da8c",
   "metadata": {},
   "outputs": [],
   "source": [
    "import numpy as np"
   ]
  },
  {
   "cell_type": "code",
   "execution_count": 8,
   "id": "47c59ec6",
   "metadata": {},
   "outputs": [],
   "source": [
    "def age_range_to_min(row):\n",
    "    age_range = row['age']\n",
    "    \n",
    "    if '-' in age_range:\n",
    "        age_min = age_range.split('-')[0]\n",
    "    elif 'over' in age_range:\n",
    "        age_min = age_range.split()[0]\n",
    "    elif 'under' in age_range:\n",
    "        return np.nan\n",
    "    \n",
    "    return int(age_min)\n",
    "\n",
    "def age_range_to_max(row):\n",
    "    age_range = row['age']\n",
    "    \n",
    "    if '-' in age_range:\n",
    "        age_max = age_range.split('-')[1]\n",
    "    elif 'over' in age_range:\n",
    "        return np.nan\n",
    "    elif 'under' in age_range:\n",
    "        age_max = age_range.split()[-1]\n",
    "    \n",
    "    return int(age_max)"
   ]
  },
  {
   "cell_type": "code",
   "execution_count": 9,
   "id": "5c8b1176",
   "metadata": {},
   "outputs": [],
   "source": [
    "data['age_min'] = data.apply(lambda row: age_range_to_min(row), axis=1)\n",
    "data['age_max'] = data.apply(lambda row: age_range_to_max(row), axis=1)"
   ]
  },
  {
   "cell_type": "markdown",
   "id": "c4e5da6c",
   "metadata": {},
   "source": [
    "## Experience\n",
    "Same goes for `total_experience` and `current_experience` attributes."
   ]
  },
  {
   "cell_type": "code",
   "execution_count": 10,
   "id": "91162427",
   "metadata": {},
   "outputs": [
    {
     "data": {
      "text/plain": [
       "11 - 20 years       9578\n",
       "8 - 10 years        5347\n",
       "5-7 years           4843\n",
       "21 - 30 years       3616\n",
       "2 - 4 years         2974\n",
       "31 - 40 years        862\n",
       "1 year or less       504\n",
       "41 years or more     120\n",
       "Name: total_experience, dtype: int64"
      ]
     },
     "execution_count": 10,
     "metadata": {},
     "output_type": "execute_result"
    }
   ],
   "source": [
    "data['total_experience'].value_counts()"
   ]
  },
  {
   "cell_type": "code",
   "execution_count": 11,
   "id": "f507e361",
   "metadata": {},
   "outputs": [
    {
     "data": {
      "text/plain": [
       "0"
      ]
     },
     "execution_count": 11,
     "metadata": {},
     "output_type": "execute_result"
    }
   ],
   "source": [
    "data['total_experience'].isnull().sum()"
   ]
  },
  {
   "cell_type": "code",
   "execution_count": 12,
   "id": "713db506",
   "metadata": {},
   "outputs": [],
   "source": [
    "def experience_range_to_min(row, attribute):\n",
    "    total_exp_range = row[attribute]\n",
    "    \n",
    "    if '-' in total_exp_range:\n",
    "        total_exp_min = total_exp_range.strip().split('-')[0]\n",
    "    elif 'more' in total_exp_range:\n",
    "        total_exp_min = total_exp_range.split()[0]\n",
    "    elif 'less' in total_exp_range:\n",
    "        return np.nan\n",
    "    \n",
    "    return int(total_exp_min)\n",
    "\n",
    "def experience_range_to_max(row, attribute):\n",
    "    total_exp_range = row[attribute]\n",
    "    \n",
    "    if '-' in total_exp_range:\n",
    "        total_exp_max = total_exp_range.strip().replace('years', '').split('-')[1]\n",
    "    elif 'more' in total_exp_range:\n",
    "        return np.nan\n",
    "    elif 'less' in total_exp_range:\n",
    "        total_exp_max = total_exp_range.split()[0]\n",
    "    \n",
    "    return int(total_exp_max)"
   ]
  },
  {
   "cell_type": "code",
   "execution_count": 13,
   "id": "589dfe42",
   "metadata": {},
   "outputs": [],
   "source": [
    "data['total_experience_min'] = data.apply(lambda row: experience_range_to_min(row, 'total_experience'), axis=1)\n",
    "data['total_experience_max'] = data.apply(lambda row: experience_range_to_max(row, 'total_experience'), axis=1)"
   ]
  },
  {
   "cell_type": "code",
   "execution_count": 14,
   "id": "9653d7e9",
   "metadata": {},
   "outputs": [
    {
     "data": {
      "text/plain": [
       "11 - 20 years       6513\n",
       "5-7 years           6485\n",
       "2 - 4 years         6187\n",
       "8 - 10 years        4945\n",
       "21 - 30 years       1861\n",
       "1 year or less      1437\n",
       "31 - 40 years        378\n",
       "41 years or more      38\n",
       "Name: current_experience, dtype: int64"
      ]
     },
     "execution_count": 14,
     "metadata": {},
     "output_type": "execute_result"
    }
   ],
   "source": [
    "data['current_experience'].value_counts()"
   ]
  },
  {
   "cell_type": "code",
   "execution_count": 15,
   "id": "fb22a294",
   "metadata": {},
   "outputs": [],
   "source": [
    "data['current_experience_min'] = data.apply(lambda row: experience_range_to_min(row, 'current_experience'), axis=1)\n",
    "data['current_experience_max'] = data.apply(lambda row: experience_range_to_max(row, 'current_experience'), axis=1)"
   ]
  },
  {
   "cell_type": "markdown",
   "id": "01cedca2",
   "metadata": {},
   "source": [
    "## Education"
   ]
  },
  {
   "cell_type": "code",
   "execution_count": 16,
   "id": "994c64e7",
   "metadata": {},
   "outputs": [
    {
     "data": {
      "text/plain": [
       "College degree         13413\n",
       "Master's degree         8812\n",
       "Some college            2038\n",
       "PhD                     1420\n",
       "Professional degree     1319\n",
       "High School              632\n",
       "Name: education, dtype: int64"
      ]
     },
     "execution_count": 16,
     "metadata": {},
     "output_type": "execute_result"
    }
   ],
   "source": [
    "data['education'].value_counts()"
   ]
  },
  {
   "cell_type": "markdown",
   "id": "f8472e68",
   "metadata": {},
   "source": [
    "Clean up naming:"
   ]
  },
  {
   "cell_type": "code",
   "execution_count": 17,
   "id": "ea0b76f2",
   "metadata": {},
   "outputs": [],
   "source": [
    "data['education'].replace({\"Professional degree (MD, JD, etc.)\": \"Professional degree\"}, inplace=True)"
   ]
  },
  {
   "cell_type": "markdown",
   "id": "8375fe2f",
   "metadata": {},
   "source": [
    "It would be nice to have some kind of knowledge about the actual \"level\" of education (e.g. 0 - High school, 1 - Some college, etc.). Lets map those values to their level:"
   ]
  },
  {
   "cell_type": "code",
   "execution_count": 18,
   "id": "ed0aad48",
   "metadata": {},
   "outputs": [],
   "source": [
    "data['education_lvl'] = data['education'].map({'High School': 1, 'Some college': 2, 'College degree': 3, \"Master's degree\": 4, 'Professional degree': 5})"
   ]
  },
  {
   "cell_type": "code",
   "execution_count": 19,
   "id": "e2366f1c",
   "metadata": {},
   "outputs": [
    {
     "data": {
      "text/html": [
       "<div>\n",
       "<style scoped>\n",
       "    .dataframe tbody tr th:only-of-type {\n",
       "        vertical-align: middle;\n",
       "    }\n",
       "\n",
       "    .dataframe tbody tr th {\n",
       "        vertical-align: top;\n",
       "    }\n",
       "\n",
       "    .dataframe thead th {\n",
       "        text-align: right;\n",
       "    }\n",
       "</style>\n",
       "<table border=\"1\" class=\"dataframe\">\n",
       "  <thead>\n",
       "    <tr style=\"text-align: right;\">\n",
       "      <th></th>\n",
       "      <th>education</th>\n",
       "      <th>education_lvl</th>\n",
       "    </tr>\n",
       "  </thead>\n",
       "  <tbody>\n",
       "    <tr>\n",
       "      <th>0</th>\n",
       "      <td>Master's degree</td>\n",
       "      <td>4.0</td>\n",
       "    </tr>\n",
       "    <tr>\n",
       "      <th>1</th>\n",
       "      <td>College degree</td>\n",
       "      <td>3.0</td>\n",
       "    </tr>\n",
       "    <tr>\n",
       "      <th>2</th>\n",
       "      <td>College degree</td>\n",
       "      <td>3.0</td>\n",
       "    </tr>\n",
       "    <tr>\n",
       "      <th>3</th>\n",
       "      <td>College degree</td>\n",
       "      <td>3.0</td>\n",
       "    </tr>\n",
       "    <tr>\n",
       "      <th>4</th>\n",
       "      <td>College degree</td>\n",
       "      <td>3.0</td>\n",
       "    </tr>\n",
       "  </tbody>\n",
       "</table>\n",
       "</div>"
      ],
      "text/plain": [
       "         education  education_lvl\n",
       "0  Master's degree            4.0\n",
       "1   College degree            3.0\n",
       "2   College degree            3.0\n",
       "3   College degree            3.0\n",
       "4   College degree            3.0"
      ]
     },
     "execution_count": 19,
     "metadata": {},
     "output_type": "execute_result"
    }
   ],
   "source": [
    "data[['education', 'education_lvl']].head()"
   ]
  },
  {
   "cell_type": "markdown",
   "id": "4e6d219d",
   "metadata": {},
   "source": [
    "## Gender"
   ]
  },
  {
   "cell_type": "code",
   "execution_count": 20,
   "id": "6c0eaa7e",
   "metadata": {},
   "outputs": [
    {
     "data": {
      "text/plain": [
       "Woman         21254\n",
       "Man            5396\n",
       "Non-binary      739\n",
       "Other           290\n",
       "Name: gender, dtype: int64"
      ]
     },
     "execution_count": 20,
     "metadata": {},
     "output_type": "execute_result"
    }
   ],
   "source": [
    "data['gender'].value_counts()"
   ]
  },
  {
   "cell_type": "markdown",
   "id": "e94b0815",
   "metadata": {},
   "source": [
    "Clean up naming:"
   ]
  },
  {
   "cell_type": "code",
   "execution_count": 21,
   "id": "c3523b85",
   "metadata": {},
   "outputs": [],
   "source": [
    "data['gender'].replace({\"Other or prefer not to answer\": \"Other\"}, inplace=True)"
   ]
  },
  {
   "cell_type": "markdown",
   "id": "fdaee12b",
   "metadata": {},
   "source": [
    "Lets create some kind of mapping so it could be easier to use in SQL queries:"
   ]
  },
  {
   "cell_type": "code",
   "execution_count": 22,
   "id": "b2ce14ea",
   "metadata": {},
   "outputs": [],
   "source": [
    "data['gender_idx'] = data['gender'].map({'Woman': 1, 'Man': 2, 'Non-binary': 3, \"Other\": 4})"
   ]
  },
  {
   "cell_type": "code",
   "execution_count": 23,
   "id": "fea66c81",
   "metadata": {},
   "outputs": [
    {
     "data": {
      "text/html": [
       "<div>\n",
       "<style scoped>\n",
       "    .dataframe tbody tr th:only-of-type {\n",
       "        vertical-align: middle;\n",
       "    }\n",
       "\n",
       "    .dataframe tbody tr th {\n",
       "        vertical-align: top;\n",
       "    }\n",
       "\n",
       "    .dataframe thead th {\n",
       "        text-align: right;\n",
       "    }\n",
       "</style>\n",
       "<table border=\"1\" class=\"dataframe\">\n",
       "  <thead>\n",
       "    <tr style=\"text-align: right;\">\n",
       "      <th></th>\n",
       "      <th>gender</th>\n",
       "      <th>gender_idx</th>\n",
       "    </tr>\n",
       "  </thead>\n",
       "  <tbody>\n",
       "    <tr>\n",
       "      <th>0</th>\n",
       "      <td>Woman</td>\n",
       "      <td>1.0</td>\n",
       "    </tr>\n",
       "    <tr>\n",
       "      <th>1</th>\n",
       "      <td>Non-binary</td>\n",
       "      <td>3.0</td>\n",
       "    </tr>\n",
       "    <tr>\n",
       "      <th>2</th>\n",
       "      <td>Woman</td>\n",
       "      <td>1.0</td>\n",
       "    </tr>\n",
       "    <tr>\n",
       "      <th>3</th>\n",
       "      <td>Woman</td>\n",
       "      <td>1.0</td>\n",
       "    </tr>\n",
       "    <tr>\n",
       "      <th>4</th>\n",
       "      <td>Woman</td>\n",
       "      <td>1.0</td>\n",
       "    </tr>\n",
       "  </tbody>\n",
       "</table>\n",
       "</div>"
      ],
      "text/plain": [
       "       gender  gender_idx\n",
       "0       Woman         1.0\n",
       "1  Non-binary         3.0\n",
       "2       Woman         1.0\n",
       "3       Woman         1.0\n",
       "4       Woman         1.0"
      ]
     },
     "execution_count": 23,
     "metadata": {},
     "output_type": "execute_result"
    }
   ],
   "source": [
    "data[['gender', 'gender_idx']].head()"
   ]
  },
  {
   "cell_type": "code",
   "execution_count": 24,
   "id": "ece7d532",
   "metadata": {},
   "outputs": [
    {
     "name": "stdout",
     "output_type": "stream",
     "text": [
      "<class 'pandas.core.frame.DataFrame'>\n",
      "RangeIndex: 27844 entries, 0 to 27843\n",
      "Data columns (total 36 columns):\n",
      " #   Column                  Non-Null Count  Dtype  \n",
      "---  ------                  --------------  -----  \n",
      " 0   timestamp               27844 non-null  object \n",
      " 1   age                     27844 non-null  object \n",
      " 2   industry                27774 non-null  object \n",
      " 3   job_title               27844 non-null  object \n",
      " 4   annual_salary           27844 non-null  int64  \n",
      " 5   additional_salary       20632 non-null  float64\n",
      " 6   currency                27836 non-null  object \n",
      " 7   country                 27818 non-null  object \n",
      " 8   state                   22198 non-null  object \n",
      " 9   city                    27238 non-null  object \n",
      " 10  total_experience        27844 non-null  object \n",
      " 11  current_experience      27844 non-null  object \n",
      " 12  education               27634 non-null  object \n",
      " 13  gender                  27679 non-null  object \n",
      " 14  race                    27680 non-null  object \n",
      " 15  age_min                 27833 non-null  float64\n",
      " 16  age_max                 27752 non-null  float64\n",
      " 17  total_experience_min    27340 non-null  float64\n",
      " 18  total_experience_max    27724 non-null  float64\n",
      " 19  current_experience_min  26407 non-null  float64\n",
      " 20  current_experience_max  27806 non-null  float64\n",
      " 21  education_lvl           26214 non-null  float64\n",
      " 22  gender_idx              27679 non-null  float64\n",
      " 23  continent               27818 non-null  object \n",
      " 24  lat_long                27074 non-null  object \n",
      " 25  lat                     27074 non-null  float64\n",
      " 26  long                    27074 non-null  float64\n",
      " 27  USD_rate                27836 non-null  float64\n",
      " 28  annual_salary_USD       27832 non-null  float64\n",
      " 29  additional_salary_USD   20628 non-null  float64\n",
      " 30  total_salary_USD        27844 non-null  float64\n",
      " 31  race_idx                27680 non-null  object \n",
      " 32  index                   27844 non-null  int64  \n",
      " 33  job_title_clean         27844 non-null  object \n",
      " 34  industry_clean          27774 non-null  object \n",
      " 35  total_salary            27844 non-null  float64\n",
      "dtypes: float64(16), int64(2), object(18)\n",
      "memory usage: 7.6+ MB\n"
     ]
    }
   ],
   "source": [
    "data.info()"
   ]
  },
  {
   "cell_type": "markdown",
   "id": "8ef09195",
   "metadata": {},
   "source": [
    "# Race\n",
    "Values in `race` column are lists of all races that the user is identifying to (we are dealing with list of strings)."
   ]
  },
  {
   "cell_type": "code",
   "execution_count": 25,
   "id": "48e21f20",
   "metadata": {},
   "outputs": [
    {
     "data": {
      "text/plain": [
       "Asian or Asian American, Hispanic, Latino, or Spanish origin, White, Another option not listed here or prefer not to answer      1\n",
       "Asian or Asian American, Hispanic, Latino, or Spanish origin, Another option not listed here or prefer not to answer             1\n",
       "Asian or Asian American, Middle Eastern or Northern African, White                                                               1\n",
       "Asian or Asian American, Black or African American, Hispanic, Latino, or Spanish origin                                          1\n",
       "Hispanic, Latino, or Spanish origin, Native American or Alaska Native, Another option not listed here or prefer not to answer    1\n",
       "Name: race, dtype: int64"
      ]
     },
     "execution_count": 25,
     "metadata": {},
     "output_type": "execute_result"
    }
   ],
   "source": [
    "data['race'].value_counts().tail()"
   ]
  },
  {
   "cell_type": "markdown",
   "id": "ecebc428",
   "metadata": {},
   "source": [
    "Let's create some mapping so it can be easier to analyze the data."
   ]
  },
  {
   "cell_type": "code",
   "execution_count": 26,
   "id": "f9c086c7",
   "metadata": {},
   "outputs": [],
   "source": [
    "race_map = {\n",
    "    'Asian or Asian American': 1, \n",
    "    'Black or African American': 2, \n",
    "    'Hispanic, Latino, or Spanish origin': 4, \n",
    "    'Middle Eastern or Northern African': 5, \n",
    "    'Native American or Alaska Native': 6, \n",
    "    'White': 7, \n",
    "    \"Another option not listed here or prefer not to answer\": 8 }\n",
    "\n",
    "def map_race_to_index(row):\n",
    "    race = row['race']\n",
    "    \n",
    "    if type(race) != str:\n",
    "        return np.nan\n",
    "    \n",
    "    races = []\n",
    "    for r_key in race_map.keys():\n",
    "        if r_key in race:\n",
    "            races.append(race_map[r_key])\n",
    "    return ','.join([str(r) for r in races])\n",
    "\n",
    "data['race_idx'] = data.apply(lambda row: map_race_to_index(row), axis=1)"
   ]
  },
  {
   "cell_type": "code",
   "execution_count": 27,
   "id": "bce9ab46",
   "metadata": {},
   "outputs": [
    {
     "data": {
      "text/plain": [
       "7          23088\n",
       "1           1374\n",
       "2            666\n",
       "8            618\n",
       "4            588\n",
       "4,7          382\n",
       "1,7          343\n",
       "2,7          123\n",
       "5,7           81\n",
       "5             68\n",
       "6,7           67\n",
       "7,8           65\n",
       "6             42\n",
       "2,4           28\n",
       "1,4           14\n",
       "1,4,7         14\n",
       "2,4,7         11\n",
       "1,8           11\n",
       "4,6           10\n",
       "4,6,7          9\n",
       "1,2            8\n",
       "1,5            7\n",
       "4,8            6\n",
       "1,7,8          6\n",
       "2,6,7          6\n",
       "1,2,7          6\n",
       "2,5,7          5\n",
       "4,5,7          5\n",
       "1,6,7          4\n",
       "2,4,6,7        3\n",
       "5,7,8          2\n",
       "2,8            2\n",
       "4,5            2\n",
       "2,5            2\n",
       "1,6            1\n",
       "1,4,8          1\n",
       "5,6,7          1\n",
       "5,6            1\n",
       "6,8            1\n",
       "6,7,8          1\n",
       "1,2,4          1\n",
       "1,4,7,8        1\n",
       "4,7,8          1\n",
       "2,5,6,7        1\n",
       "4,6,8          1\n",
       "1,5,7          1\n",
       "1,4,6,7        1\n",
       "1,2,6,7        1\n",
       "Name: race_idx, dtype: int64"
      ]
     },
     "execution_count": 27,
     "metadata": {},
     "output_type": "execute_result"
    }
   ],
   "source": [
    "data['race_idx'].value_counts()"
   ]
  },
  {
   "cell_type": "markdown",
   "id": "3f1cda88",
   "metadata": {},
   "source": [
    "# Address attributes"
   ]
  },
  {
   "cell_type": "markdown",
   "id": "a68310fe",
   "metadata": {},
   "source": [
    "## City"
   ]
  },
  {
   "cell_type": "code",
   "execution_count": 28,
   "id": "75a70799",
   "metadata": {},
   "outputs": [
    {
     "data": {
      "text/plain": [
       "New York            1326\n",
       "Washington          1009\n",
       "Boston               872\n",
       "Chicago              870\n",
       "Seattle              760\n",
       "                    ... \n",
       "Hatboro                1\n",
       "Dearborn Heights       1\n",
       "Espoo                  1\n",
       "East Sussex            1\n",
       "Bremen                 1\n",
       "Name: city, Length: 2588, dtype: int64"
      ]
     },
     "execution_count": 28,
     "metadata": {},
     "output_type": "execute_result"
    }
   ],
   "source": [
    "data['city'].value_counts()"
   ]
  },
  {
   "cell_type": "code",
   "execution_count": 29,
   "id": "9a54c956",
   "metadata": {},
   "outputs": [
    {
     "name": "stdout",
     "output_type": "stream",
     "text": [
      "Collecting geopy\n",
      "  Downloading geopy-2.2.0-py3-none-any.whl (118 kB)\n",
      "\u001b[2K     \u001b[90m━━━━━━━━━━━━━━━━━━━━━━━━━━━━━━━━━━━━━━━\u001b[0m \u001b[32m118.9/118.9 KB\u001b[0m \u001b[31m2.0 MB/s\u001b[0m eta \u001b[36m0:00:00\u001b[0ma \u001b[36m0:00:01\u001b[0m\n",
      "\u001b[?25hCollecting geographiclib<2,>=1.49\n",
      "  Downloading geographiclib-1.52-py3-none-any.whl (38 kB)\n",
      "Installing collected packages: geographiclib, geopy\n",
      "Successfully installed geographiclib-1.52 geopy-2.2.0\n",
      "\u001b[33mWARNING: You are using pip version 22.0.4; however, version 22.2.1 is available.\n",
      "You should consider upgrading via the '/Users/alec/opt/anaconda3/bin/python -m pip install --upgrade pip' command.\u001b[0m\u001b[33m\n",
      "\u001b[0m"
     ]
    }
   ],
   "source": [
    "try:\n",
    "    from geopy import Nominatim\n",
    "except:\n",
    "    !pip install geopy\n",
    "    from geopy import Nominatim\n",
    "\n",
    "geolocator = Nominatim(user_agent=\"cs513-final-project\")"
   ]
  },
  {
   "cell_type": "code",
   "execution_count": 30,
   "id": "109a3d30",
   "metadata": {},
   "outputs": [
    {
     "name": "stdout",
     "output_type": "stream",
     "text": [
      "Collecting geotext\n",
      "  Downloading geotext-0.4.0-py2.py3-none-any.whl (2.0 MB)\n",
      "\u001b[2K     \u001b[90m━━━━━━━━━━━━━━━━━━━━━━━━━━━━━━━━━━━━━━━━\u001b[0m \u001b[32m2.0/2.0 MB\u001b[0m \u001b[31m7.9 MB/s\u001b[0m eta \u001b[36m0:00:00\u001b[0m00:01\u001b[0m00:01\u001b[0m\n",
      "\u001b[?25hInstalling collected packages: geotext\n",
      "Successfully installed geotext-0.4.0\n",
      "\u001b[33mWARNING: You are using pip version 22.0.4; however, version 22.2.1 is available.\n",
      "You should consider upgrading via the '/Users/alec/opt/anaconda3/bin/python -m pip install --upgrade pip' command.\u001b[0m\u001b[33m\n",
      "\u001b[0m"
     ]
    }
   ],
   "source": [
    "try:\n",
    "    from geotext import GeoText\n",
    "except:\n",
    "    !pip install geotext\n",
    "    from geotext import GeoText\n",
    "    \n",
    "\n",
    "def get_city_from_text(row):\n",
    "    city = row['city']\n",
    "\n",
    "    if type(city) != str:\n",
    "        return np.nan\n",
    "        \n",
    "    if city.strip().upper() == \"REMOTE\":\n",
    "        return \"Remote\"\n",
    "    \n",
    "    places = GeoText(city)\n",
    "    \n",
    "    if(len(places.cities) > 0):\n",
    "        return places.cities[0]\n",
    "    \n",
    "    location = geolocator.geocode(city, exactly_one=True, addressdetails=True, timeout=10)\n",
    "\n",
    "    if location != None:\n",
    "        location_keys = location.raw['address'].keys()\n",
    "        if \"town\" in location_keys:\n",
    "            return location.raw['address']['town']\n",
    "        elif \"city\" in location_keys:\n",
    "            return location.raw['address']['city']\n",
    "        elif \"hamlet\" in location_keys:\n",
    "            return location.raw['address']['hamlet']\n",
    "        elif \"village\" in location_keys:\n",
    "            return location.raw['address']['village']\n",
    "        elif \"place\" in location_keys:\n",
    "            return location.raw['address']['place']\n",
    "        elif \"municipality\" in location_keys:\n",
    "            return location.raw['address']['municipality']\n",
    "        elif \"township\" in location_keys:\n",
    "            return location.raw['address']['township']\n",
    "        elif \"county\" in location_keys:\n",
    "            return location.raw['address']['county']\n",
    "        \n",
    "    return np.nan "
   ]
  },
  {
   "cell_type": "code",
   "execution_count": null,
   "id": "4fceaec6",
   "metadata": {},
   "outputs": [],
   "source": [
    "data['city'] = data.apply(lambda row: get_city_from_text(row), axis=1)\n",
    "data['city'].value_counts()"
   ]
  },
  {
   "cell_type": "markdown",
   "id": "d4ac302a",
   "metadata": {},
   "source": [
    "## Country"
   ]
  },
  {
   "cell_type": "code",
   "execution_count": null,
   "id": "071ab2ec",
   "metadata": {},
   "outputs": [],
   "source": [
    "try:\n",
    "    import pycountry\n",
    "except:\n",
    "    !pip install pycountry\n",
    "    import pycountry\n",
    "\n",
    "    \n",
    "def get_country_from_text(row):\n",
    "    country = row['country']\n",
    "\n",
    "    if type(country) != str:\n",
    "        return np.nan\n",
    "    \n",
    "    if country.strip().upper() == \"AMERICA\":\n",
    "        return \"United States\"\n",
    "  \n",
    "    places = GeoText(country)\n",
    "    \n",
    "    if(len(places.countries) > 0):\n",
    "        return places.countries[0]\n",
    "    \n",
    "    location = geolocator.geocode(country, exactly_one=True, addressdetails=True, timeout=10)\n",
    "\n",
    "    if location != None:\n",
    "        if \"country\" in location.raw['address'].keys():\n",
    "            country_code = location.raw['address']['country_code']\n",
    "            return pycountry.countries.get(alpha_2=country_code).name\n",
    "    \n",
    "    return np.nan "
   ]
  },
  {
   "cell_type": "code",
   "execution_count": null,
   "id": "93a11ff0",
   "metadata": {},
   "outputs": [],
   "source": [
    "data['country'] = data.apply(lambda row: get_country_from_text(row), axis=1)"
   ]
  },
  {
   "cell_type": "markdown",
   "id": "d3a42884",
   "metadata": {},
   "source": [
    "## State"
   ]
  },
  {
   "cell_type": "markdown",
   "id": "8fadd476",
   "metadata": {},
   "source": [
    "Next, let's examine rows with multiple `state` values and a `city` value containing only one word (not Remote). For each row, we will attempt to match the city to one of the states in the column. To do so, we will use the **geolocator** module"
   ]
  },
  {
   "cell_type": "code",
   "execution_count": null,
   "id": "2c5860e9",
   "metadata": {},
   "outputs": [],
   "source": [
    "try:\n",
    "    from geopy.geocoders import Nominatim   \n",
    "except ImportError:\n",
    "    !pip install geopy\n",
    "    from geopy.geocoders import Nominatim  \n",
    "    \n",
    "    \n",
    "def get_state_from_text(row):\n",
    "    states = row['state']\n",
    "    country = row['country']\n",
    "    city = row['city']\n",
    "    \n",
    "    if type(country) != str or country != \"United States\":\n",
    "        return np.nan\n",
    "    \n",
    "    if type(states) != str:\n",
    "        return np.nan\n",
    "    \n",
    "    if type(city) != str or city == \"Remote\":\n",
    "        return np.nan\n",
    "    \n",
    "    if ',' not in states:\n",
    "        return states\n",
    "    \n",
    "    states = [x.strip() for x in states.split(',')]\n",
    "    \n",
    "    for state in states:\n",
    "        lookup = f\"{city}, {state}, {country}\"\n",
    "        \n",
    "        location = geolocator.geocode(lookup, exactly_one = True, addressdetails = True, timeout=10)\n",
    "\n",
    "        if location != None:\n",
    "            if location.raw['address']['country'] == country:\n",
    "                return location.raw['address']['state']\n",
    "        \n",
    "    return np.nan "
   ]
  },
  {
   "cell_type": "code",
   "execution_count": null,
   "id": "9923209f",
   "metadata": {},
   "outputs": [],
   "source": [
    "data['state'] = data.apply(lambda row: get_state_from_text(row), axis=1)\n",
    "data['state'].value_counts()"
   ]
  },
  {
   "cell_type": "markdown",
   "id": "c5e24417",
   "metadata": {},
   "source": [
    "## Continent\n",
    "Based on country value we can add new attribue `continent`"
   ]
  },
  {
   "cell_type": "code",
   "execution_count": 31,
   "id": "3511a5a5",
   "metadata": {},
   "outputs": [],
   "source": [
    "try:\n",
    "    from pycountry_convert import country_alpha2_to_continent_code, country_name_to_country_alpha2\n",
    "except:\n",
    "    !pip install pycountry-convert\n",
    "    from pycountry_convert import country_alpha2_to_continent_code, country_name_to_country_alpha2\n",
    "\n",
    "    \n",
    "continent_map = {\n",
    "    'AF': 'Africa',\n",
    "    'NA': 'North America',\n",
    "    'OC': 'Oceania',\n",
    "    'AN': 'Antarctica',\n",
    "    'AS': 'Asia',\n",
    "    'EU': 'Europe',\n",
    "    'SA': 'South America',\n",
    "}\n",
    "    \n",
    "    \n",
    "def get_continent_from_country(row):\n",
    "    country = row['country']\n",
    "    \n",
    "    if type(country) != str:\n",
    "        return np.nan\n",
    "    \n",
    "    country_code = country_name_to_country_alpha2(country)\n",
    "    continent_code = country_alpha2_to_continent_code(country_code)\n",
    "    \n",
    "    return continent_map[continent_code]"
   ]
  },
  {
   "cell_type": "code",
   "execution_count": 32,
   "id": "e582301a",
   "metadata": {},
   "outputs": [
    {
     "data": {
      "text/plain": [
       "North America    24732\n",
       "Europe            2363\n",
       "Oceania            518\n",
       "Asia               150\n",
       "Africa              34\n",
       "South America       25\n",
       "Name: continent, dtype: int64"
      ]
     },
     "execution_count": 32,
     "metadata": {},
     "output_type": "execute_result"
    }
   ],
   "source": [
    "data['continent'] = data.apply(lambda row: get_continent_from_country(row), axis=1)\n",
    "data['continent'].value_counts()"
   ]
  },
  {
   "cell_type": "markdown",
   "id": "4ec45ba7",
   "metadata": {},
   "source": [
    "## Latitude, Longitude"
   ]
  },
  {
   "cell_type": "code",
   "execution_count": 33,
   "id": "f5e4eeb6",
   "metadata": {},
   "outputs": [],
   "source": [
    "def get_lat_long_from_full_address(city, country):\n",
    "    if type(city) != str or type(country) != str:\n",
    "        return np.nan\n",
    "    \n",
    "    full_address = f\"{city}, {country}\"\n",
    "    \n",
    "    location = geolocator.geocode(full_address, exactly_one=True, addressdetails=True, timeout=10)\n",
    "    if location != None:\n",
    "        return (location.latitude, location.longitude)\n",
    "    else:\n",
    "        return np.nan"
   ]
  },
  {
   "cell_type": "code",
   "execution_count": 34,
   "id": "ae6f30b9",
   "metadata": {},
   "outputs": [],
   "source": [
    "data['lat_long'] = data.apply(lambda row: get_lat_long_from_full_address(row['city'], row['country']), axis=1)"
   ]
  },
  {
   "cell_type": "code",
   "execution_count": 35,
   "id": "410ec42d",
   "metadata": {},
   "outputs": [],
   "source": [
    "data[['lat', 'long']] = pd.DataFrame(data['lat_long'].tolist(), index=data.index)"
   ]
  },
  {
   "cell_type": "markdown",
   "id": "8e07e6a4",
   "metadata": {},
   "source": [
    "# Text data\n",
    "Let's handle the text data.\n",
    "\n",
    "**Text features include:**\n",
    "- `industry`\n",
    "- `job_title`\n",
    "- `job_context`\n",
    "- `salary_context`"
   ]
  },
  {
   "cell_type": "markdown",
   "id": "dfe5b71f",
   "metadata": {},
   "source": [
    "## Context\n",
    "Both `salary_context` and `job_context` features have too much information. It is basically a plain text provided by the user. As it does not help our analysis, we decided to drop those columns."
   ]
  },
  {
   "cell_type": "code",
   "execution_count": 36,
   "id": "863ff3d9",
   "metadata": {},
   "outputs": [],
   "source": [
    "data.drop(labels=['salary_context', 'job_context'], axis=1, inplace=True)"
   ]
  },
  {
   "cell_type": "markdown",
   "id": "21992505",
   "metadata": {},
   "source": [
    "## Industry and job title"
   ]
  },
  {
   "cell_type": "code",
   "execution_count": 37,
   "id": "bc3ca02e",
   "metadata": {},
   "outputs": [
    {
     "data": {
      "text/plain": [
       "Software Engineer                                             398\n",
       "Project Manager                                               296\n",
       "Senior Software Engineer                                      251\n",
       "Director                                                      225\n",
       "Executive Assistant                                           202\n",
       "                                                             ... \n",
       "Deputy Digital Director                                         1\n",
       "Manager, Digital Advertising Operations                         1\n",
       "Instructor of Marketing                                         1\n",
       "Retention Specialist and Coordinator for Academic Programs      1\n",
       "Personal Lines Manager                                          1\n",
       "Name: job_title, Length: 11705, dtype: int64"
      ]
     },
     "execution_count": 37,
     "metadata": {},
     "output_type": "execute_result"
    }
   ],
   "source": [
    "data['job_title'].value_counts()"
   ]
  },
  {
   "cell_type": "code",
   "execution_count": 38,
   "id": "d3fea5f8",
   "metadata": {},
   "outputs": [
    {
     "data": {
      "text/plain": [
       "Computing or Tech                       4653\n",
       "Education (Higher Education)            2451\n",
       "Nonprofits                              2411\n",
       "Government and Public Administration    1881\n",
       "Health care                             1879\n",
       "                                        ... \n",
       "Video Game Industry                        1\n",
       "Museum (<20 employees)                     1\n",
       "Contract research organisation             1\n",
       "Educational products                       1\n",
       "Online learning                            1\n",
       "Name: industry, Length: 842, dtype: int64"
      ]
     },
     "execution_count": 38,
     "metadata": {},
     "output_type": "execute_result"
    }
   ],
   "source": [
    "data['industry'].value_counts()"
   ]
  },
  {
   "cell_type": "code",
   "execution_count": 351,
   "id": "a0173dec",
   "metadata": {},
   "outputs": [],
   "source": [
    "import difflib\n",
    "import re\n",
    "import itertools\n",
    "import enchant\n",
    "from textblob import TextBlob\n",
    "\n",
    "    \n",
    "enchant_dic = enchant.Dict(\"en_US\")\n",
    "\n",
    "\n",
    "def clean_word(word):\n",
    "        # replace & with and\n",
    "        if '&' in word:\n",
    "            word = word.replace('&', 'and')\n",
    "        \n",
    "        # remove dots\n",
    "        word = word.replace('.', '')\n",
    "        \n",
    "        # remove strings in parenthesis\n",
    "        word = re.sub(r\"\\([^()]*\\)\", \"\", word)\n",
    "            \n",
    "        # remove all possible combinations of seniority strings\n",
    "        seniority_filter = [s_map for s in ['sr', 'jr', 'mid', 'senior', 'junior', 'senor']\n",
    "                            for s_map in map(''.join, itertools.product(*zip(s.upper(), s.lower())))]\n",
    "        for seniority in seniority_filter:\n",
    "            word = word.replace(seniority, '')\n",
    "        \n",
    "        # remove all possible combinations of seniority strings at the end of the string\n",
    "        seniority_filter = [s_map for s in [' I', ' II', ' III', ' IV'] \n",
    "                            for s_map in map(''.join, itertools.product(*zip(s.upper(), s.lower())))]\n",
    "        for seniority in seniority_filter:\n",
    "            if word.endswith(seniority):\n",
    "                word = word.replace(seniority, '')\n",
    "        \n",
    "        # remove numbers from the end of the string\n",
    "        word = re.sub(r\"\\d+$\", \"\", word)\n",
    "        \n",
    "        # remove multiple spaces\n",
    "        word = re.sub(' +', ' ', word)\n",
    "        # title and strip\n",
    "        word = word.title().strip()\n",
    "        \n",
    "        return word\n",
    "\n",
    "def cluster(possibilities, cutoff = 0.90, n = 10):\n",
    "    possibilities_copy = possibilities.copy()\n",
    "\n",
    "    clusters = {}\n",
    "\n",
    "    for word in possibilities:\n",
    "        word = clean_word(str(word))\n",
    "        \n",
    "        close_matches = difflib.get_close_matches(word, possibilities_copy, n, cutoff)\n",
    "    \n",
    "        if(len(close_matches) == 0):\n",
    "            continue\n",
    "\n",
    "        if(len(close_matches) == 1) & (close_matches[0] == word):\n",
    "            continue\n",
    "\n",
    "        for match in close_matches:\n",
    "            clusters[match] = word\n",
    "            possibilities_copy.remove(match)\n",
    "    return clusters"
   ]
  },
  {
   "cell_type": "code",
   "execution_count": 304,
   "id": "41669e10",
   "metadata": {},
   "outputs": [],
   "source": [
    "possibilities = list([str(x) for x in data['job_title'].unique()])\n",
    "\n",
    "clusters_job_title = cluster(possibilities, 0.95)"
   ]
  },
  {
   "cell_type": "code",
   "execution_count": 306,
   "id": "4f02d2e1",
   "metadata": {},
   "outputs": [],
   "source": [
    "data['job_title_clean'] = data['job_title'].replace(clusters_job_title)"
   ]
  },
  {
   "cell_type": "markdown",
   "id": "fae22697",
   "metadata": {},
   "source": [
    "Second round:"
   ]
  },
  {
   "cell_type": "code",
   "execution_count": 311,
   "id": "c595ad8b",
   "metadata": {},
   "outputs": [],
   "source": [
    "possibilities = list([str(x) for x in data['job_title_clean'].unique()])\n",
    "\n",
    "clusters_job_title = cluster(possibilities, 0.95)"
   ]
  },
  {
   "cell_type": "code",
   "execution_count": 313,
   "id": "62d7a09e",
   "metadata": {},
   "outputs": [],
   "source": [
    "data['job_title_clean'].replace(clusters_job_title, inplace=True)"
   ]
  },
  {
   "cell_type": "markdown",
   "id": "558401e6",
   "metadata": {},
   "source": [
    "Third round:"
   ]
  },
  {
   "cell_type": "code",
   "execution_count": 314,
   "id": "1edfc244",
   "metadata": {},
   "outputs": [],
   "source": [
    "possibilities = list([str(x) for x in data['job_title_clean'].unique()])\n",
    "\n",
    "clusters_job_title = cluster(possibilities, 0.9)"
   ]
  },
  {
   "cell_type": "code",
   "execution_count": 316,
   "id": "16c01d79",
   "metadata": {},
   "outputs": [],
   "source": [
    "data['job_title_clean'].replace(clusters_job_title, inplace=True)"
   ]
  },
  {
   "cell_type": "code",
   "execution_count": 327,
   "id": "092ad1a3",
   "metadata": {},
   "outputs": [
    {
     "data": {
      "text/plain": [
       "10853"
      ]
     },
     "execution_count": 327,
     "metadata": {},
     "output_type": "execute_result"
    }
   ],
   "source": [
    "len(data['job_title_clean'].unique())"
   ]
  },
  {
   "cell_type": "code",
   "execution_count": 337,
   "id": "0d4d3541",
   "metadata": {},
   "outputs": [
    {
     "data": {
      "text/html": [
       "<div>\n",
       "<style scoped>\n",
       "    .dataframe tbody tr th:only-of-type {\n",
       "        vertical-align: middle;\n",
       "    }\n",
       "\n",
       "    .dataframe tbody tr th {\n",
       "        vertical-align: top;\n",
       "    }\n",
       "\n",
       "    .dataframe thead th {\n",
       "        text-align: right;\n",
       "    }\n",
       "</style>\n",
       "<table border=\"1\" class=\"dataframe\">\n",
       "  <thead>\n",
       "    <tr style=\"text-align: right;\">\n",
       "      <th></th>\n",
       "      <th>job_title_clean</th>\n",
       "      <th>job_title</th>\n",
       "    </tr>\n",
       "  </thead>\n",
       "  <tbody>\n",
       "    <tr>\n",
       "      <th>1</th>\n",
       "      <td>Change And Internal Communications Manager</td>\n",
       "      <td>Change &amp; Internal Communications Manager</td>\n",
       "    </tr>\n",
       "    <tr>\n",
       "      <th>10</th>\n",
       "      <td>Officer Manager</td>\n",
       "      <td>Office Manager</td>\n",
       "    </tr>\n",
       "    <tr>\n",
       "      <th>14</th>\n",
       "      <td>Rn Patient Care Coordinator</td>\n",
       "      <td>Patient Care Coordinator</td>\n",
       "    </tr>\n",
       "    <tr>\n",
       "      <th>21</th>\n",
       "      <td>Program Coordinator And Assistant Editor</td>\n",
       "      <td>Program Coordinator &amp; Assistant Editor</td>\n",
       "    </tr>\n",
       "    <tr>\n",
       "      <th>22</th>\n",
       "      <td>Events Planner</td>\n",
       "      <td>Event Planner</td>\n",
       "    </tr>\n",
       "    <tr>\n",
       "      <th>38</th>\n",
       "      <td>Staff Services Manager</td>\n",
       "      <td>Staff Services Manager II</td>\n",
       "    </tr>\n",
       "    <tr>\n",
       "      <th>43</th>\n",
       "      <td>Principle Cyber Software Engineer</td>\n",
       "      <td>Principal Software Engineer</td>\n",
       "    </tr>\n",
       "    <tr>\n",
       "      <th>50</th>\n",
       "      <td>Research And Development Engineer</td>\n",
       "      <td>Research and Development Engineer 3</td>\n",
       "    </tr>\n",
       "    <tr>\n",
       "      <th>64</th>\n",
       "      <td>Downstream Process Development Research Associate</td>\n",
       "      <td>Downstream Process Development Research Associ...</td>\n",
       "    </tr>\n",
       "    <tr>\n",
       "      <th>70</th>\n",
       "      <td>City Research Scientist</td>\n",
       "      <td>City Research Scientist II</td>\n",
       "    </tr>\n",
       "    <tr>\n",
       "      <th>94</th>\n",
       "      <td>Administrative Assistant And Project Specialist</td>\n",
       "      <td>Senior Administrative Assistant and Project Sp...</td>\n",
       "    </tr>\n",
       "    <tr>\n",
       "      <th>96</th>\n",
       "      <td>Director Or Development</td>\n",
       "      <td>Director of Development</td>\n",
       "    </tr>\n",
       "    <tr>\n",
       "      <th>98</th>\n",
       "      <td>Program And Administrative Assistant</td>\n",
       "      <td>Program &amp; Administrative Assistant</td>\n",
       "    </tr>\n",
       "    <tr>\n",
       "      <th>99</th>\n",
       "      <td>Chief Engineering</td>\n",
       "      <td>Chief Engineer</td>\n",
       "    </tr>\n",
       "    <tr>\n",
       "      <th>102</th>\n",
       "      <td>Administration Officer</td>\n",
       "      <td>Administrative Officer</td>\n",
       "    </tr>\n",
       "  </tbody>\n",
       "</table>\n",
       "</div>"
      ],
      "text/plain": [
       "                                       job_title_clean  \\\n",
       "1           Change And Internal Communications Manager   \n",
       "10                                     Officer Manager   \n",
       "14                         Rn Patient Care Coordinator   \n",
       "21            Program Coordinator And Assistant Editor   \n",
       "22                                      Events Planner   \n",
       "38                              Staff Services Manager   \n",
       "43                   Principle Cyber Software Engineer   \n",
       "50                   Research And Development Engineer   \n",
       "64   Downstream Process Development Research Associate   \n",
       "70                             City Research Scientist   \n",
       "94     Administrative Assistant And Project Specialist   \n",
       "96                             Director Or Development   \n",
       "98                Program And Administrative Assistant   \n",
       "99                                   Chief Engineering   \n",
       "102                             Administration Officer   \n",
       "\n",
       "                                             job_title  \n",
       "1             Change & Internal Communications Manager  \n",
       "10                                      Office Manager  \n",
       "14                            Patient Care Coordinator  \n",
       "21             Program Coordinator & Assistant Editor   \n",
       "22                                       Event Planner  \n",
       "38                           Staff Services Manager II  \n",
       "43                         Principal Software Engineer  \n",
       "50                 Research and Development Engineer 3  \n",
       "64   Downstream Process Development Research Associ...  \n",
       "70                          City Research Scientist II  \n",
       "94   Senior Administrative Assistant and Project Sp...  \n",
       "96                             Director of Development  \n",
       "98                  Program & Administrative Assistant  \n",
       "99                                      Chief Engineer  \n",
       "102                             Administrative Officer  "
      ]
     },
     "execution_count": 337,
     "metadata": {},
     "output_type": "execute_result"
    }
   ],
   "source": [
    "data[['job_title_clean', 'job_title']][data['job_title_clean'].str.upper() != data['job_title'].str.upper()].head(15)"
   ]
  },
  {
   "cell_type": "code",
   "execution_count": 362,
   "id": "d23683cc",
   "metadata": {},
   "outputs": [],
   "source": [
    "possibilities = list([str(x) for x in data['industry'].unique()])\n",
    "\n",
    "clusters_industry = cluster(possibilities, 0.95)"
   ]
  },
  {
   "cell_type": "code",
   "execution_count": 363,
   "id": "14fc86d7",
   "metadata": {},
   "outputs": [],
   "source": [
    "data['industry_clean'] = data['industry'].replace(clusters_industry)"
   ]
  },
  {
   "cell_type": "code",
   "execution_count": 364,
   "id": "d0b53bbf",
   "metadata": {},
   "outputs": [],
   "source": [
    "possibilities = list([str(x) for x in data['industry_clean'].unique()])\n",
    "\n",
    "clusters_industry = cluster(possibilities, 0.90)"
   ]
  },
  {
   "cell_type": "code",
   "execution_count": 365,
   "id": "9c3ad097",
   "metadata": {},
   "outputs": [],
   "source": [
    "data['industry_clean'].replace(clusters_industry, inplace=True)"
   ]
  },
  {
   "cell_type": "code",
   "execution_count": 366,
   "id": "778eb9f4",
   "metadata": {},
   "outputs": [],
   "source": [
    "possibilities = list([str(x) for x in data['industry_clean'].unique()])\n",
    "\n",
    "clusters_industry = cluster(possibilities, 0.8)"
   ]
  },
  {
   "cell_type": "code",
   "execution_count": 367,
   "id": "6167c4d0",
   "metadata": {},
   "outputs": [],
   "source": [
    "data['industry_clean'].replace(clusters_industry, inplace=True)"
   ]
  },
  {
   "cell_type": "code",
   "execution_count": 376,
   "id": "748b6d62",
   "metadata": {},
   "outputs": [],
   "source": [
    "possibilities = list([str(x) for x in data['industry_clean'].unique()])\n",
    "\n",
    "clusters_industry = cluster(possibilities, 0.86)"
   ]
  },
  {
   "cell_type": "code",
   "execution_count": 379,
   "id": "41bafee9",
   "metadata": {},
   "outputs": [],
   "source": [
    "data['industry_clean'].replace(clusters_industry, inplace=True)"
   ]
  },
  {
   "cell_type": "code",
   "execution_count": 384,
   "id": "6a3c0c89",
   "metadata": {},
   "outputs": [],
   "source": [
    "possibilities = list([str(x) for x in data['industry_clean'].unique()])\n",
    "\n",
    "clusters_industry = cluster(possibilities, 0.85)"
   ]
  },
  {
   "cell_type": "code",
   "execution_count": 386,
   "id": "5908e536",
   "metadata": {},
   "outputs": [],
   "source": [
    "data['industry_clean'].replace(clusters_industry, inplace=True)"
   ]
  },
  {
   "cell_type": "code",
   "execution_count": 387,
   "id": "895bdf01",
   "metadata": {},
   "outputs": [
    {
     "data": {
      "text/plain": [
       "775"
      ]
     },
     "execution_count": 387,
     "metadata": {},
     "output_type": "execute_result"
    }
   ],
   "source": [
    "len(data['industry_clean'].unique())"
   ]
  },
  {
   "cell_type": "code",
   "execution_count": 394,
   "id": "e87a57cd",
   "metadata": {},
   "outputs": [
    {
     "data": {
      "text/html": [
       "<div>\n",
       "<style scoped>\n",
       "    .dataframe tbody tr th:only-of-type {\n",
       "        vertical-align: middle;\n",
       "    }\n",
       "\n",
       "    .dataframe tbody tr th {\n",
       "        vertical-align: top;\n",
       "    }\n",
       "\n",
       "    .dataframe thead th {\n",
       "        text-align: right;\n",
       "    }\n",
       "</style>\n",
       "<table border=\"1\" class=\"dataframe\">\n",
       "  <thead>\n",
       "    <tr style=\"text-align: right;\">\n",
       "      <th></th>\n",
       "      <th>industry_clean</th>\n",
       "      <th>industry</th>\n",
       "    </tr>\n",
       "  </thead>\n",
       "  <tbody>\n",
       "    <tr>\n",
       "      <th>2</th>\n",
       "      <td>Accounting, Banking And Finance</td>\n",
       "      <td>Accounting, Banking &amp; Finance</td>\n",
       "    </tr>\n",
       "    <tr>\n",
       "      <th>4</th>\n",
       "      <td>Accounting, Banking And Finance</td>\n",
       "      <td>Accounting, Banking &amp; Finance</td>\n",
       "    </tr>\n",
       "    <tr>\n",
       "      <th>9</th>\n",
       "      <td>Accounting, Banking And Finance</td>\n",
       "      <td>Accounting, Banking &amp; Finance</td>\n",
       "    </tr>\n",
       "    <tr>\n",
       "      <th>12</th>\n",
       "      <td>Accounting, Banking And Finance</td>\n",
       "      <td>Accounting, Banking &amp; Finance</td>\n",
       "    </tr>\n",
       "    <tr>\n",
       "      <th>15</th>\n",
       "      <td>Utilities And Telecommunications</td>\n",
       "      <td>Utilities &amp; Telecommunications</td>\n",
       "    </tr>\n",
       "    <tr>\n",
       "      <th>17</th>\n",
       "      <td>Art And Design</td>\n",
       "      <td>Art &amp; Design</td>\n",
       "    </tr>\n",
       "    <tr>\n",
       "      <th>31</th>\n",
       "      <td>Media And Digital</td>\n",
       "      <td>Media &amp; Digital</td>\n",
       "    </tr>\n",
       "    <tr>\n",
       "      <th>32</th>\n",
       "      <td>Accounting, Banking And Finance</td>\n",
       "      <td>Accounting, Banking &amp; Finance</td>\n",
       "    </tr>\n",
       "    <tr>\n",
       "      <th>33</th>\n",
       "      <td>Accounting, Banking And Finance</td>\n",
       "      <td>Accounting, Banking &amp; Finance</td>\n",
       "    </tr>\n",
       "    <tr>\n",
       "      <th>36</th>\n",
       "      <td>Media And Digital</td>\n",
       "      <td>Media &amp; Digital</td>\n",
       "    </tr>\n",
       "    <tr>\n",
       "      <th>37</th>\n",
       "      <td>Accounting, Banking And Finance</td>\n",
       "      <td>Accounting, Banking &amp; Finance</td>\n",
       "    </tr>\n",
       "    <tr>\n",
       "      <th>39</th>\n",
       "      <td>Accounting, Banking And Finance</td>\n",
       "      <td>Accounting, Banking &amp; Finance</td>\n",
       "    </tr>\n",
       "    <tr>\n",
       "      <th>41</th>\n",
       "      <td>Marketing, Advertising And Pr</td>\n",
       "      <td>Marketing, Advertising &amp; PR</td>\n",
       "    </tr>\n",
       "    <tr>\n",
       "      <th>52</th>\n",
       "      <td>Marketing, Advertising And Pr</td>\n",
       "      <td>Marketing, Advertising &amp; PR</td>\n",
       "    </tr>\n",
       "    <tr>\n",
       "      <th>54</th>\n",
       "      <td>Media And Digital</td>\n",
       "      <td>Media &amp; Digital</td>\n",
       "    </tr>\n",
       "  </tbody>\n",
       "</table>\n",
       "</div>"
      ],
      "text/plain": [
       "                      industry_clean                        industry\n",
       "2    Accounting, Banking And Finance   Accounting, Banking & Finance\n",
       "4    Accounting, Banking And Finance   Accounting, Banking & Finance\n",
       "9    Accounting, Banking And Finance   Accounting, Banking & Finance\n",
       "12   Accounting, Banking And Finance   Accounting, Banking & Finance\n",
       "15  Utilities And Telecommunications  Utilities & Telecommunications\n",
       "17                    Art And Design                    Art & Design\n",
       "31                 Media And Digital                 Media & Digital\n",
       "32   Accounting, Banking And Finance   Accounting, Banking & Finance\n",
       "33   Accounting, Banking And Finance   Accounting, Banking & Finance\n",
       "36                 Media And Digital                 Media & Digital\n",
       "37   Accounting, Banking And Finance   Accounting, Banking & Finance\n",
       "39   Accounting, Banking And Finance   Accounting, Banking & Finance\n",
       "41     Marketing, Advertising And Pr     Marketing, Advertising & PR\n",
       "52     Marketing, Advertising And Pr     Marketing, Advertising & PR\n",
       "54                 Media And Digital                 Media & Digital"
      ]
     },
     "execution_count": 394,
     "metadata": {},
     "output_type": "execute_result"
    }
   ],
   "source": [
    "data[['industry_clean', 'industry']][data['industry_clean'].str.upper() != data['industry'].str.upper()].head(15)"
   ]
  },
  {
   "cell_type": "markdown",
   "id": "0e31312c",
   "metadata": {},
   "source": [
    "# Currency\n",
    "Here we have a little bit more work to do. The currency of the salary is defined by the `currency` attribute, but sometimes it can be also defined by the `currency_context`. We need to clean those 2 columns and merge them into one. "
   ]
  },
  {
   "cell_type": "markdown",
   "id": "b15c3567",
   "metadata": {},
   "source": [
    "## Merge columns "
   ]
  },
  {
   "cell_type": "code",
   "execution_count": 44,
   "id": "45152329",
   "metadata": {},
   "outputs": [
    {
     "data": {
      "text/html": [
       "<div>\n",
       "<style scoped>\n",
       "    .dataframe tbody tr th:only-of-type {\n",
       "        vertical-align: middle;\n",
       "    }\n",
       "\n",
       "    .dataframe tbody tr th {\n",
       "        vertical-align: top;\n",
       "    }\n",
       "\n",
       "    .dataframe thead th {\n",
       "        text-align: right;\n",
       "    }\n",
       "</style>\n",
       "<table border=\"1\" class=\"dataframe\">\n",
       "  <thead>\n",
       "    <tr style=\"text-align: right;\">\n",
       "      <th></th>\n",
       "      <th>currency</th>\n",
       "      <th>currency_context</th>\n",
       "    </tr>\n",
       "  </thead>\n",
       "  <tbody>\n",
       "    <tr>\n",
       "      <th>0</th>\n",
       "      <td>USD</td>\n",
       "      <td>NaN</td>\n",
       "    </tr>\n",
       "    <tr>\n",
       "      <th>1</th>\n",
       "      <td>GBP</td>\n",
       "      <td>NaN</td>\n",
       "    </tr>\n",
       "    <tr>\n",
       "      <th>2</th>\n",
       "      <td>USD</td>\n",
       "      <td>NaN</td>\n",
       "    </tr>\n",
       "    <tr>\n",
       "      <th>3</th>\n",
       "      <td>USD</td>\n",
       "      <td>NaN</td>\n",
       "    </tr>\n",
       "    <tr>\n",
       "      <th>4</th>\n",
       "      <td>USD</td>\n",
       "      <td>NaN</td>\n",
       "    </tr>\n",
       "    <tr>\n",
       "      <th>...</th>\n",
       "      <td>...</td>\n",
       "      <td>...</td>\n",
       "    </tr>\n",
       "    <tr>\n",
       "      <th>27843</th>\n",
       "      <td>USD</td>\n",
       "      <td>NaN</td>\n",
       "    </tr>\n",
       "    <tr>\n",
       "      <th>27844</th>\n",
       "      <td>AUD/NZD</td>\n",
       "      <td>NaN</td>\n",
       "    </tr>\n",
       "    <tr>\n",
       "      <th>27845</th>\n",
       "      <td>USD</td>\n",
       "      <td>NaN</td>\n",
       "    </tr>\n",
       "    <tr>\n",
       "      <th>27846</th>\n",
       "      <td>Other</td>\n",
       "      <td>NGN</td>\n",
       "    </tr>\n",
       "    <tr>\n",
       "      <th>27847</th>\n",
       "      <td>USD</td>\n",
       "      <td>NaN</td>\n",
       "    </tr>\n",
       "  </tbody>\n",
       "</table>\n",
       "<p>27848 rows × 2 columns</p>\n",
       "</div>"
      ],
      "text/plain": [
       "      currency currency_context\n",
       "0          USD              NaN\n",
       "1          GBP              NaN\n",
       "2          USD              NaN\n",
       "3          USD              NaN\n",
       "4          USD              NaN\n",
       "...        ...              ...\n",
       "27843      USD              NaN\n",
       "27844  AUD/NZD              NaN\n",
       "27845      USD              NaN\n",
       "27846    Other              NGN\n",
       "27847      USD              NaN\n",
       "\n",
       "[27848 rows x 2 columns]"
      ]
     },
     "execution_count": 44,
     "metadata": {},
     "output_type": "execute_result"
    }
   ],
   "source": [
    "data[['currency', 'currency_context']]"
   ]
  },
  {
   "cell_type": "code",
   "execution_count": 45,
   "id": "db302c9c",
   "metadata": {},
   "outputs": [
    {
     "data": {
      "text/plain": [
       "USD        23214\n",
       "CAD         1659\n",
       "GBP         1578\n",
       "EUR          632\n",
       "AUD/NZD      500\n",
       "Other        150\n",
       "SEK           37\n",
       "CHF           37\n",
       "JPY           23\n",
       "ZAR           14\n",
       "HKD            4\n",
       "Name: currency, dtype: int64"
      ]
     },
     "execution_count": 45,
     "metadata": {},
     "output_type": "execute_result"
    }
   ],
   "source": [
    "data['currency'].value_counts()"
   ]
  },
  {
   "cell_type": "code",
   "execution_count": 46,
   "id": "98965b39",
   "metadata": {},
   "outputs": [
    {
     "data": {
      "text/plain": [
       "USD                                                                                                                 11\n",
       "NOK                                                                                                                 10\n",
       "INR                                                                                                                  9\n",
       "MYR                                                                                                                  8\n",
       "DKK                                                                                                                  8\n",
       "                                                                                                                    ..\n",
       "Many non-salary benefits - travel, free healthcare for self, very low for family, non-taxable housing allowance      1\n",
       "EUR                                                                                                                  1\n",
       "0                                                                                                                    1\n",
       "AUD and NZD aren't the same currency, and have absolutely nothing to do with each other :(                           1\n",
       "Philippine Peso                                                                                                      1\n",
       "Name: currency_context, Length: 114, dtype: int64"
      ]
     },
     "execution_count": 46,
     "metadata": {},
     "output_type": "execute_result"
    }
   ],
   "source": [
    "data['currency_context'].value_counts()"
   ]
  },
  {
   "cell_type": "markdown",
   "id": "c09b7824",
   "metadata": {},
   "source": [
    "As we can see, when the `currency` feature has value of 'Other', then the currency is defined by `currency_context`. Lets clean this up"
   ]
  },
  {
   "cell_type": "code",
   "execution_count": 47,
   "id": "3990d043",
   "metadata": {},
   "outputs": [],
   "source": [
    "data['currency'] = np.where(data[\"currency\"] == \"Other\", data['currency_context'], data[\"currency\"])"
   ]
  },
  {
   "cell_type": "code",
   "execution_count": 48,
   "id": "7d6a4470",
   "metadata": {},
   "outputs": [],
   "source": [
    "data.drop(labels=['currency_context'], axis=1, inplace=True)"
   ]
  },
  {
   "cell_type": "markdown",
   "id": "7d8a53f0",
   "metadata": {},
   "source": [
    "## Handle AUD/NZD values"
   ]
  },
  {
   "cell_type": "code",
   "execution_count": 49,
   "id": "216a72b2",
   "metadata": {},
   "outputs": [],
   "source": [
    "def split_currencies(row):\n",
    "    currency = row['currency']\n",
    "    \n",
    "    if currency != 'AUD/NZD':\n",
    "        return currency\n",
    "\n",
    "    country = row['country']\n",
    "    \n",
    "    if country == 'Australia':\n",
    "        return 'AUD'\n",
    "    if country == 'New Zealand':\n",
    "        return 'NZD'\n",
    "    return np.nan"
   ]
  },
  {
   "cell_type": "code",
   "execution_count": 50,
   "id": "f627c5e1",
   "metadata": {},
   "outputs": [],
   "source": [
    "data['currency'] = data.apply(lambda row: split_currencies(row), axis=1)"
   ]
  },
  {
   "cell_type": "markdown",
   "id": "c86e111e",
   "metadata": {},
   "source": [
    "## Clean manually "
   ]
  },
  {
   "cell_type": "code",
   "execution_count": 51,
   "id": "4365d7eb",
   "metadata": {
    "scrolled": true
   },
   "outputs": [
    {
     "data": {
      "text/plain": [
       "PhP (Philippine Peso)       1\n",
       "Rupees                      1\n",
       "Peso Argentino              1\n",
       "SGD                         1\n",
       "Argentinian peso (ARS)      1\n",
       "Equity                      1\n",
       "Norwegian kroner (NOK)      1\n",
       "NIS (new Israeli shekel)    1\n",
       "Argentine Peso              1\n",
       "BRL (R$)                    1\n",
       "INR (Indian Rupee)          1\n",
       "Mexican Pesos               1\n",
       "THAI  BAHT                  1\n",
       "croatian kuna               1\n",
       "Polish Złoty                1\n",
       "Philippine peso (PHP)       1\n",
       "Euro                        1\n",
       "Australian Dollars          1\n",
       "ILS/NIS                     1\n",
       "China RMB                   1\n",
       "ILS (Shekel)                1\n",
       "AUD Australian              1\n",
       "RMB (chinese yuan)          1\n",
       "American Dollars            1\n",
       "Philippine Pesos            1\n",
       "Taiwanese dollars           1\n",
       "Danish Kroner               1\n",
       "Mexican pesos               1\n",
       "Indian rupees               1\n",
       "Thai Baht                   1\n",
       "Singapore Dollara           1\n",
       "US Dollar                   1\n",
       "PLN (Zwoty)                 1\n",
       "Philippine Peso             1\n",
       "Israeli Shekels             1\n",
       "PLN (Polish zloty)          1\n",
       "DKK                         1\n",
       "czech crowns                1\n",
       "IDR                         1\n",
       "Korean Won                  1\n",
       "KRW (Korean Won)            1\n",
       "Name: currency, dtype: int64"
      ]
     },
     "execution_count": 51,
     "metadata": {},
     "output_type": "execute_result"
    }
   ],
   "source": [
    "data['currency'][data['currency'].str.len() > 3].value_counts()"
   ]
  },
  {
   "cell_type": "code",
   "execution_count": 52,
   "id": "4f205567",
   "metadata": {},
   "outputs": [],
   "source": [
    "messy_currencies = data['currency'][data['currency'].str.len() > 3].to_list() + ['BR$', 'ARP']\n",
    "right_currencies = ['ARP', 'INR', 'BRL', 'MXN', 'USD', 'PLN', 'CZK', 'NOK', 'ILS', 'USD', 'NIS', 'RMB', 'TWD', 'PHP', 'KRW', 'IDR', 'ILS', 'DKK', 'RMB', 'AUD', 'PLN', 'PHP', 'AUD', np.nan, 'ARS', 'ILS', 'PHP', 'ARP', 'PHP', 'INR', 'DKK', 'KRW', 'EUR', 'SGD', 'MXN', 'THB', 'THB', 'HRK', 'PLN', 'INR', 'SGD', 'BRL', 'ARS']\n",
    "\n",
    "data['currency'] = data['currency'].replace(messy_currencies, right_currencies)"
   ]
  },
  {
   "cell_type": "code",
   "execution_count": 71,
   "id": "d367d61f",
   "metadata": {},
   "outputs": [],
   "source": [
    "data['currency'] = data['currency'].str.upper()"
   ]
  },
  {
   "cell_type": "markdown",
   "id": "ea99e002",
   "metadata": {},
   "source": [
    "## USD rate\n",
    "To have a consistent analysis for the salary values, we need to have only one currency (e.g. USD)."
   ]
  },
  {
   "cell_type": "code",
   "execution_count": 53,
   "id": "8671130e",
   "metadata": {},
   "outputs": [
    {
     "name": "stdout",
     "output_type": "stream",
     "text": [
      "Requirement already satisfied: forex_python in c:\\users\\wiewi\\appdata\\local\\programs\\python\\python37\\lib\\site-packages (1.8)\n",
      "Requirement already satisfied: requests in c:\\users\\wiewi\\appdata\\roaming\\python\\python37\\site-packages (from forex_python) (2.24.0)\n",
      "Requirement already satisfied: simplejson in c:\\users\\wiewi\\appdata\\local\\programs\\python\\python37\\lib\\site-packages (from forex_python) (3.17.6)\n",
      "Requirement already satisfied: certifi>=2017.4.17 in c:\\users\\wiewi\\appdata\\local\\programs\\python\\python37\\lib\\site-packages (from requests->forex_python) (2020.6.20)\n",
      "Requirement already satisfied: idna<3,>=2.5 in c:\\users\\wiewi\\appdata\\roaming\\python\\python37\\site-packages (from requests->forex_python) (2.10)\n",
      "Requirement already satisfied: urllib3!=1.25.0,!=1.25.1,<1.26,>=1.21.1 in c:\\users\\wiewi\\appdata\\roaming\\python\\python37\\site-packages (from requests->forex_python) (1.25.10)\n",
      "Requirement already satisfied: chardet<4,>=3.0.2 in c:\\users\\wiewi\\appdata\\roaming\\python\\python37\\site-packages (from requests->forex_python) (3.0.4)\n"
     ]
    },
    {
     "name": "stderr",
     "output_type": "stream",
     "text": [
      "WARNING: You are using pip version 20.1.1; however, version 22.2 is available.\n",
      "You should consider upgrading via the 'c:\\users\\wiewi\\appdata\\local\\programs\\python\\python37\\python.exe -m pip install --upgrade pip' command.\n"
     ]
    }
   ],
   "source": [
    "!pip install forex_python\n",
    "from forex_python.converter import CurrencyRates"
   ]
  },
  {
   "cell_type": "code",
   "execution_count": 54,
   "id": "453791c0",
   "metadata": {},
   "outputs": [],
   "source": [
    "currency_rates = CurrencyRates()"
   ]
  },
  {
   "cell_type": "code",
   "execution_count": 427,
   "id": "9f379f47",
   "metadata": {},
   "outputs": [],
   "source": [
    "import datetime\n",
    "\n",
    "\n",
    "def to_USD_rate(row):\n",
    "    currency = row['currency']\n",
    "    datatime = datetime.datetime(2021, 4, 27) # day of publishing the form \n",
    "    \n",
    "    try:\n",
    "        return currency_rates.get_rate(currency, 'USD', datatime)\n",
    "    except:\n",
    "        return np.nan"
   ]
  },
  {
   "cell_type": "code",
   "execution_count": 428,
   "id": "8f65dd1c",
   "metadata": {},
   "outputs": [],
   "source": [
    "data['USD_rate'] = data.apply(lambda row: to_USD_rate(row), axis=1)"
   ]
  },
  {
   "cell_type": "code",
   "execution_count": 429,
   "id": "df647ab8",
   "metadata": {},
   "outputs": [
    {
     "data": {
      "text/html": [
       "<div>\n",
       "<style scoped>\n",
       "    .dataframe tbody tr th:only-of-type {\n",
       "        vertical-align: middle;\n",
       "    }\n",
       "\n",
       "    .dataframe tbody tr th {\n",
       "        vertical-align: top;\n",
       "    }\n",
       "\n",
       "    .dataframe thead th {\n",
       "        text-align: right;\n",
       "    }\n",
       "</style>\n",
       "<table border=\"1\" class=\"dataframe\">\n",
       "  <thead>\n",
       "    <tr style=\"text-align: right;\">\n",
       "      <th></th>\n",
       "      <th>currency</th>\n",
       "      <th>USD_rate</th>\n",
       "    </tr>\n",
       "  </thead>\n",
       "  <tbody>\n",
       "    <tr>\n",
       "      <th>0</th>\n",
       "      <td>USD</td>\n",
       "      <td>1.000000</td>\n",
       "    </tr>\n",
       "    <tr>\n",
       "      <th>1</th>\n",
       "      <td>GBP</td>\n",
       "      <td>1.360983</td>\n",
       "    </tr>\n",
       "    <tr>\n",
       "      <th>2</th>\n",
       "      <td>USD</td>\n",
       "      <td>1.000000</td>\n",
       "    </tr>\n",
       "    <tr>\n",
       "      <th>3</th>\n",
       "      <td>USD</td>\n",
       "      <td>1.000000</td>\n",
       "    </tr>\n",
       "    <tr>\n",
       "      <th>4</th>\n",
       "      <td>USD</td>\n",
       "      <td>1.000000</td>\n",
       "    </tr>\n",
       "    <tr>\n",
       "      <th>...</th>\n",
       "      <td>...</td>\n",
       "      <td>...</td>\n",
       "    </tr>\n",
       "    <tr>\n",
       "      <th>27843</th>\n",
       "      <td>USD</td>\n",
       "      <td>1.000000</td>\n",
       "    </tr>\n",
       "    <tr>\n",
       "      <th>27844</th>\n",
       "      <td>AUD</td>\n",
       "      <td>0.778214</td>\n",
       "    </tr>\n",
       "    <tr>\n",
       "      <th>27845</th>\n",
       "      <td>USD</td>\n",
       "      <td>1.000000</td>\n",
       "    </tr>\n",
       "    <tr>\n",
       "      <th>27846</th>\n",
       "      <td>NGN</td>\n",
       "      <td>NaN</td>\n",
       "    </tr>\n",
       "    <tr>\n",
       "      <th>27847</th>\n",
       "      <td>USD</td>\n",
       "      <td>1.000000</td>\n",
       "    </tr>\n",
       "  </tbody>\n",
       "</table>\n",
       "<p>27844 rows × 2 columns</p>\n",
       "</div>"
      ],
      "text/plain": [
       "      currency  USD_rate\n",
       "0          USD  1.000000\n",
       "1          GBP  1.360983\n",
       "2          USD  1.000000\n",
       "3          USD  1.000000\n",
       "4          USD  1.000000\n",
       "...        ...       ...\n",
       "27843      USD  1.000000\n",
       "27844      AUD  0.778214\n",
       "27845      USD  1.000000\n",
       "27846      NGN       NaN\n",
       "27847      USD  1.000000\n",
       "\n",
       "[27844 rows x 2 columns]"
      ]
     },
     "execution_count": 429,
     "metadata": {},
     "output_type": "execute_result"
    }
   ],
   "source": [
    "data[['currency', 'USD_rate']]"
   ]
  },
  {
   "cell_type": "markdown",
   "id": "763d9a98",
   "metadata": {},
   "source": [
    "## Clean manually"
   ]
  },
  {
   "cell_type": "code",
   "execution_count": 433,
   "id": "a91ec6ac",
   "metadata": {},
   "outputs": [],
   "source": [
    "messy_rates = data['currency'][~data['USD_rate'].notna()].unique()\n",
    "\n",
    "USD_rates_correct = {\n",
    "    'ARP': 0.01,\n",
    "    'ARS': 0.01,\n",
    "    'TTD': 0.15,\n",
    "    'BDT': 0.012,\n",
    "    'NIS': 0.29,\n",
    "    'RMB': 0.16,\n",
    "    'TWD': 0.033,\n",
    "    'LKR': 0.0048,\n",
    "    'SAR': 0.27,\n",
    "    'RM': 0.22,\n",
    "    'CAD': 0.78,\n",
    "    'NTD': 0.033,\n",
    "    'GBP': 1.38,\n",
    "    'NGN': 0.0024,\n",
    "    'CHF': 1.094,\n",
    "    'EUR': 1.2090\n",
    "}"
   ]
  },
  {
   "cell_type": "code",
   "execution_count": 434,
   "id": "a1376c40",
   "metadata": {},
   "outputs": [],
   "source": [
    "for currency, rate in USD_rates_correct.items():\n",
    "    data.loc[data.currency == currency, 'USD_rate'] = rate"
   ]
  },
  {
   "cell_type": "markdown",
   "id": "639296b9",
   "metadata": {},
   "source": [
    "# Numeric data\n",
    "Lets handle numeric data now.\n",
    "\n",
    "**Numeric features include:**\n",
    "- `annual_salary`\n",
    "- `additional_salary`"
   ]
  },
  {
   "cell_type": "markdown",
   "id": "cb334bc4",
   "metadata": {},
   "source": [
    "## Annual salary"
   ]
  },
  {
   "cell_type": "code",
   "execution_count": 79,
   "id": "873721c7",
   "metadata": {},
   "outputs": [
    {
     "data": {
      "text/plain": [
       "count    2.784800e+04\n",
       "mean     1.431740e+05\n",
       "std      5.380652e+06\n",
       "min      0.000000e+00\n",
       "25%      5.400000e+04\n",
       "50%      7.523450e+04\n",
       "75%      1.100000e+05\n",
       "max      8.700000e+08\n",
       "Name: annual_salary, dtype: float64"
      ]
     },
     "execution_count": 79,
     "metadata": {},
     "output_type": "execute_result"
    }
   ],
   "source": [
    "data['annual_salary'].describe()"
   ]
  },
  {
   "cell_type": "code",
   "execution_count": 62,
   "id": "40a23879",
   "metadata": {},
   "outputs": [],
   "source": [
    "def salary_to_USD(USD_rate, salary):\n",
    "    \n",
    "    if USD_rate == np.nan:\n",
    "        return np.nan\n",
    "\n",
    "    return salary * USD_rate"
   ]
  },
  {
   "cell_type": "code",
   "execution_count": 63,
   "id": "1e4162b2",
   "metadata": {},
   "outputs": [],
   "source": [
    "data['annual_salary_USD'] = data.apply(lambda row: salary_to_USD(row['USD_rate'], row['annual_salary']), axis=1)"
   ]
  },
  {
   "cell_type": "markdown",
   "id": "077050ed",
   "metadata": {},
   "source": [
    "## Additional salary"
   ]
  },
  {
   "cell_type": "code",
   "execution_count": 64,
   "id": "e1b5b2db",
   "metadata": {},
   "outputs": [],
   "source": [
    "data['additional_salary_USD'] = data.apply(lambda row: salary_to_USD(row['USD_rate'], row['additional_salary']), axis=1)"
   ]
  },
  {
   "cell_type": "markdown",
   "id": "34edb8c7",
   "metadata": {},
   "source": [
    "## Total salary"
   ]
  },
  {
   "cell_type": "code",
   "execution_count": 542,
   "id": "34e0055b",
   "metadata": {},
   "outputs": [],
   "source": [
    "data['total_salary'] = data[['additional_salary', 'annual_salary']].sum(axis=1)"
   ]
  },
  {
   "cell_type": "code",
   "execution_count": 65,
   "id": "2a00464b",
   "metadata": {},
   "outputs": [],
   "source": [
    "data['total_salary_USD'] = data[['additional_salary_USD', 'annual_salary_USD']].sum(axis=1)"
   ]
  },
  {
   "cell_type": "markdown",
   "id": "b2a3ea1a",
   "metadata": {},
   "source": [
    "## Clean outliers"
   ]
  },
  {
   "cell_type": "code",
   "execution_count": 97,
   "id": "49a5abce",
   "metadata": {},
   "outputs": [
    {
     "name": "stderr",
     "output_type": "stream",
     "text": [
      "c:\\users\\wiewi\\appdata\\local\\programs\\python\\python37\\lib\\site-packages\\seaborn\\_decorators.py:43: FutureWarning: Pass the following variable as a keyword arg: x. From version 0.12, the only valid positional argument will be `data`, and passing other arguments without an explicit keyword will result in an error or misinterpretation.\n",
      "  FutureWarning\n"
     ]
    },
    {
     "data": {
      "image/png": "[encoded data removed]",
      "text/plain": [
       "<Figure size 720x360 with 1 Axes>"
      ]
     },
     "metadata": {
      "needs_background": "light"
     },
     "output_type": "display_data"
    }
   ],
   "source": [
    "fig = plt.figure(figsize=(10,5))\n",
    "sns.boxplot(data.total_salary_USD)\n",
    "plt.title('Box Plot', fontsize=15)\n",
    "plt.xlabel('Total salary in USD', fontsize=14)\n",
    "plt.show()"
   ]
  },
  {
   "cell_type": "code",
   "execution_count": 102,
   "id": "c187e262",
   "metadata": {},
   "outputs": [
    {
     "data": {
      "text/html": [
       "<div>\n",
       "<style scoped>\n",
       "    .dataframe tbody tr th:only-of-type {\n",
       "        vertical-align: middle;\n",
       "    }\n",
       "\n",
       "    .dataframe tbody tr th {\n",
       "        vertical-align: top;\n",
       "    }\n",
       "\n",
       "    .dataframe thead th {\n",
       "        text-align: right;\n",
       "    }\n",
       "</style>\n",
       "<table border=\"1\" class=\"dataframe\">\n",
       "  <thead>\n",
       "    <tr style=\"text-align: right;\">\n",
       "      <th></th>\n",
       "      <th>timestamp</th>\n",
       "      <th>age</th>\n",
       "      <th>industry</th>\n",
       "      <th>job_title</th>\n",
       "      <th>annual_salary</th>\n",
       "      <th>additional_salary</th>\n",
       "      <th>currency</th>\n",
       "      <th>country</th>\n",
       "      <th>state</th>\n",
       "      <th>city</th>\n",
       "      <th>...</th>\n",
       "      <th>education_lvl</th>\n",
       "      <th>gender_idx</th>\n",
       "      <th>continent</th>\n",
       "      <th>lat_long</th>\n",
       "      <th>lat</th>\n",
       "      <th>long</th>\n",
       "      <th>USD_rate</th>\n",
       "      <th>annual_salary_USD</th>\n",
       "      <th>additional_salary_USD</th>\n",
       "      <th>total_salary_USD</th>\n",
       "    </tr>\n",
       "  </thead>\n",
       "  <tbody>\n",
       "    <tr>\n",
       "      <th>2124</th>\n",
       "      <td>2021-04-27T11:38:28Z</td>\n",
       "      <td>55-64</td>\n",
       "      <td>Art &amp; Design</td>\n",
       "      <td>Owner and CEO</td>\n",
       "      <td>3000000</td>\n",
       "      <td>NaN</td>\n",
       "      <td>USD</td>\n",
       "      <td>United States</td>\n",
       "      <td>New York</td>\n",
       "      <td>New York</td>\n",
       "      <td>...</td>\n",
       "      <td>4.0</td>\n",
       "      <td>1.0</td>\n",
       "      <td>North America</td>\n",
       "      <td>(40.7127281, -74.0060152)</td>\n",
       "      <td>40.712728</td>\n",
       "      <td>-74.006015</td>\n",
       "      <td>1.0</td>\n",
       "      <td>3000000.0</td>\n",
       "      <td>NaN</td>\n",
       "      <td>3000000.0</td>\n",
       "    </tr>\n",
       "    <tr>\n",
       "      <th>3605</th>\n",
       "      <td>2021-04-27T12:11:17Z</td>\n",
       "      <td>25-34</td>\n",
       "      <td>Utilities &amp; Telecommunications</td>\n",
       "      <td>Operations Manager</td>\n",
       "      <td>102000000</td>\n",
       "      <td>NaN</td>\n",
       "      <td>USD</td>\n",
       "      <td>Colombia</td>\n",
       "      <td>NaN</td>\n",
       "      <td>Bogotá</td>\n",
       "      <td>...</td>\n",
       "      <td>2.0</td>\n",
       "      <td>2.0</td>\n",
       "      <td>South America</td>\n",
       "      <td>(4.6534649, -74.0836453)</td>\n",
       "      <td>4.653465</td>\n",
       "      <td>-74.083645</td>\n",
       "      <td>1.0</td>\n",
       "      <td>102000000.0</td>\n",
       "      <td>NaN</td>\n",
       "      <td>102000000.0</td>\n",
       "    </tr>\n",
       "    <tr>\n",
       "      <th>15509</th>\n",
       "      <td>2021-04-28T17:09:29Z</td>\n",
       "      <td>35-44</td>\n",
       "      <td>Computing or Tech</td>\n",
       "      <td>Product Manager</td>\n",
       "      <td>2111538</td>\n",
       "      <td>84610.0</td>\n",
       "      <td>USD</td>\n",
       "      <td>Singapore</td>\n",
       "      <td>NaN</td>\n",
       "      <td>NaN</td>\n",
       "      <td>...</td>\n",
       "      <td>3.0</td>\n",
       "      <td>2.0</td>\n",
       "      <td>Asia</td>\n",
       "      <td>NaN</td>\n",
       "      <td>NaN</td>\n",
       "      <td>NaN</td>\n",
       "      <td>1.0</td>\n",
       "      <td>2111538.0</td>\n",
       "      <td>84610.0</td>\n",
       "      <td>2196148.0</td>\n",
       "    </tr>\n",
       "    <tr>\n",
       "      <th>26466</th>\n",
       "      <td>2021-06-14T04:19:17Z</td>\n",
       "      <td>55-64</td>\n",
       "      <td>Sales</td>\n",
       "      <td>Inside Sales Manager</td>\n",
       "      <td>5000044</td>\n",
       "      <td>4000.0</td>\n",
       "      <td>USD</td>\n",
       "      <td>United States</td>\n",
       "      <td>New Jersey</td>\n",
       "      <td>Babergh</td>\n",
       "      <td>...</td>\n",
       "      <td>4.0</td>\n",
       "      <td>1.0</td>\n",
       "      <td>North America</td>\n",
       "      <td>NaN</td>\n",
       "      <td>NaN</td>\n",
       "      <td>NaN</td>\n",
       "      <td>1.0</td>\n",
       "      <td>5000044.0</td>\n",
       "      <td>4000.0</td>\n",
       "      <td>5004044.0</td>\n",
       "    </tr>\n",
       "  </tbody>\n",
       "</table>\n",
       "<p>4 rows × 31 columns</p>\n",
       "</div>"
      ],
      "text/plain": [
       "                  timestamp    age                        industry  \\\n",
       "2124   2021-04-27T11:38:28Z  55-64                    Art & Design   \n",
       "3605   2021-04-27T12:11:17Z  25-34  Utilities & Telecommunications   \n",
       "15509  2021-04-28T17:09:29Z  35-44               Computing or Tech   \n",
       "26466  2021-06-14T04:19:17Z  55-64                           Sales   \n",
       "\n",
       "                  job_title  annual_salary  additional_salary currency  \\\n",
       "2124         Owner and CEO         3000000                NaN      USD   \n",
       "3605     Operations Manager      102000000                NaN      USD   \n",
       "15509       Product Manager        2111538            84610.0      USD   \n",
       "26466  Inside Sales Manager        5000044             4000.0      USD   \n",
       "\n",
       "             country       state      city  ... education_lvl gender_idx  \\\n",
       "2124   United States    New York  New York  ...           4.0        1.0   \n",
       "3605        Colombia         NaN    Bogotá  ...           2.0        2.0   \n",
       "15509      Singapore         NaN       NaN  ...           3.0        2.0   \n",
       "26466  United States  New Jersey   Babergh  ...           4.0        1.0   \n",
       "\n",
       "           continent                   lat_long        lat       long  \\\n",
       "2124   North America  (40.7127281, -74.0060152)  40.712728 -74.006015   \n",
       "3605   South America   (4.6534649, -74.0836453)   4.653465 -74.083645   \n",
       "15509           Asia                        NaN        NaN        NaN   \n",
       "26466  North America                        NaN        NaN        NaN   \n",
       "\n",
       "       USD_rate  annual_salary_USD  additional_salary_USD  total_salary_USD  \n",
       "2124        1.0          3000000.0                    NaN         3000000.0  \n",
       "3605        1.0        102000000.0                    NaN       102000000.0  \n",
       "15509       1.0          2111538.0                84610.0         2196148.0  \n",
       "26466       1.0          5000044.0                 4000.0         5004044.0  \n",
       "\n",
       "[4 rows x 31 columns]"
      ]
     },
     "execution_count": 102,
     "metadata": {},
     "output_type": "execute_result"
    }
   ],
   "source": [
    "# calculate upper and lower limits\n",
    "upper_limit = data.total_salary_USD.mean() + 3 * data.total_salary_USD.std()\n",
    "lower_limit = data.total_salary_USD.mean() -3 * data.total_salary_USD.std()\n",
    "\n",
    "# show outliers\n",
    "data[~((data.total_salary_USD < upper_limit) & (data.total_salary_USD > lower_limit))]"
   ]
  },
  {
   "cell_type": "code",
   "execution_count": 105,
   "id": "4f2b7778",
   "metadata": {},
   "outputs": [],
   "source": [
    "# remove outliers\n",
    "data = data.drop(data[~((data.total_salary_USD < upper_limit) & (data.total_salary_USD > lower_limit))].index)"
   ]
  },
  {
   "cell_type": "code",
   "execution_count": 106,
   "id": "43529d51",
   "metadata": {},
   "outputs": [
    {
     "name": "stderr",
     "output_type": "stream",
     "text": [
      "c:\\users\\wiewi\\appdata\\local\\programs\\python\\python37\\lib\\site-packages\\seaborn\\_decorators.py:43: FutureWarning: Pass the following variable as a keyword arg: x. From version 0.12, the only valid positional argument will be `data`, and passing other arguments without an explicit keyword will result in an error or misinterpretation.\n",
      "  FutureWarning\n"
     ]
    },
    {
     "data": {
      "image/png": "[encoded data removed]",
      "text/plain": [
       "<Figure size 720x360 with 1 Axes>"
      ]
     },
     "metadata": {
      "needs_background": "light"
     },
     "output_type": "display_data"
    }
   ],
   "source": [
    "fig = plt.figure(figsize=(10,5))\n",
    "sns.boxplot(data.total_salary_USD)\n",
    "plt.title('Box Plot', fontsize=15)\n",
    "plt.xlabel('Total salary in USD', fontsize=14)\n",
    "plt.show()"
   ]
  },
  {
   "cell_type": "markdown",
   "id": "6195240e",
   "metadata": {},
   "source": [
    "# Indexing\n",
    "We are forced to treat each record separately."
   ]
  },
  {
   "cell_type": "code",
   "execution_count": 586,
   "id": "79021b4b",
   "metadata": {},
   "outputs": [],
   "source": [
    "data['index'] = data.index"
   ]
  },
  {
   "cell_type": "markdown",
   "id": "5946a65a",
   "metadata": {},
   "source": [
    "# Export data"
   ]
  },
  {
   "cell_type": "code",
   "execution_count": 792,
   "id": "8751d199",
   "metadata": {},
   "outputs": [
    {
     "name": "stdout",
     "output_type": "stream",
     "text": [
      "<class 'pandas.core.frame.DataFrame'>\n",
      "Int64Index: 27844 entries, 0 to 27847\n",
      "Data columns (total 36 columns):\n",
      " #   Column                  Non-Null Count  Dtype  \n",
      "---  ------                  --------------  -----  \n",
      " 0   timestamp               27844 non-null  object \n",
      " 1   age                     27844 non-null  object \n",
      " 2   industry                27774 non-null  object \n",
      " 3   job_title               27844 non-null  object \n",
      " 4   annual_salary           27844 non-null  int64  \n",
      " 5   additional_salary       20632 non-null  float64\n",
      " 6   currency                27836 non-null  object \n",
      " 7   country                 27818 non-null  object \n",
      " 8   state                   22198 non-null  object \n",
      " 9   city                    27238 non-null  object \n",
      " 10  total_experience        27844 non-null  object \n",
      " 11  current_experience      27844 non-null  object \n",
      " 12  education               27634 non-null  object \n",
      " 13  gender                  27679 non-null  object \n",
      " 14  race                    27680 non-null  object \n",
      " 15  age_min                 27833 non-null  float64\n",
      " 16  age_max                 27752 non-null  float64\n",
      " 17  total_experience_min    27340 non-null  float64\n",
      " 18  total_experience_max    27724 non-null  float64\n",
      " 19  current_experience_min  26407 non-null  float64\n",
      " 20  current_experience_max  27806 non-null  float64\n",
      " 21  education_lvl           26214 non-null  float64\n",
      " 22  gender_idx              27679 non-null  float64\n",
      " 23  continent               27818 non-null  object \n",
      " 24  lat_long                27074 non-null  object \n",
      " 25  lat                     27074 non-null  float64\n",
      " 26  long                    27074 non-null  float64\n",
      " 27  USD_rate                27836 non-null  float64\n",
      " 28  annual_salary_USD       27832 non-null  float64\n",
      " 29  additional_salary_USD   20628 non-null  float64\n",
      " 30  total_salary_USD        27844 non-null  float64\n",
      " 31  race_idx                27680 non-null  object \n",
      " 32  index                   27844 non-null  int64  \n",
      " 33  job_title_clean         27844 non-null  object \n",
      " 34  industry_clean          27774 non-null  object \n",
      " 35  total_salary            27844 non-null  float64\n",
      "dtypes: float64(16), int64(2), object(18)\n",
      "memory usage: 9.1+ MB\n"
     ]
    }
   ],
   "source": [
    "data.info()"
   ]
  },
  {
   "cell_type": "code",
   "execution_count": 793,
   "id": "bbcc7bf6",
   "metadata": {},
   "outputs": [],
   "source": [
    "data.to_csv(\"Data/data_full.csv\", index=False)"
   ]
  },
  {
   "cell_type": "code",
   "execution_count": null,
   "id": "6253026f",
   "metadata": {},
   "outputs": [],
   "source": [
    "data['person_ID'] = range(1, len(person_table) + 1)"
   ]
  },
  {
   "attachments": {
    "Currency_Table.png": {
     "image/png": "[encoded data removed]"
    }
   },
   "cell_type": "markdown",
   "id": "5b3f5e32",
   "metadata": {},
   "source": [
    "## Currency table\n",
    "![Currency_Table.png](attachment:Currency_Table.png)"
   ]
  },
  {
   "cell_type": "code",
   "execution_count": 681,
   "id": "ca394ddb",
   "metadata": {},
   "outputs": [],
   "source": [
    "currency_table = data[['currency', 'USD_rate']].copy()"
   ]
  },
  {
   "cell_type": "code",
   "execution_count": 682,
   "id": "fca60d04",
   "metadata": {},
   "outputs": [],
   "source": [
    "currency_table = currency_table.drop_duplicates()"
   ]
  },
  {
   "cell_type": "code",
   "execution_count": 683,
   "id": "bfe756df",
   "metadata": {},
   "outputs": [],
   "source": [
    "currency_table['currency_ID'] = range(1, len(currency_table) + 1)"
   ]
  },
  {
   "cell_type": "code",
   "execution_count": 684,
   "id": "dc5f8469",
   "metadata": {},
   "outputs": [
    {
     "data": {
      "text/html": [
       "<div>\n",
       "<style scoped>\n",
       "    .dataframe tbody tr th:only-of-type {\n",
       "        vertical-align: middle;\n",
       "    }\n",
       "\n",
       "    .dataframe tbody tr th {\n",
       "        vertical-align: top;\n",
       "    }\n",
       "\n",
       "    .dataframe thead th {\n",
       "        text-align: right;\n",
       "    }\n",
       "</style>\n",
       "<table border=\"1\" class=\"dataframe\">\n",
       "  <thead>\n",
       "    <tr style=\"text-align: right;\">\n",
       "      <th></th>\n",
       "      <th>currency</th>\n",
       "      <th>USD_rate</th>\n",
       "      <th>currency_ID</th>\n",
       "    </tr>\n",
       "  </thead>\n",
       "  <tbody>\n",
       "    <tr>\n",
       "      <th>0</th>\n",
       "      <td>USD</td>\n",
       "      <td>1.000000</td>\n",
       "      <td>1</td>\n",
       "    </tr>\n",
       "    <tr>\n",
       "      <th>1</th>\n",
       "      <td>GBP</td>\n",
       "      <td>1.380000</td>\n",
       "      <td>2</td>\n",
       "    </tr>\n",
       "    <tr>\n",
       "      <th>14</th>\n",
       "      <td>CAD</td>\n",
       "      <td>0.780000</td>\n",
       "      <td>3</td>\n",
       "    </tr>\n",
       "    <tr>\n",
       "      <th>117</th>\n",
       "      <td>EUR</td>\n",
       "      <td>1.209000</td>\n",
       "      <td>4</td>\n",
       "    </tr>\n",
       "    <tr>\n",
       "      <th>139</th>\n",
       "      <td>AUD</td>\n",
       "      <td>0.694391</td>\n",
       "      <td>5</td>\n",
       "    </tr>\n",
       "  </tbody>\n",
       "</table>\n",
       "</div>"
      ],
      "text/plain": [
       "    currency  USD_rate  currency_ID\n",
       "0        USD  1.000000            1\n",
       "1        GBP  1.380000            2\n",
       "14       CAD  0.780000            3\n",
       "117      EUR  1.209000            4\n",
       "139      AUD  0.694391            5"
      ]
     },
     "execution_count": 684,
     "metadata": {},
     "output_type": "execute_result"
    }
   ],
   "source": [
    "currency_table.head()"
   ]
  },
  {
   "attachments": {
    "Place_Table.png": {
     "image/png": "[encoded data removed]"
    }
   },
   "cell_type": "markdown",
   "id": "a113cc90",
   "metadata": {},
   "source": [
    "## Place table\n",
    "![Place_Table.png](attachment:Place_Table.png)"
   ]
  },
  {
   "cell_type": "code",
   "execution_count": 685,
   "id": "0f04ec40",
   "metadata": {},
   "outputs": [],
   "source": [
    "place_table = data[['continent', 'country', 'state', 'city', 'lat', 'long']].copy()"
   ]
  },
  {
   "cell_type": "code",
   "execution_count": 686,
   "id": "5b23aba6",
   "metadata": {},
   "outputs": [],
   "source": [
    "place_table = place_table.drop_duplicates()"
   ]
  },
  {
   "cell_type": "code",
   "execution_count": 687,
   "id": "f4e4be88",
   "metadata": {},
   "outputs": [],
   "source": [
    "place_table['place_ID'] = range(1, len(place_table) + 1)"
   ]
  },
  {
   "cell_type": "code",
   "execution_count": null,
   "id": "5b71d78b",
   "metadata": {},
   "outputs": [],
   "source": [
    "top_15_places_us = [['New York', 'New York'], [\"Los Angeles\", \"California\"], ['Chicago', 'Illinois'], ['Houston', 'Texas'], ['Phoenix', 'Arizona'], ['Philadelphia', 'Pennsylvania'], ['San Antonio', 'Texas'], ['San Diego', 'California'], ['Dallas', 'Texas'], ['San Jose', 'California'], ['Austin', 'Texas'], ['Jacksonville', 'Florida'], ['Fort Worth', 'Texas'], ['Columbus', 'Ohio'], ['Indianapolis', 'Indiana']]\n",
    "top_15_places_us = pd.DataFrame(top_15_places_us, columns=['City', 'State'])\n",
    "dct = dict(zip(top_15_places_us['City'], top_15_places_us['State']))\n",
    "for value in place_table['city']:\n",
    "    if value in dct.keys():\n",
    "        place_table['state'] = place_table['city'].map(dct)"
   ]
  },
  {
   "cell_type": "code",
   "execution_count": 688,
   "id": "11c7b59d",
   "metadata": {},
   "outputs": [
    {
     "data": {
      "text/html": [
       "<div>\n",
       "<style scoped>\n",
       "    .dataframe tbody tr th:only-of-type {\n",
       "        vertical-align: middle;\n",
       "    }\n",
       "\n",
       "    .dataframe tbody tr th {\n",
       "        vertical-align: top;\n",
       "    }\n",
       "\n",
       "    .dataframe thead th {\n",
       "        text-align: right;\n",
       "    }\n",
       "</style>\n",
       "<table border=\"1\" class=\"dataframe\">\n",
       "  <thead>\n",
       "    <tr style=\"text-align: right;\">\n",
       "      <th></th>\n",
       "      <th>continent</th>\n",
       "      <th>country</th>\n",
       "      <th>state</th>\n",
       "      <th>city</th>\n",
       "      <th>lat</th>\n",
       "      <th>long</th>\n",
       "      <th>place_ID</th>\n",
       "    </tr>\n",
       "  </thead>\n",
       "  <tbody>\n",
       "    <tr>\n",
       "      <th>0</th>\n",
       "      <td>North America</td>\n",
       "      <td>United States</td>\n",
       "      <td>Massachusetts</td>\n",
       "      <td>Boston</td>\n",
       "      <td>42.355433</td>\n",
       "      <td>-71.060511</td>\n",
       "      <td>1</td>\n",
       "    </tr>\n",
       "    <tr>\n",
       "      <th>1</th>\n",
       "      <td>Europe</td>\n",
       "      <td>United Kingdom</td>\n",
       "      <td>NaN</td>\n",
       "      <td>Cambridge</td>\n",
       "      <td>52.197585</td>\n",
       "      <td>0.139154</td>\n",
       "      <td>2</td>\n",
       "    </tr>\n",
       "    <tr>\n",
       "      <th>2</th>\n",
       "      <td>North America</td>\n",
       "      <td>United States</td>\n",
       "      <td>Tennessee</td>\n",
       "      <td>Chattanooga</td>\n",
       "      <td>35.045722</td>\n",
       "      <td>-85.309488</td>\n",
       "      <td>3</td>\n",
       "    </tr>\n",
       "    <tr>\n",
       "      <th>3</th>\n",
       "      <td>North America</td>\n",
       "      <td>United States</td>\n",
       "      <td>Wisconsin</td>\n",
       "      <td>Milwaukee</td>\n",
       "      <td>43.034993</td>\n",
       "      <td>-87.922497</td>\n",
       "      <td>4</td>\n",
       "    </tr>\n",
       "    <tr>\n",
       "      <th>4</th>\n",
       "      <td>North America</td>\n",
       "      <td>United States</td>\n",
       "      <td>South Carolina</td>\n",
       "      <td>Greenville</td>\n",
       "      <td>34.851354</td>\n",
       "      <td>-82.398488</td>\n",
       "      <td>5</td>\n",
       "    </tr>\n",
       "  </tbody>\n",
       "</table>\n",
       "</div>"
      ],
      "text/plain": [
       "       continent         country           state         city        lat  \\\n",
       "0  North America   United States   Massachusetts       Boston  42.355433   \n",
       "1         Europe  United Kingdom             NaN    Cambridge  52.197585   \n",
       "2  North America   United States       Tennessee  Chattanooga  35.045722   \n",
       "3  North America   United States       Wisconsin    Milwaukee  43.034993   \n",
       "4  North America   United States  South Carolina   Greenville  34.851354   \n",
       "\n",
       "        long  place_ID  \n",
       "0 -71.060511         1  \n",
       "1   0.139154         2  \n",
       "2 -85.309488         3  \n",
       "3 -87.922497         4  \n",
       "4 -82.398488         5  "
      ]
     },
     "execution_count": 688,
     "metadata": {},
     "output_type": "execute_result"
    }
   ],
   "source": [
    "place_table.head()"
   ]
  },
  {
   "attachments": {
    "Position_Table.png": {
     "image/png": "[encoded data removed]"
    }
   },
   "cell_type": "markdown",
   "id": "253835cf",
   "metadata": {},
   "source": [
    "## Position table\n",
    "![Position_Table.png](attachment:Position_Table.png)"
   ]
  },
  {
   "cell_type": "code",
   "execution_count": 689,
   "id": "36f003aa",
   "metadata": {},
   "outputs": [],
   "source": [
    "position_table = data[['job_title_clean', 'industry_clean']].copy()"
   ]
  },
  {
   "cell_type": "code",
   "execution_count": 690,
   "id": "6ec0dd55",
   "metadata": {},
   "outputs": [],
   "source": [
    "#position_table = position_table.rename(columns={\"job_title_clean\": \"job_title\", \"industry_clean\": \"industry\"})"
   ]
  },
  {
   "cell_type": "code",
   "execution_count": 691,
   "id": "b3c33db9",
   "metadata": {},
   "outputs": [],
   "source": [
    "position_table = position_table.drop_duplicates()"
   ]
  },
  {
   "cell_type": "code",
   "execution_count": 692,
   "id": "1d2a479b",
   "metadata": {},
   "outputs": [],
   "source": [
    "position_table['position_ID'] = range(1, len(position_table) + 1)"
   ]
  },
  {
   "cell_type": "code",
   "execution_count": 693,
   "id": "3142dbc1",
   "metadata": {},
   "outputs": [
    {
     "data": {
      "text/html": [
       "<div>\n",
       "<style scoped>\n",
       "    .dataframe tbody tr th:only-of-type {\n",
       "        vertical-align: middle;\n",
       "    }\n",
       "\n",
       "    .dataframe tbody tr th {\n",
       "        vertical-align: top;\n",
       "    }\n",
       "\n",
       "    .dataframe thead th {\n",
       "        text-align: right;\n",
       "    }\n",
       "</style>\n",
       "<table border=\"1\" class=\"dataframe\">\n",
       "  <thead>\n",
       "    <tr style=\"text-align: right;\">\n",
       "      <th></th>\n",
       "      <th>job_title</th>\n",
       "      <th>industry</th>\n",
       "      <th>position_ID</th>\n",
       "    </tr>\n",
       "  </thead>\n",
       "  <tbody>\n",
       "    <tr>\n",
       "      <th>0</th>\n",
       "      <td>Research And Instruction Librarian</td>\n",
       "      <td>Education (Higher Education)</td>\n",
       "      <td>1</td>\n",
       "    </tr>\n",
       "    <tr>\n",
       "      <th>1</th>\n",
       "      <td>Change And Internal Communications Manager</td>\n",
       "      <td>Computing Or Tech</td>\n",
       "      <td>2</td>\n",
       "    </tr>\n",
       "    <tr>\n",
       "      <th>2</th>\n",
       "      <td>Marketing Specialist</td>\n",
       "      <td>Accounting, Banking And Finance</td>\n",
       "      <td>3</td>\n",
       "    </tr>\n",
       "    <tr>\n",
       "      <th>3</th>\n",
       "      <td>Program Manager</td>\n",
       "      <td>Nonprofits</td>\n",
       "      <td>4</td>\n",
       "    </tr>\n",
       "    <tr>\n",
       "      <th>4</th>\n",
       "      <td>Accounting Manager</td>\n",
       "      <td>Accounting, Banking And Finance</td>\n",
       "      <td>5</td>\n",
       "    </tr>\n",
       "  </tbody>\n",
       "</table>\n",
       "</div>"
      ],
      "text/plain": [
       "                                    job_title  \\\n",
       "0          Research And Instruction Librarian   \n",
       "1  Change And Internal Communications Manager   \n",
       "2                        Marketing Specialist   \n",
       "3                             Program Manager   \n",
       "4                          Accounting Manager   \n",
       "\n",
       "                          industry  position_ID  \n",
       "0     Education (Higher Education)            1  \n",
       "1                Computing Or Tech            2  \n",
       "2  Accounting, Banking And Finance            3  \n",
       "3                       Nonprofits            4  \n",
       "4  Accounting, Banking And Finance            5  "
      ]
     },
     "execution_count": 693,
     "metadata": {},
     "output_type": "execute_result"
    }
   ],
   "source": [
    "position_table.head()"
   ]
  },
  {
   "attachments": {
    "Person_Table.png": {
     "image/png": "[encoded data removed]"
    }
   },
   "cell_type": "markdown",
   "id": "e342afbc",
   "metadata": {},
   "source": [
    "## Person table\n",
    "![Person_Table.png](attachment:Person_Table.png)"
   ]
  },
  {
   "cell_type": "code",
   "execution_count": 694,
   "id": "9ab4fb3b",
   "metadata": {},
   "outputs": [],
   "source": [
    "person_table = data[['person_ID', 'gender', 'gender_idx', 'race', 'race_idx', 'education', 'education_lvl', 'age', 'age_min', 'age_max', 'total_experience', 'total_experience_min', 'total_experience_max', 'current_experience', 'current_experience_min', 'current_experience_max']].copy()"
   ]
  },
  {
   "cell_type": "code",
   "execution_count": 697,
   "id": "1f603684",
   "metadata": {},
   "outputs": [
    {
     "data": {
      "text/html": [
       "<div>\n",
       "<style scoped>\n",
       "    .dataframe tbody tr th:only-of-type {\n",
       "        vertical-align: middle;\n",
       "    }\n",
       "\n",
       "    .dataframe tbody tr th {\n",
       "        vertical-align: top;\n",
       "    }\n",
       "\n",
       "    .dataframe thead th {\n",
       "        text-align: right;\n",
       "    }\n",
       "</style>\n",
       "<table border=\"1\" class=\"dataframe\">\n",
       "  <thead>\n",
       "    <tr style=\"text-align: right;\">\n",
       "      <th></th>\n",
       "      <th>gender_idx</th>\n",
       "      <th>race_idx</th>\n",
       "      <th>education_lvl</th>\n",
       "      <th>age</th>\n",
       "      <th>age_min</th>\n",
       "      <th>age_max</th>\n",
       "      <th>total_experience</th>\n",
       "      <th>total_experience_min</th>\n",
       "      <th>total_experience_max</th>\n",
       "      <th>current_experience</th>\n",
       "      <th>current_experience_min</th>\n",
       "      <th>current_experience_max</th>\n",
       "      <th>person_ID</th>\n",
       "    </tr>\n",
       "  </thead>\n",
       "  <tbody>\n",
       "    <tr>\n",
       "      <th>0</th>\n",
       "      <td>1.0</td>\n",
       "      <td>7</td>\n",
       "      <td>4.0</td>\n",
       "      <td>25-34</td>\n",
       "      <td>25.0</td>\n",
       "      <td>34.0</td>\n",
       "      <td>5-7 years</td>\n",
       "      <td>5.0</td>\n",
       "      <td>7.0</td>\n",
       "      <td>5-7 years</td>\n",
       "      <td>5.0</td>\n",
       "      <td>7.0</td>\n",
       "      <td>1</td>\n",
       "    </tr>\n",
       "    <tr>\n",
       "      <th>1</th>\n",
       "      <td>3.0</td>\n",
       "      <td>7</td>\n",
       "      <td>3.0</td>\n",
       "      <td>25-34</td>\n",
       "      <td>25.0</td>\n",
       "      <td>34.0</td>\n",
       "      <td>8 - 10 years</td>\n",
       "      <td>8.0</td>\n",
       "      <td>10.0</td>\n",
       "      <td>5-7 years</td>\n",
       "      <td>5.0</td>\n",
       "      <td>7.0</td>\n",
       "      <td>2</td>\n",
       "    </tr>\n",
       "    <tr>\n",
       "      <th>2</th>\n",
       "      <td>1.0</td>\n",
       "      <td>7</td>\n",
       "      <td>3.0</td>\n",
       "      <td>25-34</td>\n",
       "      <td>25.0</td>\n",
       "      <td>34.0</td>\n",
       "      <td>2 - 4 years</td>\n",
       "      <td>2.0</td>\n",
       "      <td>4.0</td>\n",
       "      <td>2 - 4 years</td>\n",
       "      <td>2.0</td>\n",
       "      <td>4.0</td>\n",
       "      <td>3</td>\n",
       "    </tr>\n",
       "    <tr>\n",
       "      <th>3</th>\n",
       "      <td>1.0</td>\n",
       "      <td>7</td>\n",
       "      <td>3.0</td>\n",
       "      <td>25-34</td>\n",
       "      <td>25.0</td>\n",
       "      <td>34.0</td>\n",
       "      <td>8 - 10 years</td>\n",
       "      <td>8.0</td>\n",
       "      <td>10.0</td>\n",
       "      <td>5-7 years</td>\n",
       "      <td>5.0</td>\n",
       "      <td>7.0</td>\n",
       "      <td>4</td>\n",
       "    </tr>\n",
       "    <tr>\n",
       "      <th>5</th>\n",
       "      <td>2.0</td>\n",
       "      <td>7</td>\n",
       "      <td>4.0</td>\n",
       "      <td>25-34</td>\n",
       "      <td>25.0</td>\n",
       "      <td>34.0</td>\n",
       "      <td>8 - 10 years</td>\n",
       "      <td>8.0</td>\n",
       "      <td>10.0</td>\n",
       "      <td>2 - 4 years</td>\n",
       "      <td>2.0</td>\n",
       "      <td>4.0</td>\n",
       "      <td>5</td>\n",
       "    </tr>\n",
       "  </tbody>\n",
       "</table>\n",
       "</div>"
      ],
      "text/plain": [
       "   gender_idx race_idx  education_lvl    age  age_min  age_max  \\\n",
       "0         1.0        7            4.0  25-34     25.0     34.0   \n",
       "1         3.0        7            3.0  25-34     25.0     34.0   \n",
       "2         1.0        7            3.0  25-34     25.0     34.0   \n",
       "3         1.0        7            3.0  25-34     25.0     34.0   \n",
       "5         2.0        7            4.0  25-34     25.0     34.0   \n",
       "\n",
       "  total_experience  total_experience_min  total_experience_max  \\\n",
       "0        5-7 years                   5.0                   7.0   \n",
       "1     8 - 10 years                   8.0                  10.0   \n",
       "2      2 - 4 years                   2.0                   4.0   \n",
       "3     8 - 10 years                   8.0                  10.0   \n",
       "5     8 - 10 years                   8.0                  10.0   \n",
       "\n",
       "  current_experience  current_experience_min  current_experience_max  \\\n",
       "0          5-7 years                     5.0                     7.0   \n",
       "1          5-7 years                     5.0                     7.0   \n",
       "2        2 - 4 years                     2.0                     4.0   \n",
       "3          5-7 years                     5.0                     7.0   \n",
       "5        2 - 4 years                     2.0                     4.0   \n",
       "\n",
       "   person_ID  \n",
       "0          1  \n",
       "1          2  \n",
       "2          3  \n",
       "3          4  \n",
       "5          5  "
      ]
     },
     "execution_count": 697,
     "metadata": {},
     "output_type": "execute_result"
    }
   ],
   "source": [
    "person_table.head()"
   ]
  },
  {
   "attachments": {
    "Employee_Table.png": {
     "image/png": "[encoded data removed]"
    }
   },
   "cell_type": "markdown",
   "id": "60086bb5",
   "metadata": {},
   "source": [
    "## Employee table\n",
    "![Employee_Table.png](attachment:Employee_Table.png)"
   ]
  },
  {
   "cell_type": "code",
   "execution_count": null,
   "id": "c594f290",
   "metadata": {},
   "outputs": [],
   "source": [
    "temp_data = pd.merge(data, place_table, on=['lat', 'long'])"
   ]
  },
  {
   "cell_type": "code",
   "execution_count": null,
   "id": "c6dae552",
   "metadata": {},
   "outputs": [],
   "source": [
    "position_table_ = position_table.rename(columns={\"job_title\": \"job_title_clean\", \"industry\": \"industry_clean\"})\n",
    "temp_data_pos = pd.merge(temp_data, position_table_, on=['industry_clean', 'job_title_clean'])\n",
    "\n",
    "currency_table_ = currency_table.rename(columns={\"name\": \"currency\"})\n",
    "temp_data_joined = pd.merge(temp_data_pos, currency_table_, on=['currency'])\n",
    "\n",
    "employee_table = temp_data_joined[['person_ID', 'place_ID', 'position_ID', 'annual_salary', 'annual_salary_USD', 'additional_salary', 'additional_salary_USD', 'total_salary', 'total_salary_USD', 'currency_ID']].copy()\n",
    "\n",
    "employee_table['annual_salary'] = employee_table['annual_salary'].fillna(0)\n",
    "employee_table['annual_salary_USD'] = employee_table['annual_salary_USD'].fillna(0)"
   ]
  },
  {
   "cell_type": "code",
   "execution_count": null,
   "id": "9909043b",
   "metadata": {},
   "outputs": [],
   "source": [
    "person_table.to_csv(\"person_table.csv\", index = False)\n",
    "position_table.to_csv(\"position_table.csv\", index = False)\n",
    "place_table.to_csv(\"place_table.csv\", index = False)\n",
    "currency_table.to_csv(\"currency_table.csv\", index = False)\n",
    "employee_table.to_csv(\"employee_table.csv\", index = False)"
   ]
  }
 ],
 "metadata": {
  "kernelspec": {
   "display_name": "Python 3",
   "language": "python",
   "name": "python3"
  },
  "language_info": {
   "codemirror_mode": {
    "name": "ipython",
    "version": 3
   },
   "file_extension": ".py",
   "mimetype": "text/x-python",
   "name": "python",
   "nbconvert_exporter": "python",
   "pygments_lexer": "ipython3",
   "version": "3.8.8"
  }
 },
 "nbformat": 4,
 "nbformat_minor": 5
}
