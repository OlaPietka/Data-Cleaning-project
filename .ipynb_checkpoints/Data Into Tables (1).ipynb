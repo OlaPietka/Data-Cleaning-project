{
 "cells": [
  {
   "cell_type": "code",
   "execution_count": 110,
   "id": "9b600e57",
   "metadata": {},
   "outputs": [],
   "source": [
    "import pandas as pd\n",
    "data = pd.read_csv('data_full.csv')"
   ]
  },
  {
   "cell_type": "code",
   "execution_count": 111,
   "id": "58cbeaf8",
   "metadata": {},
   "outputs": [],
   "source": [
    "data['person_ID'] = range(1, len(person_table) + 1)"
   ]
  },
  {
   "cell_type": "code",
   "execution_count": 112,
   "id": "e75119a6",
   "metadata": {},
   "outputs": [],
   "source": [
    "currency_table = data[['currency', 'USD_rate']].copy()\n",
    "currency_table = currency_table.drop_duplicates()\n",
    "currency_table['currency_ID'] = range(1, len(currency_table) + 1)"
   ]
  },
  {
   "cell_type": "code",
   "execution_count": 113,
   "id": "56c55a41",
   "metadata": {},
   "outputs": [],
   "source": [
    "place_table = data[['continent', 'country', 'state', 'city', 'lat', 'long']].copy()\n",
    "place_table = place_table.drop_duplicates()\n",
    "place_table['place_ID'] = range(1, len(place_table) + 1)"
   ]
  },
  {
   "cell_type": "code",
   "execution_count": 114,
   "id": "cb740643",
   "metadata": {},
   "outputs": [],
   "source": [
    "top_15_places_us = [['New York', 'New York'], [\"Los Angeles\", \"California\"], ['Chicago', 'Illinois'], ['Houston', 'Texas'], ['Phoenix', 'Arizona'], ['Philadelphia', 'Pennsylvania'], ['San Antonio', 'Texas'], ['San Diego', 'California'], ['Dallas', 'Texas'], ['San Jose', 'California'], ['Austin', 'Texas'], ['Jacksonville', 'Florida'], ['Fort Worth', 'Texas'], ['Columbus', 'Ohio'], ['Indianapolis', 'Indiana']]\n",
    "top_15_places_us = pd.DataFrame(top_15_places_us, columns=['City', 'State'])"
   ]
  },
  {
   "cell_type": "code",
   "execution_count": 115,
   "id": "de1abfad",
   "metadata": {},
   "outputs": [],
   "source": [
    "dct = dict(zip(top_15_places_us['City'], top_15_places_us['State']))\n",
    "for value in place_table['city']:\n",
    "    if value in dct.keys():\n",
    "        place_table['state'] = place_table['city'].map(dct)"
   ]
  },
  {
   "cell_type": "code",
   "execution_count": 116,
   "id": "f32d0ef1",
   "metadata": {},
   "outputs": [],
   "source": [
    "position_table = data[['job_title_clean', 'industry_clean']].copy()\n",
    "position_table = position_table.rename(columns={\"job_title_clean\": \"job_title\", \"industry_clean\": \"industry\"})\n",
    "position_table = position_table.drop_duplicates()\n",
    "position_table['position_ID'] = range(1, len(position_table) + 1)"
   ]
  },
  {
   "cell_type": "code",
   "execution_count": 117,
   "id": "22ad30b1",
   "metadata": {},
   "outputs": [],
   "source": [
    "person_table = data[['person_ID', 'gender', 'gender_idx', 'race', 'race_idx', 'education', 'education_lvl', 'age', 'age_min', 'age_max', 'total_experience', 'total_experience_min', 'total_experience_max', 'current_experience', 'current_experience_min', 'current_experience_max']].copy()\n",
    "#person_table = person_table.drop_duplicates()"
   ]
  },
  {
   "cell_type": "code",
   "execution_count": 118,
   "id": "b9f75fa2",
   "metadata": {},
   "outputs": [],
   "source": [
    "temp_data = pd.merge(data, place_table, on=['lat', 'long'])"
   ]
  },
  {
   "cell_type": "code",
   "execution_count": 119,
   "id": "b106696b",
   "metadata": {},
   "outputs": [],
   "source": [
    "position_table_ = position_table.rename(columns={\"job_title\": \"job_title_clean\", \"industry\": \"industry_clean\"})\n",
    "temp_data_pos = pd.merge(temp_data, position_table_, on=['industry_clean', 'job_title_clean'])"
   ]
  },
  {
   "cell_type": "code",
   "execution_count": 120,
   "id": "97a60179",
   "metadata": {},
   "outputs": [],
   "source": [
    "currency_table_ = currency_table.rename(columns={\"name\": \"currency\"})\n",
    "temp_data_joined = pd.merge(temp_data_pos, currency_table_, on=['currency'])"
   ]
  },
  {
   "cell_type": "code",
   "execution_count": 121,
   "id": "462b4a80",
   "metadata": {},
   "outputs": [],
   "source": [
    "employee_table = temp_data_joined[['person_ID', 'place_ID', 'position_ID', 'annual_salary', 'annual_salary_USD', 'additional_salary', 'additional_salary_USD', 'total_salary', 'total_salary_USD', 'currency_ID']].copy()"
   ]
  },
  {
   "cell_type": "code",
   "execution_count": 122,
   "id": "83fb5a81",
   "metadata": {},
   "outputs": [],
   "source": [
    "employee_table['annual_salary'] = employee_table['annual_salary'].fillna(0)\n",
    "employee_table['annual_salary_USD'] = employee_table['annual_salary_USD'].fillna(0)"
   ]
  },
  {
   "cell_type": "code",
   "execution_count": 123,
   "id": "b88c301e",
   "metadata": {},
   "outputs": [],
   "source": [
    "person_table.to_csv(\"person_table.csv\", index = False)\n",
    "position_table.to_csv(\"position_table.csv\", index = False)\n",
    "place_table.to_csv(\"place_table.csv\", index = False)\n",
    "currency_table.to_csv(\"currency_table.csv\", index = False)\n",
    "employee_table.to_csv(\"employee_table.csv\", index = False)"
   ]
  }
 ],
 "metadata": {
  "kernelspec": {
   "display_name": "Python 3",
   "language": "python",
   "name": "python3"
  },
  "language_info": {
   "codemirror_mode": {
    "name": "ipython",
    "version": 3
   },
   "file_extension": ".py",
   "mimetype": "text/x-python",
   "name": "python",
   "nbconvert_exporter": "python",
   "pygments_lexer": "ipython3",
   "version": "3.8.8"
  }
 },
 "nbformat": 4,
 "nbformat_minor": 5
}
