{
 "cells": [
  {
   "cell_type": "markdown",
   "id": "66d9d08a",
   "metadata": {},
   "source": [
    "# Descirpion\n",
    "The purpose of this notebook is to take the csv file as an input and split the data for future SQL tables creation. \n",
    "\n",
    "---"
   ]
  },
  {
   "cell_type": "markdown",
   "id": "bb936cde",
   "metadata": {},
   "source": [
    "# About the data\n",
    "This dataset (Ask A Manager Salary Survey 2021 dataset) contains salary information by industry, age group, location, gender, years of experience, and education level. The data is based on approximately 28k user entered responses.\n",
    "\n",
    "**Features:**\n",
    "- `timestamp` - time when the survey was filed\n",
    "- `age` - Age range of the person\n",
    "- `industry` - Working industry\n",
    "- `job_title` - Job title\n",
    "- `job_context` - Additional context for the job title\n",
    "- `annual_salary` - Annual salary\n",
    "- `additional_salary` - Additional monetary compensation\n",
    "- `currency` - Salary currency\n",
    "- `currency_context` - Other currency\n",
    "- `salary_context` - Additional context for salary\n",
    "- `country` -  Country in which person is working\n",
    "- `state` - State in which person is working\n",
    "- `city` - City in which person is working\n",
    "- `total_experience` -  Year  range of total work experience\n",
    "- `current_experience` - Year range of current field  work experience\n",
    "- `education` - Highest level of education completed\n",
    "- `gender` - Gender of the person\n",
    "- `race` - Race of the person"
   ]
  },
  {
   "cell_type": "markdown",
   "id": "f457633c",
   "metadata": {},
   "source": [
    "# Reading the file"
   ]
  },
  {
   "cell_type": "code",
   "execution_count": 2,
   "id": "bafd5006",
   "metadata": {},
   "outputs": [],
   "source": [
    "import pandas\n",
    "\n",
    "data = pandas.read_csv('Data/salary_responses_clean.csv')"
   ]
  },
  {
   "cell_type": "code",
   "execution_count": 3,
   "id": "c76b59fd",
   "metadata": {},
   "outputs": [
    {
     "name": "stdout",
     "output_type": "stream",
     "text": [
      "<class 'pandas.core.frame.DataFrame'>\n",
      "RangeIndex: 27848 entries, 0 to 27847\n",
      "Data columns (total 18 columns):\n",
      " #   Column              Non-Null Count  Dtype  \n",
      "---  ------              --------------  -----  \n",
      " 0   timestamp           27848 non-null  object \n",
      " 1   age                 27848 non-null  object \n",
      " 2   industry            27778 non-null  object \n",
      " 3   job_title           27848 non-null  object \n",
      " 4   job_context         7204 non-null   object \n",
      " 5   annual_salary       27848 non-null  int64  \n",
      " 6   additional_salary   20634 non-null  float64\n",
      " 7   currency            27848 non-null  object \n",
      " 8   currency_context    191 non-null    object \n",
      " 9   salary_context      3026 non-null   object \n",
      " 10  country             27848 non-null  object \n",
      " 11  state               22894 non-null  object \n",
      " 12  city                27773 non-null  object \n",
      " 13  total_experience    27848 non-null  object \n",
      " 14  current_experience  27848 non-null  object \n",
      " 15  education           27638 non-null  object \n",
      " 16  gender              27683 non-null  object \n",
      " 17  race                27684 non-null  object \n",
      "dtypes: float64(1), int64(1), object(16)\n",
      "memory usage: 3.8+ MB\n"
     ]
    }
   ],
   "source": [
    "data.info()"
   ]
  },
  {
   "cell_type": "markdown",
   "id": "784f33f5",
   "metadata": {},
   "source": [
    "# Categorical data\n",
    "Let's handle the categorical data first.\n",
    "\n",
    "**Categorical features include:**\n",
    "- `age`\n",
    "- `total_experience`\n",
    "- `current_experience`\n",
    "- `education`\n",
    "- `gender`\n",
    "\n",
    "\n",
    "*The `state`, `race` and `currency` attributes can also be considered categorical, but more cleaning need to be done. We will leave it for now.*"
   ]
  },
  {
   "cell_type": "markdown",
   "id": "7423d78a",
   "metadata": {},
   "source": [
    "## Age"
   ]
  },
  {
   "cell_type": "code",
   "execution_count": 4,
   "id": "b09ba254",
   "metadata": {},
   "outputs": [
    {
     "data": {
      "text/plain": [
       "25-34         12562\n",
       "35-44          9853\n",
       "45-54          3171\n",
       "18-24          1173\n",
       "55-64           986\n",
       "65 or over       92\n",
       "under 18         11\n",
       "Name: age, dtype: int64"
      ]
     },
     "execution_count": 4,
     "metadata": {},
     "output_type": "execute_result"
    }
   ],
   "source": [
    "data['age'].value_counts()"
   ]
  },
  {
   "cell_type": "code",
   "execution_count": 5,
   "id": "58ff56e7",
   "metadata": {},
   "outputs": [
    {
     "data": {
      "text/plain": [
       "0"
      ]
     },
     "execution_count": 5,
     "metadata": {},
     "output_type": "execute_result"
    }
   ],
   "source": [
    "data['age'].isnull().sum()"
   ]
  },
  {
   "cell_type": "markdown",
   "id": "2f45f3f7",
   "metadata": {},
   "source": [
    "Lets create new columns `age_min` and `age_max` so we could more easily analyze the data."
   ]
  },
  {
   "cell_type": "code",
   "execution_count": 6,
   "id": "a474da8c",
   "metadata": {},
   "outputs": [],
   "source": [
    "import numpy as np"
   ]
  },
  {
   "cell_type": "code",
   "execution_count": 7,
   "id": "47c59ec6",
   "metadata": {},
   "outputs": [],
   "source": [
    "def age_range_to_min(row):\n",
    "    age_range = row['age']\n",
    "    \n",
    "    if '-' in age_range:\n",
    "        age_min = age_range.split('-')[0]\n",
    "    elif 'over' in age_range:\n",
    "        age_min = age_range.split()[0]\n",
    "    elif 'under' in age_range:\n",
    "        return np.nan\n",
    "    \n",
    "    return int(age_min)\n",
    "\n",
    "def age_range_to_max(row):\n",
    "    age_range = row['age']\n",
    "    \n",
    "    if '-' in age_range:\n",
    "        age_max = age_range.split('-')[1]\n",
    "    elif 'over' in age_range:\n",
    "        return np.nan\n",
    "    elif 'under' in age_range:\n",
    "        age_max = age_range.split()[-1]\n",
    "    \n",
    "    return int(age_max)"
   ]
  },
  {
   "cell_type": "code",
   "execution_count": 8,
   "id": "5c8b1176",
   "metadata": {},
   "outputs": [],
   "source": [
    "data['age_min'] = data.apply(lambda row: age_range_to_min(row), axis=1)\n",
    "data['age_max'] = data.apply(lambda row: age_range_to_max(row), axis=1)"
   ]
  },
  {
   "cell_type": "markdown",
   "id": "c4e5da6c",
   "metadata": {},
   "source": [
    "## Experience\n",
    "Same goes for `total_experience` and `current_experience` attributes."
   ]
  },
  {
   "cell_type": "code",
   "execution_count": 9,
   "id": "91162427",
   "metadata": {},
   "outputs": [
    {
     "data": {
      "text/plain": [
       "11 - 20 years       9579\n",
       "8 - 10 years        5348\n",
       "5-7 years           4843\n",
       "21 - 30 years       3617\n",
       "2 - 4 years         2974\n",
       "31 - 40 years        863\n",
       "1 year or less       504\n",
       "41 years or more     120\n",
       "Name: total_experience, dtype: int64"
      ]
     },
     "execution_count": 9,
     "metadata": {},
     "output_type": "execute_result"
    }
   ],
   "source": [
    "data['total_experience'].value_counts()"
   ]
  },
  {
   "cell_type": "code",
   "execution_count": 10,
   "id": "f507e361",
   "metadata": {},
   "outputs": [
    {
     "data": {
      "text/plain": [
       "0"
      ]
     },
     "execution_count": 10,
     "metadata": {},
     "output_type": "execute_result"
    }
   ],
   "source": [
    "data['total_experience'].isnull().sum()"
   ]
  },
  {
   "cell_type": "code",
   "execution_count": 11,
   "id": "713db506",
   "metadata": {},
   "outputs": [],
   "source": [
    "def experience_range_to_min(row, attribute):\n",
    "    total_exp_range = row[attribute]\n",
    "    \n",
    "    if '-' in total_exp_range:\n",
    "        total_exp_min = total_exp_range.strip().split('-')[0]\n",
    "    elif 'more' in total_exp_range:\n",
    "        total_exp_min = total_exp_range.split()[0]\n",
    "    elif 'less' in total_exp_range:\n",
    "        return np.nan\n",
    "    \n",
    "    return int(total_exp_min)\n",
    "\n",
    "def experience_range_to_max(row, attribute):\n",
    "    total_exp_range = row[attribute]\n",
    "    \n",
    "    if '-' in total_exp_range:\n",
    "        total_exp_max = total_exp_range.strip().replace('years', '').split('-')[1]\n",
    "    elif 'more' in total_exp_range:\n",
    "        return np.nan\n",
    "    elif 'less' in total_exp_range:\n",
    "        total_exp_max = total_exp_range.split()[0]\n",
    "    \n",
    "    return int(total_exp_max)"
   ]
  },
  {
   "cell_type": "code",
   "execution_count": 12,
   "id": "589dfe42",
   "metadata": {},
   "outputs": [],
   "source": [
    "data['total_experience_min'] = data.apply(lambda row: experience_range_to_min(row, 'total_experience'), axis=1)\n",
    "data['total_experience_max'] = data.apply(lambda row: experience_range_to_max(row, 'total_experience'), axis=1)"
   ]
  },
  {
   "cell_type": "code",
   "execution_count": 13,
   "id": "9653d7e9",
   "metadata": {},
   "outputs": [
    {
     "data": {
      "text/plain": [
       "11 - 20 years       6514\n",
       "5-7 years           6485\n",
       "2 - 4 years         6187\n",
       "8 - 10 years        4945\n",
       "21 - 30 years       1863\n",
       "1 year or less      1438\n",
       "31 - 40 years        378\n",
       "41 years or more      38\n",
       "Name: current_experience, dtype: int64"
      ]
     },
     "execution_count": 13,
     "metadata": {},
     "output_type": "execute_result"
    }
   ],
   "source": [
    "data['current_experience'].value_counts()"
   ]
  },
  {
   "cell_type": "code",
   "execution_count": 14,
   "id": "fb22a294",
   "metadata": {},
   "outputs": [],
   "source": [
    "data['current_experience_min'] = data.apply(lambda row: experience_range_to_min(row, 'current_experience'), axis=1)\n",
    "data['current_experience_max'] = data.apply(lambda row: experience_range_to_max(row, 'current_experience'), axis=1)"
   ]
  },
  {
   "cell_type": "markdown",
   "id": "01cedca2",
   "metadata": {},
   "source": [
    "## Education"
   ]
  },
  {
   "cell_type": "code",
   "execution_count": 15,
   "id": "994c64e7",
   "metadata": {},
   "outputs": [
    {
     "data": {
      "text/plain": [
       "College degree                        13414\n",
       "Master's degree                        8814\n",
       "Some college                           2039\n",
       "PhD                                    1420\n",
       "Professional degree (MD, JD, etc.)     1319\n",
       "High School                             632\n",
       "Name: education, dtype: int64"
      ]
     },
     "execution_count": 15,
     "metadata": {},
     "output_type": "execute_result"
    }
   ],
   "source": [
    "data['education'].value_counts()"
   ]
  },
  {
   "cell_type": "markdown",
   "id": "f8472e68",
   "metadata": {},
   "source": [
    "Clean up naming:"
   ]
  },
  {
   "cell_type": "code",
   "execution_count": 16,
   "id": "ea0b76f2",
   "metadata": {},
   "outputs": [],
   "source": [
    "data['education'].replace({\"Professional degree (MD, JD, etc.)\": \"Professional degree\"}, inplace=True)"
   ]
  },
  {
   "cell_type": "markdown",
   "id": "8375fe2f",
   "metadata": {},
   "source": [
    "It would be nice to have some kind of knowledge about the actual \"level\" of education (e.g. 0 - High school, 1 - Some college, etc.). Lets map those values to their level:"
   ]
  },
  {
   "cell_type": "code",
   "execution_count": 17,
   "id": "ed0aad48",
   "metadata": {},
   "outputs": [],
   "source": [
    "data['education_lvl'] = data['education'].map({'High School': 1, 'Some college': 2, 'College degree': 3, \"Master's degree\": 4, 'Professional degree': 5})"
   ]
  },
  {
   "cell_type": "code",
   "execution_count": 18,
   "id": "e2366f1c",
   "metadata": {},
   "outputs": [
    {
     "data": {
      "text/html": [
       "<div>\n",
       "<style scoped>\n",
       "    .dataframe tbody tr th:only-of-type {\n",
       "        vertical-align: middle;\n",
       "    }\n",
       "\n",
       "    .dataframe tbody tr th {\n",
       "        vertical-align: top;\n",
       "    }\n",
       "\n",
       "    .dataframe thead th {\n",
       "        text-align: right;\n",
       "    }\n",
       "</style>\n",
       "<table border=\"1\" class=\"dataframe\">\n",
       "  <thead>\n",
       "    <tr style=\"text-align: right;\">\n",
       "      <th></th>\n",
       "      <th>education</th>\n",
       "      <th>education_lvl</th>\n",
       "    </tr>\n",
       "  </thead>\n",
       "  <tbody>\n",
       "    <tr>\n",
       "      <th>0</th>\n",
       "      <td>Master's degree</td>\n",
       "      <td>4.0</td>\n",
       "    </tr>\n",
       "    <tr>\n",
       "      <th>1</th>\n",
       "      <td>College degree</td>\n",
       "      <td>3.0</td>\n",
       "    </tr>\n",
       "    <tr>\n",
       "      <th>2</th>\n",
       "      <td>College degree</td>\n",
       "      <td>3.0</td>\n",
       "    </tr>\n",
       "    <tr>\n",
       "      <th>3</th>\n",
       "      <td>College degree</td>\n",
       "      <td>3.0</td>\n",
       "    </tr>\n",
       "    <tr>\n",
       "      <th>4</th>\n",
       "      <td>College degree</td>\n",
       "      <td>3.0</td>\n",
       "    </tr>\n",
       "  </tbody>\n",
       "</table>\n",
       "</div>"
      ],
      "text/plain": [
       "         education  education_lvl\n",
       "0  Master's degree            4.0\n",
       "1   College degree            3.0\n",
       "2   College degree            3.0\n",
       "3   College degree            3.0\n",
       "4   College degree            3.0"
      ]
     },
     "execution_count": 18,
     "metadata": {},
     "output_type": "execute_result"
    }
   ],
   "source": [
    "data[['education', 'education_lvl']].head()"
   ]
  },
  {
   "cell_type": "markdown",
   "id": "4e6d219d",
   "metadata": {},
   "source": [
    "## Gender"
   ]
  },
  {
   "cell_type": "code",
   "execution_count": 19,
   "id": "6c0eaa7e",
   "metadata": {},
   "outputs": [
    {
     "data": {
      "text/plain": [
       "Woman                            21256\n",
       "Man                               5398\n",
       "Non-binary                         739\n",
       "Other or prefer not to answer      289\n",
       "Prefer not to answer                 1\n",
       "Name: gender, dtype: int64"
      ]
     },
     "execution_count": 19,
     "metadata": {},
     "output_type": "execute_result"
    }
   ],
   "source": [
    "data['gender'].value_counts()"
   ]
  },
  {
   "cell_type": "markdown",
   "id": "e94b0815",
   "metadata": {},
   "source": [
    "Clean up naming:"
   ]
  },
  {
   "cell_type": "code",
   "execution_count": 20,
   "id": "c3523b85",
   "metadata": {},
   "outputs": [],
   "source": [
    "data['gender'].replace({\"Other or prefer not to answer\": \"Other\"}, inplace=True)"
   ]
  },
  {
   "cell_type": "markdown",
   "id": "fdaee12b",
   "metadata": {},
   "source": [
    "Lets create some kind of mapping so it could be easier to use in SQL queries:"
   ]
  },
  {
   "cell_type": "code",
   "execution_count": 21,
   "id": "b2ce14ea",
   "metadata": {},
   "outputs": [],
   "source": [
    "data['gender_idx'] = data['gender'].map({'Woman': 1, 'Man': 2, 'Non-binary': 3, \"Other\": 4})"
   ]
  },
  {
   "cell_type": "code",
   "execution_count": 25,
   "id": "fea66c81",
   "metadata": {},
   "outputs": [
    {
     "data": {
      "text/html": [
       "<div>\n",
       "<style scoped>\n",
       "    .dataframe tbody tr th:only-of-type {\n",
       "        vertical-align: middle;\n",
       "    }\n",
       "\n",
       "    .dataframe tbody tr th {\n",
       "        vertical-align: top;\n",
       "    }\n",
       "\n",
       "    .dataframe thead th {\n",
       "        text-align: right;\n",
       "    }\n",
       "</style>\n",
       "<table border=\"1\" class=\"dataframe\">\n",
       "  <thead>\n",
       "    <tr style=\"text-align: right;\">\n",
       "      <th></th>\n",
       "      <th>gender</th>\n",
       "      <th>gender_idx</th>\n",
       "    </tr>\n",
       "  </thead>\n",
       "  <tbody>\n",
       "    <tr>\n",
       "      <th>0</th>\n",
       "      <td>Woman</td>\n",
       "      <td>1.0</td>\n",
       "    </tr>\n",
       "    <tr>\n",
       "      <th>1</th>\n",
       "      <td>Non-binary</td>\n",
       "      <td>3.0</td>\n",
       "    </tr>\n",
       "    <tr>\n",
       "      <th>2</th>\n",
       "      <td>Woman</td>\n",
       "      <td>1.0</td>\n",
       "    </tr>\n",
       "    <tr>\n",
       "      <th>3</th>\n",
       "      <td>Woman</td>\n",
       "      <td>1.0</td>\n",
       "    </tr>\n",
       "    <tr>\n",
       "      <th>4</th>\n",
       "      <td>Woman</td>\n",
       "      <td>1.0</td>\n",
       "    </tr>\n",
       "  </tbody>\n",
       "</table>\n",
       "</div>"
      ],
      "text/plain": [
       "       gender  gender_idx\n",
       "0       Woman         1.0\n",
       "1  Non-binary         3.0\n",
       "2       Woman         1.0\n",
       "3       Woman         1.0\n",
       "4       Woman         1.0"
      ]
     },
     "execution_count": 25,
     "metadata": {},
     "output_type": "execute_result"
    }
   ],
   "source": [
    "data[['gender', 'gender_idx']].head()"
   ]
  },
  {
   "cell_type": "code",
   "execution_count": null,
   "id": "ece7d532",
   "metadata": {},
   "outputs": [],
   "source": []
  }
 ],
 "metadata": {
  "kernelspec": {
   "display_name": "Python 3",
   "language": "python",
   "name": "python3"
  },
  "language_info": {
   "codemirror_mode": {
    "name": "ipython",
    "version": 3
   },
   "file_extension": ".py",
   "mimetype": "text/x-python",
   "name": "python",
   "nbconvert_exporter": "python",
   "pygments_lexer": "ipython3",
   "version": "3.7.9"
  }
 },
 "nbformat": 4,
 "nbformat_minor": 5
}
