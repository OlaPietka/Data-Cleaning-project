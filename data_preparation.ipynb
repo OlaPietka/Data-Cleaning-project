{
 "cells": [
  {
   "cell_type": "markdown",
   "id": "66d9d08a",
   "metadata": {},
   "source": [
    "# Descirpion\n",
    "The purpose of this notebook is to take the \"cleaned\" csv file as an input, and then further refine/split the data for future SQL tables creation. \n",
    "\n",
    "---"
   ]
  },
  {
   "cell_type": "markdown",
   "id": "bb936cde",
   "metadata": {},
   "source": [
    "# About the data\n",
    "This dataset (Ask A Manager Salary Survey 2021 dataset) contains salary information by industry, age group, location, gender, years of experience, and education level. The data is based on approximately 28k user entered responses.\n",
    "\n",
    "**Features:**\n",
    "- `timestamp` - time when the survey was filed\n",
    "- `age` - Age range of the person\n",
    "- `industry` - Working industry\n",
    "- `job_title` - Job title\n",
    "- `job_context` - Additional context for the job title\n",
    "- `annual_salary` - Annual salary\n",
    "- `additional_salary` - Additional monetary compensation\n",
    "- `currency` - Salary currency\n",
    "- `currency_context` - Other currency\n",
    "- `salary_context` - Additional context for salary\n",
    "- `country` -  Country in which person is working\n",
    "- `state` - State in which person is working\n",
    "- `city` - City in which person is working\n",
    "- `total_experience` -  Year  range of total work experience\n",
    "- `current_experience` - Year range of current field  work experience\n",
    "- `education` - Highest level of education completed\n",
    "- `gender` - Gender of the person\n",
    "- `race` - Race of the person"
   ]
  },
  {
   "cell_type": "markdown",
   "id": "f457633c",
   "metadata": {},
   "source": [
    "# Reading the file"
   ]
  },
  {
   "cell_type": "code",
   "execution_count": 1,
   "id": "bafd5006",
   "metadata": {},
   "outputs": [],
   "source": [
    "import pandas as pd\n",
    "\n",
    "data = pd.read_csv('Data/salary_responses_clean.csv')"
   ]
  },
  {
   "cell_type": "code",
   "execution_count": 2,
   "id": "c76b59fd",
   "metadata": {},
   "outputs": [
    {
     "name": "stdout",
     "output_type": "stream",
     "text": [
      "<class 'pandas.core.frame.DataFrame'>\n",
      "RangeIndex: 27848 entries, 0 to 27847\n",
      "Data columns (total 18 columns):\n",
      " #   Column              Non-Null Count  Dtype  \n",
      "---  ------              --------------  -----  \n",
      " 0   timestamp           27848 non-null  object \n",
      " 1   age                 27848 non-null  object \n",
      " 2   industry            27778 non-null  object \n",
      " 3   job_title           27848 non-null  object \n",
      " 4   job_context         7204 non-null   object \n",
      " 5   annual_salary       27848 non-null  int64  \n",
      " 6   additional_salary   20634 non-null  float64\n",
      " 7   currency            27848 non-null  object \n",
      " 8   currency_context    191 non-null    object \n",
      " 9   salary_context      3026 non-null   object \n",
      " 10  country             27848 non-null  object \n",
      " 11  state               22894 non-null  object \n",
      " 12  city                27773 non-null  object \n",
      " 13  total_experience    27848 non-null  object \n",
      " 14  current_experience  27848 non-null  object \n",
      " 15  education           27638 non-null  object \n",
      " 16  gender              27683 non-null  object \n",
      " 17  race                27684 non-null  object \n",
      "dtypes: float64(1), int64(1), object(16)\n",
      "memory usage: 3.8+ MB\n"
     ]
    }
   ],
   "source": [
    "data.info()"
   ]
  },
  {
   "cell_type": "markdown",
   "id": "784f33f5",
   "metadata": {},
   "source": [
    "# Categorical data\n",
    "Let's handle the categorical data first.\n",
    "\n",
    "**Categorical features include:**\n",
    "- `age`\n",
    "- `total_experience`\n",
    "- `current_experience`\n",
    "- `education`\n",
    "- `gender`\n",
    "\n",
    "\n",
    "*The `state`, `race` and `currency` attributes can also be considered categorical, but more cleaning need to be done. We will leave it for now.*"
   ]
  },
  {
   "cell_type": "markdown",
   "id": "7423d78a",
   "metadata": {},
   "source": [
    "## Age"
   ]
  },
  {
   "cell_type": "code",
   "execution_count": 3,
   "id": "b09ba254",
   "metadata": {},
   "outputs": [
    {
     "data": {
      "text/plain": [
       "25-34         12562\n",
       "35-44          9853\n",
       "45-54          3171\n",
       "18-24          1173\n",
       "55-64           986\n",
       "65 or over       92\n",
       "under 18         11\n",
       "Name: age, dtype: int64"
      ]
     },
     "execution_count": 3,
     "metadata": {},
     "output_type": "execute_result"
    }
   ],
   "source": [
    "data['age'].value_counts()"
   ]
  },
  {
   "cell_type": "code",
   "execution_count": 4,
   "id": "58ff56e7",
   "metadata": {},
   "outputs": [
    {
     "data": {
      "text/plain": [
       "0"
      ]
     },
     "execution_count": 4,
     "metadata": {},
     "output_type": "execute_result"
    }
   ],
   "source": [
    "data['age'].isnull().sum()"
   ]
  },
  {
   "cell_type": "markdown",
   "id": "2f45f3f7",
   "metadata": {},
   "source": [
    "Lets create new columns `age_min` and `age_max` so we could more easily analyze the data."
   ]
  },
  {
   "cell_type": "code",
   "execution_count": 5,
   "id": "a474da8c",
   "metadata": {},
   "outputs": [],
   "source": [
    "import numpy as np"
   ]
  },
  {
   "cell_type": "code",
   "execution_count": 6,
   "id": "47c59ec6",
   "metadata": {},
   "outputs": [],
   "source": [
    "def age_range_to_min(row):\n",
    "    age_range = row['age']\n",
    "    \n",
    "    if '-' in age_range:\n",
    "        age_min = age_range.split('-')[0]\n",
    "    elif 'over' in age_range:\n",
    "        age_min = age_range.split()[0]\n",
    "    elif 'under' in age_range:\n",
    "        return np.nan\n",
    "    \n",
    "    return int(age_min)\n",
    "\n",
    "def age_range_to_max(row):\n",
    "    age_range = row['age']\n",
    "    \n",
    "    if '-' in age_range:\n",
    "        age_max = age_range.split('-')[1]\n",
    "    elif 'over' in age_range:\n",
    "        return np.nan\n",
    "    elif 'under' in age_range:\n",
    "        age_max = age_range.split()[-1]\n",
    "    \n",
    "    return int(age_max)"
   ]
  },
  {
   "cell_type": "code",
   "execution_count": 7,
   "id": "5c8b1176",
   "metadata": {},
   "outputs": [],
   "source": [
    "data['age_min'] = data.apply(lambda row: age_range_to_min(row), axis=1)\n",
    "data['age_max'] = data.apply(lambda row: age_range_to_max(row), axis=1)"
   ]
  },
  {
   "cell_type": "markdown",
   "id": "c4e5da6c",
   "metadata": {},
   "source": [
    "## Experience\n",
    "Same goes for `total_experience` and `current_experience` attributes."
   ]
  },
  {
   "cell_type": "code",
   "execution_count": 8,
   "id": "91162427",
   "metadata": {},
   "outputs": [
    {
     "data": {
      "text/plain": [
       "11 - 20 years       9579\n",
       "8 - 10 years        5348\n",
       "5-7 years           4843\n",
       "21 - 30 years       3617\n",
       "2 - 4 years         2974\n",
       "31 - 40 years        863\n",
       "1 year or less       504\n",
       "41 years or more     120\n",
       "Name: total_experience, dtype: int64"
      ]
     },
     "execution_count": 8,
     "metadata": {},
     "output_type": "execute_result"
    }
   ],
   "source": [
    "data['total_experience'].value_counts()"
   ]
  },
  {
   "cell_type": "code",
   "execution_count": 9,
   "id": "f507e361",
   "metadata": {},
   "outputs": [
    {
     "data": {
      "text/plain": [
       "0"
      ]
     },
     "execution_count": 9,
     "metadata": {},
     "output_type": "execute_result"
    }
   ],
   "source": [
    "data['total_experience'].isnull().sum()"
   ]
  },
  {
   "cell_type": "code",
   "execution_count": 10,
   "id": "713db506",
   "metadata": {},
   "outputs": [],
   "source": [
    "def experience_range_to_min(row, attribute):\n",
    "    total_exp_range = row[attribute]\n",
    "    \n",
    "    if '-' in total_exp_range:\n",
    "        total_exp_min = total_exp_range.strip().split('-')[0]\n",
    "    elif 'more' in total_exp_range:\n",
    "        total_exp_min = total_exp_range.split()[0]\n",
    "    elif 'less' in total_exp_range:\n",
    "        return np.nan\n",
    "    \n",
    "    return int(total_exp_min)\n",
    "\n",
    "def experience_range_to_max(row, attribute):\n",
    "    total_exp_range = row[attribute]\n",
    "    \n",
    "    if '-' in total_exp_range:\n",
    "        total_exp_max = total_exp_range.strip().replace('years', '').split('-')[1]\n",
    "    elif 'more' in total_exp_range:\n",
    "        return np.nan\n",
    "    elif 'less' in total_exp_range:\n",
    "        total_exp_max = total_exp_range.split()[0]\n",
    "    \n",
    "    return int(total_exp_max)"
   ]
  },
  {
   "cell_type": "code",
   "execution_count": 11,
   "id": "589dfe42",
   "metadata": {},
   "outputs": [],
   "source": [
    "data['total_experience_min'] = data.apply(lambda row: experience_range_to_min(row, 'total_experience'), axis=1)\n",
    "data['total_experience_max'] = data.apply(lambda row: experience_range_to_max(row, 'total_experience'), axis=1)"
   ]
  },
  {
   "cell_type": "code",
   "execution_count": 12,
   "id": "9653d7e9",
   "metadata": {},
   "outputs": [
    {
     "data": {
      "text/plain": [
       "11 - 20 years       6514\n",
       "5-7 years           6485\n",
       "2 - 4 years         6187\n",
       "8 - 10 years        4945\n",
       "21 - 30 years       1863\n",
       "1 year or less      1438\n",
       "31 - 40 years        378\n",
       "41 years or more      38\n",
       "Name: current_experience, dtype: int64"
      ]
     },
     "execution_count": 12,
     "metadata": {},
     "output_type": "execute_result"
    }
   ],
   "source": [
    "data['current_experience'].value_counts()"
   ]
  },
  {
   "cell_type": "code",
   "execution_count": 13,
   "id": "fb22a294",
   "metadata": {},
   "outputs": [],
   "source": [
    "data['current_experience_min'] = data.apply(lambda row: experience_range_to_min(row, 'current_experience'), axis=1)\n",
    "data['current_experience_max'] = data.apply(lambda row: experience_range_to_max(row, 'current_experience'), axis=1)"
   ]
  },
  {
   "cell_type": "markdown",
   "id": "01cedca2",
   "metadata": {},
   "source": [
    "## Education"
   ]
  },
  {
   "cell_type": "code",
   "execution_count": 14,
   "id": "994c64e7",
   "metadata": {},
   "outputs": [
    {
     "data": {
      "text/plain": [
       "College degree                        13414\n",
       "Master's degree                        8814\n",
       "Some college                           2039\n",
       "PhD                                    1420\n",
       "Professional degree (MD, JD, etc.)     1319\n",
       "High School                             632\n",
       "Name: education, dtype: int64"
      ]
     },
     "execution_count": 14,
     "metadata": {},
     "output_type": "execute_result"
    }
   ],
   "source": [
    "data['education'].value_counts()"
   ]
  },
  {
   "cell_type": "markdown",
   "id": "f8472e68",
   "metadata": {},
   "source": [
    "Clean up naming:"
   ]
  },
  {
   "cell_type": "code",
   "execution_count": 15,
   "id": "ea0b76f2",
   "metadata": {},
   "outputs": [],
   "source": [
    "data['education'].replace({\"Professional degree (MD, JD, etc.)\": \"Professional degree\"}, inplace=True)"
   ]
  },
  {
   "cell_type": "markdown",
   "id": "8375fe2f",
   "metadata": {},
   "source": [
    "It would be nice to have some kind of knowledge about the actual \"level\" of education (e.g. 0 - High school, 1 - Some college, etc.). Lets map those values to their level:"
   ]
  },
  {
   "cell_type": "code",
   "execution_count": 16,
   "id": "ed0aad48",
   "metadata": {},
   "outputs": [],
   "source": [
    "data['education_lvl'] = data['education'].map({'High School': 1, 'Some college': 2, 'College degree': 3, \"Master's degree\": 4, 'Professional degree': 5})"
   ]
  },
  {
   "cell_type": "code",
   "execution_count": 17,
   "id": "e2366f1c",
   "metadata": {},
   "outputs": [
    {
     "data": {
      "text/html": [
       "<div>\n",
       "<style scoped>\n",
       "    .dataframe tbody tr th:only-of-type {\n",
       "        vertical-align: middle;\n",
       "    }\n",
       "\n",
       "    .dataframe tbody tr th {\n",
       "        vertical-align: top;\n",
       "    }\n",
       "\n",
       "    .dataframe thead th {\n",
       "        text-align: right;\n",
       "    }\n",
       "</style>\n",
       "<table border=\"1\" class=\"dataframe\">\n",
       "  <thead>\n",
       "    <tr style=\"text-align: right;\">\n",
       "      <th></th>\n",
       "      <th>education</th>\n",
       "      <th>education_lvl</th>\n",
       "    </tr>\n",
       "  </thead>\n",
       "  <tbody>\n",
       "    <tr>\n",
       "      <th>0</th>\n",
       "      <td>Master's degree</td>\n",
       "      <td>4.0</td>\n",
       "    </tr>\n",
       "    <tr>\n",
       "      <th>1</th>\n",
       "      <td>College degree</td>\n",
       "      <td>3.0</td>\n",
       "    </tr>\n",
       "    <tr>\n",
       "      <th>2</th>\n",
       "      <td>College degree</td>\n",
       "      <td>3.0</td>\n",
       "    </tr>\n",
       "    <tr>\n",
       "      <th>3</th>\n",
       "      <td>College degree</td>\n",
       "      <td>3.0</td>\n",
       "    </tr>\n",
       "    <tr>\n",
       "      <th>4</th>\n",
       "      <td>College degree</td>\n",
       "      <td>3.0</td>\n",
       "    </tr>\n",
       "  </tbody>\n",
       "</table>\n",
       "</div>"
      ],
      "text/plain": [
       "         education  education_lvl\n",
       "0  Master's degree            4.0\n",
       "1   College degree            3.0\n",
       "2   College degree            3.0\n",
       "3   College degree            3.0\n",
       "4   College degree            3.0"
      ]
     },
     "execution_count": 17,
     "metadata": {},
     "output_type": "execute_result"
    }
   ],
   "source": [
    "data[['education', 'education_lvl']].head()"
   ]
  },
  {
   "cell_type": "markdown",
   "id": "4e6d219d",
   "metadata": {},
   "source": [
    "## Gender"
   ]
  },
  {
   "cell_type": "code",
   "execution_count": 18,
   "id": "6c0eaa7e",
   "metadata": {},
   "outputs": [
    {
     "data": {
      "text/plain": [
       "Woman         21256\n",
       "Man            5398\n",
       "Non-binary      739\n",
       "Other           290\n",
       "Name: gender, dtype: int64"
      ]
     },
     "execution_count": 18,
     "metadata": {},
     "output_type": "execute_result"
    }
   ],
   "source": [
    "data['gender'].value_counts()"
   ]
  },
  {
   "cell_type": "markdown",
   "id": "e94b0815",
   "metadata": {},
   "source": [
    "Clean up naming:"
   ]
  },
  {
   "cell_type": "code",
   "execution_count": 19,
   "id": "c3523b85",
   "metadata": {},
   "outputs": [],
   "source": [
    "data['gender'].replace({\"Other or prefer not to answer\": \"Other\"}, inplace=True)"
   ]
  },
  {
   "cell_type": "markdown",
   "id": "fdaee12b",
   "metadata": {},
   "source": [
    "Lets create some kind of mapping so it could be easier to use in SQL queries:"
   ]
  },
  {
   "cell_type": "code",
   "execution_count": 20,
   "id": "b2ce14ea",
   "metadata": {},
   "outputs": [],
   "source": [
    "data['gender_idx'] = data['gender'].map({'Woman': 1, 'Man': 2, 'Non-binary': 3, \"Other\": 4})"
   ]
  },
  {
   "cell_type": "code",
   "execution_count": 21,
   "id": "fea66c81",
   "metadata": {},
   "outputs": [
    {
     "data": {
      "text/html": [
       "<div>\n",
       "<style scoped>\n",
       "    .dataframe tbody tr th:only-of-type {\n",
       "        vertical-align: middle;\n",
       "    }\n",
       "\n",
       "    .dataframe tbody tr th {\n",
       "        vertical-align: top;\n",
       "    }\n",
       "\n",
       "    .dataframe thead th {\n",
       "        text-align: right;\n",
       "    }\n",
       "</style>\n",
       "<table border=\"1\" class=\"dataframe\">\n",
       "  <thead>\n",
       "    <tr style=\"text-align: right;\">\n",
       "      <th></th>\n",
       "      <th>gender</th>\n",
       "      <th>gender_idx</th>\n",
       "    </tr>\n",
       "  </thead>\n",
       "  <tbody>\n",
       "    <tr>\n",
       "      <th>0</th>\n",
       "      <td>Woman</td>\n",
       "      <td>1.0</td>\n",
       "    </tr>\n",
       "    <tr>\n",
       "      <th>1</th>\n",
       "      <td>Non-binary</td>\n",
       "      <td>3.0</td>\n",
       "    </tr>\n",
       "    <tr>\n",
       "      <th>2</th>\n",
       "      <td>Woman</td>\n",
       "      <td>1.0</td>\n",
       "    </tr>\n",
       "    <tr>\n",
       "      <th>3</th>\n",
       "      <td>Woman</td>\n",
       "      <td>1.0</td>\n",
       "    </tr>\n",
       "    <tr>\n",
       "      <th>4</th>\n",
       "      <td>Woman</td>\n",
       "      <td>1.0</td>\n",
       "    </tr>\n",
       "  </tbody>\n",
       "</table>\n",
       "</div>"
      ],
      "text/plain": [
       "       gender  gender_idx\n",
       "0       Woman         1.0\n",
       "1  Non-binary         3.0\n",
       "2       Woman         1.0\n",
       "3       Woman         1.0\n",
       "4       Woman         1.0"
      ]
     },
     "execution_count": 21,
     "metadata": {},
     "output_type": "execute_result"
    }
   ],
   "source": [
    "data[['gender', 'gender_idx']].head()"
   ]
  },
  {
   "cell_type": "code",
   "execution_count": 22,
   "id": "ece7d532",
   "metadata": {},
   "outputs": [
    {
     "name": "stdout",
     "output_type": "stream",
     "text": [
      "<class 'pandas.core.frame.DataFrame'>\n",
      "RangeIndex: 27848 entries, 0 to 27847\n",
      "Data columns (total 26 columns):\n",
      " #   Column                  Non-Null Count  Dtype  \n",
      "---  ------                  --------------  -----  \n",
      " 0   timestamp               27848 non-null  object \n",
      " 1   age                     27848 non-null  object \n",
      " 2   industry                27778 non-null  object \n",
      " 3   job_title               27848 non-null  object \n",
      " 4   job_context             7204 non-null   object \n",
      " 5   annual_salary           27848 non-null  int64  \n",
      " 6   additional_salary       20634 non-null  float64\n",
      " 7   currency                27848 non-null  object \n",
      " 8   currency_context        191 non-null    object \n",
      " 9   salary_context          3026 non-null   object \n",
      " 10  country                 27848 non-null  object \n",
      " 11  state                   22894 non-null  object \n",
      " 12  city                    27773 non-null  object \n",
      " 13  total_experience        27848 non-null  object \n",
      " 14  current_experience      27848 non-null  object \n",
      " 15  education               27638 non-null  object \n",
      " 16  gender                  27683 non-null  object \n",
      " 17  race                    27684 non-null  object \n",
      " 18  age_min                 27837 non-null  float64\n",
      " 19  age_max                 27756 non-null  float64\n",
      " 20  total_experience_min    27344 non-null  float64\n",
      " 21  total_experience_max    27728 non-null  float64\n",
      " 22  current_experience_min  26410 non-null  float64\n",
      " 23  current_experience_max  27810 non-null  float64\n",
      " 24  education_lvl           26218 non-null  float64\n",
      " 25  gender_idx              27683 non-null  float64\n",
      "dtypes: float64(9), int64(1), object(16)\n",
      "memory usage: 5.5+ MB\n"
     ]
    }
   ],
   "source": [
    "data.info()"
   ]
  },
  {
   "cell_type": "markdown",
   "id": "3f1cda88",
   "metadata": {},
   "source": [
    "# Address attributes"
   ]
  },
  {
   "cell_type": "code",
   "execution_count": 23,
   "id": "cc8cb857",
   "metadata": {},
   "outputs": [],
   "source": [
    "empty_value = np.nan"
   ]
  },
  {
   "cell_type": "markdown",
   "id": "a68310fe",
   "metadata": {},
   "source": [
    "## City"
   ]
  },
  {
   "cell_type": "code",
   "execution_count": 24,
   "id": "75a70799",
   "metadata": {},
   "outputs": [
    {
     "data": {
      "text/plain": [
       "Boston          770\n",
       "Chicago         748\n",
       "New York        710\n",
       "Seattle         691\n",
       "London          569\n",
       "               ... \n",
       "Southwest MI      1\n",
       "Ystad             1\n",
       "Utica             1\n",
       "Howell            1\n",
       "Pontiac           1\n",
       "Name: city, Length: 4631, dtype: int64"
      ]
     },
     "execution_count": 24,
     "metadata": {},
     "output_type": "execute_result"
    }
   ],
   "source": [
    "data['city'].value_counts()"
   ]
  },
  {
   "cell_type": "code",
   "execution_count": 30,
   "id": "9a54c956",
   "metadata": {},
   "outputs": [],
   "source": [
    "try:\n",
    "    from geopy import Nominatim\n",
    "except:\n",
    "    !pip install geopy\n",
    "    from geopy import Nominatim\n",
    "\n",
    "geolocator = Nominatim(user_agent=\"cs513-final-project\")"
   ]
  },
  {
   "cell_type": "code",
   "execution_count": 31,
   "id": "109a3d30",
   "metadata": {},
   "outputs": [],
   "source": [
    "try:\n",
    "    from geotext import GeoText\n",
    "except:\n",
    "    !pip install geotext\n",
    "    from geotext import GeoText\n",
    "    \n",
    "\n",
    "def get_city_from_text(row):\n",
    "    city = row['city']\n",
    "\n",
    "    if type(city) != str:\n",
    "        return empty_value\n",
    "        \n",
    "    if city.strip().upper() == \"REMOTE\":\n",
    "        return \"Remote\"\n",
    "    \n",
    "    places = GeoText(city)\n",
    "    \n",
    "    if(len(places.cities) > 0):\n",
    "        return places.cities[0]\n",
    "    \n",
    "    location = geolocator.geocode(city, exactly_one=True, addressdetails=True, timeout=10)\n",
    "\n",
    "    if location != None:\n",
    "        location_keys = location.raw['address'].keys()\n",
    "        if \"town\" in location_keys:\n",
    "            return location.raw['address']['town']\n",
    "        elif \"city\" in location_keys:\n",
    "            return location.raw['address']['city']\n",
    "        elif \"hamlet\" in location_keys:\n",
    "            return location.raw['address']['hamlet']\n",
    "        elif \"village\" in location_keys:\n",
    "            return location.raw['address']['village']\n",
    "        elif \"place\" in location_keys:\n",
    "            return location.raw['address']['place']\n",
    "        elif \"municipality\" in location_keys:\n",
    "            return location.raw['address']['municipality']\n",
    "        elif \"township\" in location_keys:\n",
    "            return location.raw['address']['township']\n",
    "        elif \"county\" in location_keys:\n",
    "            return location.raw['address']['county']\n",
    "        \n",
    "    return empty_value "
   ]
  },
  {
   "cell_type": "code",
   "execution_count": 32,
   "id": "4fceaec6",
   "metadata": {},
   "outputs": [
    {
     "data": {
      "text/plain": [
       "New York          1327\n",
       "Washington        1009\n",
       "Boston             872\n",
       "Chicago            870\n",
       "Seattle            760\n",
       "                  ... \n",
       "Tijuana              1\n",
       "Calamba              1\n",
       "West Greenwich       1\n",
       "Uintah County        1\n",
       "Midwest              1\n",
       "Name: city, Length: 2591, dtype: int64"
      ]
     },
     "execution_count": 32,
     "metadata": {},
     "output_type": "execute_result"
    }
   ],
   "source": [
    "data['city'] = data.apply(lambda row: get_city_from_text(row), axis=1)\n",
    "data['city'].value_counts()"
   ]
  },
  {
   "cell_type": "markdown",
   "id": "d4ac302a",
   "metadata": {},
   "source": [
    "## Country"
   ]
  },
  {
   "cell_type": "code",
   "execution_count": 33,
   "id": "071ab2ec",
   "metadata": {},
   "outputs": [],
   "source": [
    "try:\n",
    "    import pycountry\n",
    "except:\n",
    "    !pip install pycountry\n",
    "    import pycountry\n",
    "\n",
    "    \n",
    "def get_country_from_text(row):\n",
    "    country = row['country']\n",
    "\n",
    "    if type(country) != str:\n",
    "        return empty_value\n",
    "    \n",
    "    if country.strip().upper() == \"AMERICA\":\n",
    "        return \"United States\"\n",
    "  \n",
    "    places = GeoText(country)\n",
    "    \n",
    "    if(len(places.countries) > 0):\n",
    "        return places.countries[0]\n",
    "    \n",
    "    location = geolocator.geocode(country, exactly_one=True, addressdetails=True, timeout=10)\n",
    "\n",
    "    if location != None:\n",
    "        if \"country\" in location.raw['address'].keys():\n",
    "            country_code = location.raw['address']['country_code']\n",
    "            return pycountry.countries.get(alpha_2=country_code).name\n",
    "    \n",
    "    return empty_value "
   ]
  },
  {
   "cell_type": "code",
   "execution_count": null,
   "id": "93a11ff0",
   "metadata": {},
   "outputs": [],
   "source": [
    "data['country'] = data.apply(lambda row: get_country_from_text(row), axis=1)"
   ]
  },
  {
   "cell_type": "markdown",
   "id": "d3a42884",
   "metadata": {},
   "source": [
    "## State"
   ]
  },
  {
   "cell_type": "markdown",
   "id": "8fadd476",
   "metadata": {},
   "source": [
    "Next, let's examine rows with multiple `state` values and a `city` value containing only one word (not Remote). For each row, we will attempt to match the city to one of the states in the column. To do so, we will use the **geolocator** module"
   ]
  },
  {
   "cell_type": "code",
   "execution_count": 48,
   "id": "2c5860e9",
   "metadata": {},
   "outputs": [],
   "source": [
    "try:\n",
    "    from geopy.geocoders import Nominatim   \n",
    "except ImportError:\n",
    "    !pip install geopy\n",
    "    from geopy.geocoders import Nominatim  \n",
    "    \n",
    "    \n",
    "def get_state_from_text(row):\n",
    "    states = row['state']\n",
    "    country = row['country']\n",
    "    city = row['city']\n",
    "    \n",
    "    if country == empty_value or country != \"United States\":\n",
    "        return empty_value\n",
    "    \n",
    "    if type(states) != str:\n",
    "        return empty_value\n",
    "    \n",
    "    if city == empty_value or city == \"Remote\":\n",
    "        return empty_value\n",
    "    \n",
    "    if ',' not in states:\n",
    "        return states\n",
    "    \n",
    "    states = [x.strip() for x in states.split(',')]\n",
    "    \n",
    "    for state in states:\n",
    "        lookup = f\"{city}, {state}, {country}\"\n",
    "        \n",
    "        location = geolocator.geocode(lookup, exactly_one = True, addressdetails = True, timeout=10)\n",
    "\n",
    "        if location != None:\n",
    "            if location.raw['address']['country'] == country:\n",
    "                return location.raw['address']['state']\n",
    "        \n",
    "    return empty_value "
   ]
  },
  {
   "cell_type": "code",
   "execution_count": 49,
   "id": "9923209f",
   "metadata": {},
   "outputs": [
    {
     "data": {
      "text/plain": [
       "Unknown                 5648\n",
       "California              2562\n",
       "New York                2116\n",
       "Massachusetts           1473\n",
       "Texas                   1227\n",
       "Illinois                1177\n",
       "Washington              1156\n",
       "District of Columbia     974\n",
       "Pennsylvania             909\n",
       "Virginia                 766\n",
       "Minnesota                697\n",
       "Ohio                     635\n",
       "Oregon                   614\n",
       "Colorado                 609\n",
       "North Carolina           579\n",
       "Maryland                 537\n",
       "Georgia                  527\n",
       "Michigan                 522\n",
       "Florida                  504\n",
       "Wisconsin                450\n",
       "New Jersey               367\n",
       "Missouri                 328\n",
       "Indiana                  319\n",
       "Arizona                  303\n",
       "Tennessee                269\n",
       "Connecticut              215\n",
       "Utah                     198\n",
       "Kentucky                 188\n",
       "Iowa                     172\n",
       "Kansas                   149\n",
       "South Carolina           136\n",
       "Louisiana                125\n",
       "Alabama                  115\n",
       "Maine                    115\n",
       "Oklahoma                 113\n",
       "Nebraska                 107\n",
       "New Hampshire            103\n",
       "New Mexico                96\n",
       "Idaho                     95\n",
       "Nevada                    89\n",
       "Rhode Island              72\n",
       "Arkansas                  72\n",
       "Vermont                   61\n",
       "Montana                   60\n",
       "Alaska                    58\n",
       "Mississippi               48\n",
       "Delaware                  47\n",
       "West Virginia             39\n",
       "North Dakota              34\n",
       "Hawaii                    26\n",
       "South Dakota              25\n",
       "Wyoming                   22\n",
       "Name: state, dtype: int64"
      ]
     },
     "execution_count": 49,
     "metadata": {},
     "output_type": "execute_result"
    }
   ],
   "source": [
    "data['state'] = data.apply(lambda row: get_state_from_text(row), axis=1)\n",
    "data['state'].value_counts()"
   ]
  },
  {
   "cell_type": "markdown",
   "id": "c5e24417",
   "metadata": {},
   "source": [
    "## Continent\n",
    "Based on country value we can add new attribue `continent`"
   ]
  },
  {
   "cell_type": "code",
   "execution_count": 50,
   "id": "3511a5a5",
   "metadata": {},
   "outputs": [],
   "source": [
    "try:\n",
    "    from pycountry_convert import country_alpha2_to_continent_code, country_name_to_country_alpha2\n",
    "except:\n",
    "    !pip install pycountry-convert\n",
    "    from pycountry_convert import country_alpha2_to_continent_code, country_name_to_country_alpha2\n",
    "\n",
    "    \n",
    "continent_map = {\n",
    "    'AF': 'Africa',\n",
    "    'NA': 'North America',\n",
    "    'OC': 'Oceania',\n",
    "    'AN': 'Antarctica',\n",
    "    'AS': 'Asia',\n",
    "    'EU': 'Europe',\n",
    "    'SA': 'South America',\n",
    "}\n",
    "    \n",
    "    \n",
    "def get_continent_from_country(row):\n",
    "    country = row['country']\n",
    "    \n",
    "    if country == empty_value:\n",
    "        return empty_value\n",
    "    \n",
    "    country_code =  country_name_to_country_alpha2(country)\n",
    "    continent_code = country_alpha2_to_continent_code(country_code)\n",
    "    \n",
    "    return continent_map[continent_code]"
   ]
  },
  {
   "cell_type": "code",
   "execution_count": 51,
   "id": "e582301a",
   "metadata": {},
   "outputs": [
    {
     "data": {
      "text/plain": [
       "North America    24732\n",
       "Europe            2363\n",
       "Oceania            518\n",
       "Asia               150\n",
       "Africa              34\n",
       "Unknown             26\n",
       "South America       25\n",
       "Name: continent, dtype: int64"
      ]
     },
     "execution_count": 51,
     "metadata": {},
     "output_type": "execute_result"
    }
   ],
   "source": [
    "data['continent'] = data.apply(lambda row: get_continent_from_country(row), axis=1)\n",
    "data['continent'].value_counts()"
   ]
  },
  {
   "cell_type": "markdown",
   "id": "4ec45ba7",
   "metadata": {},
   "source": [
    "## Latitude, Longitude"
   ]
  },
  {
   "cell_type": "code",
   "execution_count": 77,
   "id": "f5e4eeb6",
   "metadata": {},
   "outputs": [],
   "source": [
    "def get_lat_long_from_full_address(city, country):\n",
    "    if city == empty_value or country == empty_value:\n",
    "        return empty_value\n",
    "    \n",
    "    full_address = f\"{city}, {country}\"\n",
    "    \n",
    "    location = geolocator.geocode(full_address, exactly_one=True, addressdetails=True, timeout=10)\n",
    "    if location != None:\n",
    "        return (location.latitude, location.longitude)\n",
    "    else:\n",
    "        return empty_value"
   ]
  },
  {
   "cell_type": "code",
   "execution_count": 79,
   "id": "ae6f30b9",
   "metadata": {},
   "outputs": [],
   "source": [
    "data['lat_long'] = data.apply(lambda row: get_lat_long_from_full_address(row['city'], row['country']), axis=1)"
   ]
  },
  {
   "cell_type": "code",
   "execution_count": 100,
   "id": "410ec42d",
   "metadata": {},
   "outputs": [],
   "source": [
    "data[['lat', 'long']] = pd.DataFrame(data['lat_long'].tolist(), index=data.index)"
   ]
  },
  {
   "cell_type": "markdown",
   "id": "8e07e6a4",
   "metadata": {},
   "source": [
    "# Text data\n",
    "Let's handle the text data.\n",
    "\n",
    "**Text features include:**\n",
    "- `industry`\n",
    "- `job_title`\n",
    "- `job_context`\n",
    "- `salary_context`"
   ]
  },
  {
   "cell_type": "markdown",
   "id": "dfe5b71f",
   "metadata": {},
   "source": [
    "## Context\n",
    "Both `salary_context` and `job_context` features have too much information. It is basically a plain text provided by the user. As it does not help our analysis, we decided to drop those columns."
   ]
  },
  {
   "cell_type": "code",
   "execution_count": 101,
   "id": "863ff3d9",
   "metadata": {},
   "outputs": [],
   "source": [
    "data.drop(labels=['salary_context', 'job_context'], axis=1, inplace=True)"
   ]
  },
  {
   "cell_type": "markdown",
   "id": "21992505",
   "metadata": {},
   "source": [
    "## Industry and job title"
   ]
  },
  {
   "cell_type": "code",
   "execution_count": 103,
   "id": "bc3ca02e",
   "metadata": {},
   "outputs": [
    {
     "data": {
      "text/plain": [
       "Software Engineer                                   390\n",
       "Project Manager                                     283\n",
       "Senior Software Engineer                            232\n",
       "Director                                            219\n",
       "Executive Assistant                                 186\n",
       "                                                   ... \n",
       "Senior User Experience Researcher                     1\n",
       "Process Improvement Consultant                        1\n",
       "Assistant Director - Medical Library                  1\n",
       "Expert                                                1\n",
       "Associate Director of Recruitment and Engagement      1\n",
       "Name: job_title, Length: 14208, dtype: int64"
      ]
     },
     "execution_count": 103,
     "metadata": {},
     "output_type": "execute_result"
    }
   ],
   "source": [
    "data['job_title'].value_counts()"
   ]
  },
  {
   "cell_type": "markdown",
   "id": "0e31312c",
   "metadata": {},
   "source": [
    "# Currency\n",
    "Here we have a little bit more work to do. The currency of the salary is defined by the `currency` attribute, but sometimes it can be also defined by the `currency_context`. We need to clean those 2 columns and merge them into one. "
   ]
  },
  {
   "cell_type": "markdown",
   "id": "b15c3567",
   "metadata": {},
   "source": [
    "## Merge columns "
   ]
  },
  {
   "cell_type": "code",
   "execution_count": 104,
   "id": "45152329",
   "metadata": {},
   "outputs": [
    {
     "data": {
      "text/html": [
       "<div>\n",
       "<style scoped>\n",
       "    .dataframe tbody tr th:only-of-type {\n",
       "        vertical-align: middle;\n",
       "    }\n",
       "\n",
       "    .dataframe tbody tr th {\n",
       "        vertical-align: top;\n",
       "    }\n",
       "\n",
       "    .dataframe thead th {\n",
       "        text-align: right;\n",
       "    }\n",
       "</style>\n",
       "<table border=\"1\" class=\"dataframe\">\n",
       "  <thead>\n",
       "    <tr style=\"text-align: right;\">\n",
       "      <th></th>\n",
       "      <th>currency</th>\n",
       "      <th>currency_context</th>\n",
       "    </tr>\n",
       "  </thead>\n",
       "  <tbody>\n",
       "    <tr>\n",
       "      <th>0</th>\n",
       "      <td>USD</td>\n",
       "      <td>NaN</td>\n",
       "    </tr>\n",
       "    <tr>\n",
       "      <th>1</th>\n",
       "      <td>GBP</td>\n",
       "      <td>NaN</td>\n",
       "    </tr>\n",
       "    <tr>\n",
       "      <th>2</th>\n",
       "      <td>USD</td>\n",
       "      <td>NaN</td>\n",
       "    </tr>\n",
       "    <tr>\n",
       "      <th>3</th>\n",
       "      <td>USD</td>\n",
       "      <td>NaN</td>\n",
       "    </tr>\n",
       "    <tr>\n",
       "      <th>4</th>\n",
       "      <td>USD</td>\n",
       "      <td>NaN</td>\n",
       "    </tr>\n",
       "    <tr>\n",
       "      <th>...</th>\n",
       "      <td>...</td>\n",
       "      <td>...</td>\n",
       "    </tr>\n",
       "    <tr>\n",
       "      <th>27843</th>\n",
       "      <td>USD</td>\n",
       "      <td>NaN</td>\n",
       "    </tr>\n",
       "    <tr>\n",
       "      <th>27844</th>\n",
       "      <td>AUD/NZD</td>\n",
       "      <td>NaN</td>\n",
       "    </tr>\n",
       "    <tr>\n",
       "      <th>27845</th>\n",
       "      <td>USD</td>\n",
       "      <td>NaN</td>\n",
       "    </tr>\n",
       "    <tr>\n",
       "      <th>27846</th>\n",
       "      <td>Other</td>\n",
       "      <td>NGN</td>\n",
       "    </tr>\n",
       "    <tr>\n",
       "      <th>27847</th>\n",
       "      <td>USD</td>\n",
       "      <td>NaN</td>\n",
       "    </tr>\n",
       "  </tbody>\n",
       "</table>\n",
       "<p>27848 rows × 2 columns</p>\n",
       "</div>"
      ],
      "text/plain": [
       "      currency currency_context\n",
       "0          USD              NaN\n",
       "1          GBP              NaN\n",
       "2          USD              NaN\n",
       "3          USD              NaN\n",
       "4          USD              NaN\n",
       "...        ...              ...\n",
       "27843      USD              NaN\n",
       "27844  AUD/NZD              NaN\n",
       "27845      USD              NaN\n",
       "27846    Other              NGN\n",
       "27847      USD              NaN\n",
       "\n",
       "[27848 rows x 2 columns]"
      ]
     },
     "execution_count": 104,
     "metadata": {},
     "output_type": "execute_result"
    }
   ],
   "source": [
    "data[['currency', 'currency_context']]"
   ]
  },
  {
   "cell_type": "code",
   "execution_count": 105,
   "id": "db302c9c",
   "metadata": {},
   "outputs": [
    {
     "data": {
      "text/plain": [
       "USD        23214\n",
       "CAD         1659\n",
       "GBP         1578\n",
       "EUR          632\n",
       "AUD/NZD      500\n",
       "Other        150\n",
       "CHF           37\n",
       "SEK           37\n",
       "JPY           23\n",
       "ZAR           14\n",
       "HKD            4\n",
       "Name: currency, dtype: int64"
      ]
     },
     "execution_count": 105,
     "metadata": {},
     "output_type": "execute_result"
    }
   ],
   "source": [
    "data['currency'].value_counts()"
   ]
  },
  {
   "cell_type": "code",
   "execution_count": 106,
   "id": "98965b39",
   "metadata": {},
   "outputs": [
    {
     "data": {
      "text/plain": [
       "USD                              11\n",
       "NOK                              10\n",
       "INR                               9\n",
       "MYR                               8\n",
       "DKK                               8\n",
       "                                 ..\n",
       "DKK                               1\n",
       "Php                               1\n",
       "CAD                               1\n",
       "Philippine Peso                   1\n",
       "6000 in stock grants annually     1\n",
       "Name: currency_context, Length: 114, dtype: int64"
      ]
     },
     "execution_count": 106,
     "metadata": {},
     "output_type": "execute_result"
    }
   ],
   "source": [
    "data['currency_context'].value_counts()"
   ]
  },
  {
   "cell_type": "markdown",
   "id": "c09b7824",
   "metadata": {},
   "source": [
    "As we can see, when the `currency` feature has value of 'Other', then the currency is defined by `currency_context`. Lets clean this up"
   ]
  },
  {
   "cell_type": "code",
   "execution_count": 107,
   "id": "3990d043",
   "metadata": {},
   "outputs": [],
   "source": [
    "data['currency'] = np.where(data[\"currency\"] == \"Other\", data['currency_context'], data[\"currency\"])"
   ]
  },
  {
   "cell_type": "code",
   "execution_count": 108,
   "id": "7d6a4470",
   "metadata": {},
   "outputs": [],
   "source": [
    "data.drop(labels=['currency_context'], axis=1, inplace=True)"
   ]
  },
  {
   "cell_type": "markdown",
   "id": "7d8a53f0",
   "metadata": {},
   "source": [
    "## Handle AUD/NZD values"
   ]
  },
  {
   "cell_type": "code",
   "execution_count": 120,
   "id": "216a72b2",
   "metadata": {},
   "outputs": [],
   "source": [
    "def split_currencies(row):\n",
    "    currency = row['currency']\n",
    "    \n",
    "    if currency != 'AUD/NZD':\n",
    "        return currency\n",
    "\n",
    "    country = row['country']\n",
    "    \n",
    "    if country == 'Australia':\n",
    "        return 'AUD'\n",
    "    if country == 'New Zealand':\n",
    "        return 'NZD'\n",
    "    return np.nan"
   ]
  },
  {
   "cell_type": "code",
   "execution_count": 121,
   "id": "f627c5e1",
   "metadata": {},
   "outputs": [],
   "source": [
    "data['currency'] = data.apply(lambda row: split_currencies(row), axis=1)"
   ]
  },
  {
   "cell_type": "markdown",
   "id": "c86e111e",
   "metadata": {},
   "source": [
    "## Clean manually "
   ]
  },
  {
   "cell_type": "code",
   "execution_count": 122,
   "id": "4365d7eb",
   "metadata": {
    "scrolled": true
   },
   "outputs": [
    {
     "data": {
      "text/plain": [
       "ILS/NIS                     1\n",
       "Indian rupees               1\n",
       "Philippine Peso             1\n",
       "Rupees                      1\n",
       "Argentine Peso              1\n",
       "US Dollar                   1\n",
       "DKK                         1\n",
       "SGD                         1\n",
       "Mexican pesos               1\n",
       "Korean Won                  1\n",
       "Equity                      1\n",
       "American Dollars            1\n",
       "THAI  BAHT                  1\n",
       "Taiwanese dollars           1\n",
       "PLN (Polish zloty)          1\n",
       "Peso Argentino              1\n",
       "Singapore Dollara           1\n",
       "RMB (chinese yuan)          1\n",
       "Norwegian kroner (NOK)      1\n",
       "Euro                        1\n",
       "Philippine peso (PHP)       1\n",
       "Danish Kroner               1\n",
       "Israeli Shekels             1\n",
       "Thai Baht                   1\n",
       "KRW (Korean Won)            1\n",
       "Philippine Pesos            1\n",
       "ILS (Shekel)                1\n",
       "NIS (new Israeli shekel)    1\n",
       "IDR                         1\n",
       "BRL (R$)                    1\n",
       "PhP (Philippine Peso)       1\n",
       "INR (Indian Rupee)          1\n",
       "Australian Dollars          1\n",
       "Argentinian peso (ARS)      1\n",
       "China RMB                   1\n",
       "PLN (Zwoty)                 1\n",
       "Mexican Pesos               1\n",
       "Polish Złoty                1\n",
       "czech crowns                1\n",
       "croatian kuna               1\n",
       "AUD Australian              1\n",
       "Name: currency, dtype: int64"
      ]
     },
     "execution_count": 122,
     "metadata": {},
     "output_type": "execute_result"
    }
   ],
   "source": [
    "data['currency'][data['currency'].str.len() > 3].value_counts()"
   ]
  },
  {
   "cell_type": "code",
   "execution_count": 133,
   "id": "4f205567",
   "metadata": {},
   "outputs": [],
   "source": [
    "messy_currencies = data['currency'][data['currency'].str.len() > 3].to_list()\n",
    "right_currencies = ['ARP', 'INR', 'BRL', 'MXN', 'USD', 'PLN', 'CZK', 'NOK', 'ILS', 'USD', 'NIS', 'RMB', 'TWD', 'PHP', 'KRW', 'IDR', 'ILS', 'DKK', 'RMB', 'AUD', 'PLN', 'PHP', 'AUD', np.nan, 'ARS', 'ILS', 'PHP', 'ARP', 'PHP', 'INR', 'DKK', 'KRW', 'EUR', 'SGD', 'MXN', 'THB', 'THB', 'HRK', 'PLN', 'INR', 'SGD']\n",
    "\n",
    "data['currency'] = data['currency'].replace(messy_currencies, right_currencies)"
   ]
  },
  {
   "cell_type": "markdown",
   "id": "ea99e002",
   "metadata": {},
   "source": [
    "## USD rate\n",
    "To have a consistent analysis for the salary values, we need to have only one currency (e.g. USD)."
   ]
  },
  {
   "cell_type": "code",
   "execution_count": 142,
   "id": "8671130e",
   "metadata": {},
   "outputs": [
    {
     "name": "stdout",
     "output_type": "stream",
     "text": [
      "Requirement already satisfied: forex_python in c:\\users\\wiewi\\appdata\\local\\programs\\python\\python37\\lib\\site-packages (1.8)\n",
      "Requirement already satisfied: requests in c:\\users\\wiewi\\appdata\\roaming\\python\\python37\\site-packages (from forex_python) (2.24.0)\n",
      "Requirement already satisfied: simplejson in c:\\users\\wiewi\\appdata\\local\\programs\\python\\python37\\lib\\site-packages (from forex_python) (3.17.6)\n",
      "Requirement already satisfied: idna<3,>=2.5 in c:\\users\\wiewi\\appdata\\roaming\\python\\python37\\site-packages (from requests->forex_python) (2.10)\n",
      "Requirement already satisfied: certifi>=2017.4.17 in c:\\users\\wiewi\\appdata\\local\\programs\\python\\python37\\lib\\site-packages (from requests->forex_python) (2020.6.20)\n",
      "Requirement already satisfied: chardet<4,>=3.0.2 in c:\\users\\wiewi\\appdata\\roaming\\python\\python37\\site-packages (from requests->forex_python) (3.0.4)\n",
      "Requirement already satisfied: urllib3!=1.25.0,!=1.25.1,<1.26,>=1.21.1 in c:\\users\\wiewi\\appdata\\roaming\\python\\python37\\site-packages (from requests->forex_python) (1.25.10)\n"
     ]
    },
    {
     "name": "stderr",
     "output_type": "stream",
     "text": [
      "WARNING: You are using pip version 20.1.1; however, version 22.2 is available.\n",
      "You should consider upgrading via the 'c:\\users\\wiewi\\appdata\\local\\programs\\python\\python37\\python.exe -m pip install --upgrade pip' command.\n"
     ]
    }
   ],
   "source": [
    "!pip install forex_python\n",
    "from forex_python.converter import CurrencyRates"
   ]
  },
  {
   "cell_type": "code",
   "execution_count": 143,
   "id": "453791c0",
   "metadata": {},
   "outputs": [],
   "source": [
    "currency_rates = CurrencyRates()"
   ]
  },
  {
   "cell_type": "code",
   "execution_count": 144,
   "id": "9f379f47",
   "metadata": {},
   "outputs": [],
   "source": [
    "from datetime import timedelta\n",
    "\n",
    "\n",
    "def to_USD_rate(row):\n",
    "    currency = row['currency']\n",
    "    datatime = pd.to_datetime(row['timestamp'])\n",
    "    \n",
    "    try:\n",
    "        return currency_rates.get_rate(currency, 'USD', datatime)\n",
    "    except:\n",
    "        return np.nan"
   ]
  },
  {
   "cell_type": "code",
   "execution_count": null,
   "id": "8f65dd1c",
   "metadata": {},
   "outputs": [],
   "source": [
    "data['USD_rate'] = data.apply(lambda row: to_USD_rate(row), axis=1)"
   ]
  },
  {
   "cell_type": "code",
   "execution_count": null,
   "id": "df647ab8",
   "metadata": {},
   "outputs": [],
   "source": [
    "data[['currency', 'USD_rate']]"
   ]
  },
  {
   "cell_type": "code",
   "execution_count": null,
   "id": "b6c1f757",
   "metadata": {},
   "outputs": [],
   "source": [
    "data['currency'][data['USD_rate'] == np.nan]"
   ]
  },
  {
   "cell_type": "markdown",
   "id": "639296b9",
   "metadata": {},
   "source": [
    "# Numeric data\n",
    "Lets handle numeric data now.\n",
    "\n",
    "**Numeric features include:**\n",
    "- `annual_salary`\n",
    "- `additional_salary`"
   ]
  },
  {
   "cell_type": "markdown",
   "id": "cb334bc4",
   "metadata": {},
   "source": [
    "## Annual salary"
   ]
  },
  {
   "cell_type": "code",
   "execution_count": null,
   "id": "873721c7",
   "metadata": {},
   "outputs": [],
   "source": [
    "data['annual_salary']"
   ]
  }
 ],
 "metadata": {
  "kernelspec": {
   "display_name": "Python 3",
   "language": "python",
   "name": "python3"
  },
  "language_info": {
   "codemirror_mode": {
    "name": "ipython",
    "version": 3
   },
   "file_extension": ".py",
   "mimetype": "text/x-python",
   "name": "python",
   "nbconvert_exporter": "python",
   "pygments_lexer": "ipython3",
   "version": "3.7.9"
  }
 },
 "nbformat": 4,
 "nbformat_minor": 5
}
